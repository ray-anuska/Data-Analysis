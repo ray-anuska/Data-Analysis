{
  "nbformat": 4,
  "nbformat_minor": 0,
  "metadata": {
    "colab": {
      "provenance": []
    },
    "kernelspec": {
      "name": "python3",
      "display_name": "Python 3"
    },
    "language_info": {
      "name": "python"
    }
  },
  "cells": [
    {
      "cell_type": "code",
      "execution_count": null,
      "metadata": {
        "id": "Gn-JtEBRIVHw"
      },
      "outputs": [],
      "source": [
        "import numpy as np\n",
        "import pandas as pd\n",
        "import matplotlib.pyplot as plt\n",
        "import seaborn as sns\n",
        "import plotly.express as px\n",
        "import plotly.graph_objects as go \n",
        "import plotly.offline as py\n",
        "from plotly.subplots import make_subplots"
      ]
    },
    {
      "cell_type": "code",
      "source": [
        "url = 'https://raw.githubusercontent.com/ray-anuska/Data-Analysis/master/diabetes.csv?token=GHSAT0AAAAAAB33426FJECQ33M6UNBLXI2QY5PAYDQ'\n",
        "df = pd.read_csv(url)\n",
        "df"
      ],
      "metadata": {
        "colab": {
          "base_uri": "https://localhost:8080/",
          "height": 424
        },
        "id": "IhrK4wjGJdpA",
        "outputId": "bd619868-caf3-4aee-f86c-860b1de6cfad"
      },
      "execution_count": null,
      "outputs": [
        {
          "output_type": "execute_result",
          "data": {
            "text/plain": [
              "     Pregnancies  Glucose  BloodPressure  SkinThickness  Insulin   BMI  \\\n",
              "0              6      148             72             35        0  33.6   \n",
              "1              1       85             66             29        0  26.6   \n",
              "2              8      183             64              0        0  23.3   \n",
              "3              1       89             66             23       94  28.1   \n",
              "4              0      137             40             35      168  43.1   \n",
              "..           ...      ...            ...            ...      ...   ...   \n",
              "763           10      101             76             48      180  32.9   \n",
              "764            2      122             70             27        0  36.8   \n",
              "765            5      121             72             23      112  26.2   \n",
              "766            1      126             60              0        0  30.1   \n",
              "767            1       93             70             31        0  30.4   \n",
              "\n",
              "     DiabetesPedigreeFunction  Age  Outcome  \n",
              "0                       0.627   50        1  \n",
              "1                       0.351   31        0  \n",
              "2                       0.672   32        1  \n",
              "3                       0.167   21        0  \n",
              "4                       2.288   33        1  \n",
              "..                        ...  ...      ...  \n",
              "763                     0.171   63        0  \n",
              "764                     0.340   27        0  \n",
              "765                     0.245   30        0  \n",
              "766                     0.349   47        1  \n",
              "767                     0.315   23        0  \n",
              "\n",
              "[768 rows x 9 columns]"
            ],
            "text/html": [
              "\n",
              "  <div id=\"df-18c1792a-e9e0-4919-afa7-e03f3df37fb9\">\n",
              "    <div class=\"colab-df-container\">\n",
              "      <div>\n",
              "<style scoped>\n",
              "    .dataframe tbody tr th:only-of-type {\n",
              "        vertical-align: middle;\n",
              "    }\n",
              "\n",
              "    .dataframe tbody tr th {\n",
              "        vertical-align: top;\n",
              "    }\n",
              "\n",
              "    .dataframe thead th {\n",
              "        text-align: right;\n",
              "    }\n",
              "</style>\n",
              "<table border=\"1\" class=\"dataframe\">\n",
              "  <thead>\n",
              "    <tr style=\"text-align: right;\">\n",
              "      <th></th>\n",
              "      <th>Pregnancies</th>\n",
              "      <th>Glucose</th>\n",
              "      <th>BloodPressure</th>\n",
              "      <th>SkinThickness</th>\n",
              "      <th>Insulin</th>\n",
              "      <th>BMI</th>\n",
              "      <th>DiabetesPedigreeFunction</th>\n",
              "      <th>Age</th>\n",
              "      <th>Outcome</th>\n",
              "    </tr>\n",
              "  </thead>\n",
              "  <tbody>\n",
              "    <tr>\n",
              "      <th>0</th>\n",
              "      <td>6</td>\n",
              "      <td>148</td>\n",
              "      <td>72</td>\n",
              "      <td>35</td>\n",
              "      <td>0</td>\n",
              "      <td>33.6</td>\n",
              "      <td>0.627</td>\n",
              "      <td>50</td>\n",
              "      <td>1</td>\n",
              "    </tr>\n",
              "    <tr>\n",
              "      <th>1</th>\n",
              "      <td>1</td>\n",
              "      <td>85</td>\n",
              "      <td>66</td>\n",
              "      <td>29</td>\n",
              "      <td>0</td>\n",
              "      <td>26.6</td>\n",
              "      <td>0.351</td>\n",
              "      <td>31</td>\n",
              "      <td>0</td>\n",
              "    </tr>\n",
              "    <tr>\n",
              "      <th>2</th>\n",
              "      <td>8</td>\n",
              "      <td>183</td>\n",
              "      <td>64</td>\n",
              "      <td>0</td>\n",
              "      <td>0</td>\n",
              "      <td>23.3</td>\n",
              "      <td>0.672</td>\n",
              "      <td>32</td>\n",
              "      <td>1</td>\n",
              "    </tr>\n",
              "    <tr>\n",
              "      <th>3</th>\n",
              "      <td>1</td>\n",
              "      <td>89</td>\n",
              "      <td>66</td>\n",
              "      <td>23</td>\n",
              "      <td>94</td>\n",
              "      <td>28.1</td>\n",
              "      <td>0.167</td>\n",
              "      <td>21</td>\n",
              "      <td>0</td>\n",
              "    </tr>\n",
              "    <tr>\n",
              "      <th>4</th>\n",
              "      <td>0</td>\n",
              "      <td>137</td>\n",
              "      <td>40</td>\n",
              "      <td>35</td>\n",
              "      <td>168</td>\n",
              "      <td>43.1</td>\n",
              "      <td>2.288</td>\n",
              "      <td>33</td>\n",
              "      <td>1</td>\n",
              "    </tr>\n",
              "    <tr>\n",
              "      <th>...</th>\n",
              "      <td>...</td>\n",
              "      <td>...</td>\n",
              "      <td>...</td>\n",
              "      <td>...</td>\n",
              "      <td>...</td>\n",
              "      <td>...</td>\n",
              "      <td>...</td>\n",
              "      <td>...</td>\n",
              "      <td>...</td>\n",
              "    </tr>\n",
              "    <tr>\n",
              "      <th>763</th>\n",
              "      <td>10</td>\n",
              "      <td>101</td>\n",
              "      <td>76</td>\n",
              "      <td>48</td>\n",
              "      <td>180</td>\n",
              "      <td>32.9</td>\n",
              "      <td>0.171</td>\n",
              "      <td>63</td>\n",
              "      <td>0</td>\n",
              "    </tr>\n",
              "    <tr>\n",
              "      <th>764</th>\n",
              "      <td>2</td>\n",
              "      <td>122</td>\n",
              "      <td>70</td>\n",
              "      <td>27</td>\n",
              "      <td>0</td>\n",
              "      <td>36.8</td>\n",
              "      <td>0.340</td>\n",
              "      <td>27</td>\n",
              "      <td>0</td>\n",
              "    </tr>\n",
              "    <tr>\n",
              "      <th>765</th>\n",
              "      <td>5</td>\n",
              "      <td>121</td>\n",
              "      <td>72</td>\n",
              "      <td>23</td>\n",
              "      <td>112</td>\n",
              "      <td>26.2</td>\n",
              "      <td>0.245</td>\n",
              "      <td>30</td>\n",
              "      <td>0</td>\n",
              "    </tr>\n",
              "    <tr>\n",
              "      <th>766</th>\n",
              "      <td>1</td>\n",
              "      <td>126</td>\n",
              "      <td>60</td>\n",
              "      <td>0</td>\n",
              "      <td>0</td>\n",
              "      <td>30.1</td>\n",
              "      <td>0.349</td>\n",
              "      <td>47</td>\n",
              "      <td>1</td>\n",
              "    </tr>\n",
              "    <tr>\n",
              "      <th>767</th>\n",
              "      <td>1</td>\n",
              "      <td>93</td>\n",
              "      <td>70</td>\n",
              "      <td>31</td>\n",
              "      <td>0</td>\n",
              "      <td>30.4</td>\n",
              "      <td>0.315</td>\n",
              "      <td>23</td>\n",
              "      <td>0</td>\n",
              "    </tr>\n",
              "  </tbody>\n",
              "</table>\n",
              "<p>768 rows × 9 columns</p>\n",
              "</div>\n",
              "      <button class=\"colab-df-convert\" onclick=\"convertToInteractive('df-18c1792a-e9e0-4919-afa7-e03f3df37fb9')\"\n",
              "              title=\"Convert this dataframe to an interactive table.\"\n",
              "              style=\"display:none;\">\n",
              "        \n",
              "  <svg xmlns=\"http://www.w3.org/2000/svg\" height=\"24px\"viewBox=\"0 0 24 24\"\n",
              "       width=\"24px\">\n",
              "    <path d=\"M0 0h24v24H0V0z\" fill=\"none\"/>\n",
              "    <path d=\"M18.56 5.44l.94 2.06.94-2.06 2.06-.94-2.06-.94-.94-2.06-.94 2.06-2.06.94zm-11 1L8.5 8.5l.94-2.06 2.06-.94-2.06-.94L8.5 2.5l-.94 2.06-2.06.94zm10 10l.94 2.06.94-2.06 2.06-.94-2.06-.94-.94-2.06-.94 2.06-2.06.94z\"/><path d=\"M17.41 7.96l-1.37-1.37c-.4-.4-.92-.59-1.43-.59-.52 0-1.04.2-1.43.59L10.3 9.45l-7.72 7.72c-.78.78-.78 2.05 0 2.83L4 21.41c.39.39.9.59 1.41.59.51 0 1.02-.2 1.41-.59l7.78-7.78 2.81-2.81c.8-.78.8-2.07 0-2.86zM5.41 20L4 18.59l7.72-7.72 1.47 1.35L5.41 20z\"/>\n",
              "  </svg>\n",
              "      </button>\n",
              "      \n",
              "  <style>\n",
              "    .colab-df-container {\n",
              "      display:flex;\n",
              "      flex-wrap:wrap;\n",
              "      gap: 12px;\n",
              "    }\n",
              "\n",
              "    .colab-df-convert {\n",
              "      background-color: #E8F0FE;\n",
              "      border: none;\n",
              "      border-radius: 50%;\n",
              "      cursor: pointer;\n",
              "      display: none;\n",
              "      fill: #1967D2;\n",
              "      height: 32px;\n",
              "      padding: 0 0 0 0;\n",
              "      width: 32px;\n",
              "    }\n",
              "\n",
              "    .colab-df-convert:hover {\n",
              "      background-color: #E2EBFA;\n",
              "      box-shadow: 0px 1px 2px rgba(60, 64, 67, 0.3), 0px 1px 3px 1px rgba(60, 64, 67, 0.15);\n",
              "      fill: #174EA6;\n",
              "    }\n",
              "\n",
              "    [theme=dark] .colab-df-convert {\n",
              "      background-color: #3B4455;\n",
              "      fill: #D2E3FC;\n",
              "    }\n",
              "\n",
              "    [theme=dark] .colab-df-convert:hover {\n",
              "      background-color: #434B5C;\n",
              "      box-shadow: 0px 1px 3px 1px rgba(0, 0, 0, 0.15);\n",
              "      filter: drop-shadow(0px 1px 2px rgba(0, 0, 0, 0.3));\n",
              "      fill: #FFFFFF;\n",
              "    }\n",
              "  </style>\n",
              "\n",
              "      <script>\n",
              "        const buttonEl =\n",
              "          document.querySelector('#df-18c1792a-e9e0-4919-afa7-e03f3df37fb9 button.colab-df-convert');\n",
              "        buttonEl.style.display =\n",
              "          google.colab.kernel.accessAllowed ? 'block' : 'none';\n",
              "\n",
              "        async function convertToInteractive(key) {\n",
              "          const element = document.querySelector('#df-18c1792a-e9e0-4919-afa7-e03f3df37fb9');\n",
              "          const dataTable =\n",
              "            await google.colab.kernel.invokeFunction('convertToInteractive',\n",
              "                                                     [key], {});\n",
              "          if (!dataTable) return;\n",
              "\n",
              "          const docLinkHtml = 'Like what you see? Visit the ' +\n",
              "            '<a target=\"_blank\" href=https://colab.research.google.com/notebooks/data_table.ipynb>data table notebook</a>'\n",
              "            + ' to learn more about interactive tables.';\n",
              "          element.innerHTML = '';\n",
              "          dataTable['output_type'] = 'display_data';\n",
              "          await google.colab.output.renderOutput(dataTable, element);\n",
              "          const docLink = document.createElement('div');\n",
              "          docLink.innerHTML = docLinkHtml;\n",
              "          element.appendChild(docLink);\n",
              "        }\n",
              "      </script>\n",
              "    </div>\n",
              "  </div>\n",
              "  "
            ]
          },
          "metadata": {},
          "execution_count": 3
        }
      ]
    },
    {
      "cell_type": "code",
      "source": [
        "df.info()"
      ],
      "metadata": {
        "id": "Xyses1MfJitW",
        "colab": {
          "base_uri": "https://localhost:8080/"
        },
        "outputId": "a33e811b-3d79-41d3-d784-1952f45186d4"
      },
      "execution_count": null,
      "outputs": [
        {
          "output_type": "stream",
          "name": "stdout",
          "text": [
            "<class 'pandas.core.frame.DataFrame'>\n",
            "RangeIndex: 768 entries, 0 to 767\n",
            "Data columns (total 9 columns):\n",
            " #   Column                    Non-Null Count  Dtype  \n",
            "---  ------                    --------------  -----  \n",
            " 0   Pregnancies               768 non-null    int64  \n",
            " 1   Glucose                   768 non-null    int64  \n",
            " 2   BloodPressure             768 non-null    int64  \n",
            " 3   SkinThickness             768 non-null    int64  \n",
            " 4   Insulin                   768 non-null    int64  \n",
            " 5   BMI                       768 non-null    float64\n",
            " 6   DiabetesPedigreeFunction  768 non-null    float64\n",
            " 7   Age                       768 non-null    int64  \n",
            " 8   Outcome                   768 non-null    int64  \n",
            "dtypes: float64(2), int64(7)\n",
            "memory usage: 54.1 KB\n"
          ]
        }
      ]
    },
    {
      "cell_type": "code",
      "source": [
        "df.describe()"
      ],
      "metadata": {
        "id": "iaZdDRZKLhHP",
        "colab": {
          "base_uri": "https://localhost:8080/",
          "height": 300
        },
        "outputId": "1b4aa05d-d1f2-459d-f759-bc4e03c88c3a"
      },
      "execution_count": null,
      "outputs": [
        {
          "output_type": "execute_result",
          "data": {
            "text/plain": [
              "       Pregnancies     Glucose  BloodPressure  SkinThickness     Insulin  \\\n",
              "count   768.000000  768.000000     768.000000     768.000000  768.000000   \n",
              "mean      3.845052  120.894531      69.105469      20.536458   79.799479   \n",
              "std       3.369578   31.972618      19.355807      15.952218  115.244002   \n",
              "min       0.000000    0.000000       0.000000       0.000000    0.000000   \n",
              "25%       1.000000   99.000000      62.000000       0.000000    0.000000   \n",
              "50%       3.000000  117.000000      72.000000      23.000000   30.500000   \n",
              "75%       6.000000  140.250000      80.000000      32.000000  127.250000   \n",
              "max      17.000000  199.000000     122.000000      99.000000  846.000000   \n",
              "\n",
              "              BMI  DiabetesPedigreeFunction         Age     Outcome  \n",
              "count  768.000000                768.000000  768.000000  768.000000  \n",
              "mean    31.992578                  0.471876   33.240885    0.348958  \n",
              "std      7.884160                  0.331329   11.760232    0.476951  \n",
              "min      0.000000                  0.078000   21.000000    0.000000  \n",
              "25%     27.300000                  0.243750   24.000000    0.000000  \n",
              "50%     32.000000                  0.372500   29.000000    0.000000  \n",
              "75%     36.600000                  0.626250   41.000000    1.000000  \n",
              "max     67.100000                  2.420000   81.000000    1.000000  "
            ],
            "text/html": [
              "\n",
              "  <div id=\"df-f4028771-8997-4424-a9e4-8ebaefc8f584\">\n",
              "    <div class=\"colab-df-container\">\n",
              "      <div>\n",
              "<style scoped>\n",
              "    .dataframe tbody tr th:only-of-type {\n",
              "        vertical-align: middle;\n",
              "    }\n",
              "\n",
              "    .dataframe tbody tr th {\n",
              "        vertical-align: top;\n",
              "    }\n",
              "\n",
              "    .dataframe thead th {\n",
              "        text-align: right;\n",
              "    }\n",
              "</style>\n",
              "<table border=\"1\" class=\"dataframe\">\n",
              "  <thead>\n",
              "    <tr style=\"text-align: right;\">\n",
              "      <th></th>\n",
              "      <th>Pregnancies</th>\n",
              "      <th>Glucose</th>\n",
              "      <th>BloodPressure</th>\n",
              "      <th>SkinThickness</th>\n",
              "      <th>Insulin</th>\n",
              "      <th>BMI</th>\n",
              "      <th>DiabetesPedigreeFunction</th>\n",
              "      <th>Age</th>\n",
              "      <th>Outcome</th>\n",
              "    </tr>\n",
              "  </thead>\n",
              "  <tbody>\n",
              "    <tr>\n",
              "      <th>count</th>\n",
              "      <td>768.000000</td>\n",
              "      <td>768.000000</td>\n",
              "      <td>768.000000</td>\n",
              "      <td>768.000000</td>\n",
              "      <td>768.000000</td>\n",
              "      <td>768.000000</td>\n",
              "      <td>768.000000</td>\n",
              "      <td>768.000000</td>\n",
              "      <td>768.000000</td>\n",
              "    </tr>\n",
              "    <tr>\n",
              "      <th>mean</th>\n",
              "      <td>3.845052</td>\n",
              "      <td>120.894531</td>\n",
              "      <td>69.105469</td>\n",
              "      <td>20.536458</td>\n",
              "      <td>79.799479</td>\n",
              "      <td>31.992578</td>\n",
              "      <td>0.471876</td>\n",
              "      <td>33.240885</td>\n",
              "      <td>0.348958</td>\n",
              "    </tr>\n",
              "    <tr>\n",
              "      <th>std</th>\n",
              "      <td>3.369578</td>\n",
              "      <td>31.972618</td>\n",
              "      <td>19.355807</td>\n",
              "      <td>15.952218</td>\n",
              "      <td>115.244002</td>\n",
              "      <td>7.884160</td>\n",
              "      <td>0.331329</td>\n",
              "      <td>11.760232</td>\n",
              "      <td>0.476951</td>\n",
              "    </tr>\n",
              "    <tr>\n",
              "      <th>min</th>\n",
              "      <td>0.000000</td>\n",
              "      <td>0.000000</td>\n",
              "      <td>0.000000</td>\n",
              "      <td>0.000000</td>\n",
              "      <td>0.000000</td>\n",
              "      <td>0.000000</td>\n",
              "      <td>0.078000</td>\n",
              "      <td>21.000000</td>\n",
              "      <td>0.000000</td>\n",
              "    </tr>\n",
              "    <tr>\n",
              "      <th>25%</th>\n",
              "      <td>1.000000</td>\n",
              "      <td>99.000000</td>\n",
              "      <td>62.000000</td>\n",
              "      <td>0.000000</td>\n",
              "      <td>0.000000</td>\n",
              "      <td>27.300000</td>\n",
              "      <td>0.243750</td>\n",
              "      <td>24.000000</td>\n",
              "      <td>0.000000</td>\n",
              "    </tr>\n",
              "    <tr>\n",
              "      <th>50%</th>\n",
              "      <td>3.000000</td>\n",
              "      <td>117.000000</td>\n",
              "      <td>72.000000</td>\n",
              "      <td>23.000000</td>\n",
              "      <td>30.500000</td>\n",
              "      <td>32.000000</td>\n",
              "      <td>0.372500</td>\n",
              "      <td>29.000000</td>\n",
              "      <td>0.000000</td>\n",
              "    </tr>\n",
              "    <tr>\n",
              "      <th>75%</th>\n",
              "      <td>6.000000</td>\n",
              "      <td>140.250000</td>\n",
              "      <td>80.000000</td>\n",
              "      <td>32.000000</td>\n",
              "      <td>127.250000</td>\n",
              "      <td>36.600000</td>\n",
              "      <td>0.626250</td>\n",
              "      <td>41.000000</td>\n",
              "      <td>1.000000</td>\n",
              "    </tr>\n",
              "    <tr>\n",
              "      <th>max</th>\n",
              "      <td>17.000000</td>\n",
              "      <td>199.000000</td>\n",
              "      <td>122.000000</td>\n",
              "      <td>99.000000</td>\n",
              "      <td>846.000000</td>\n",
              "      <td>67.100000</td>\n",
              "      <td>2.420000</td>\n",
              "      <td>81.000000</td>\n",
              "      <td>1.000000</td>\n",
              "    </tr>\n",
              "  </tbody>\n",
              "</table>\n",
              "</div>\n",
              "      <button class=\"colab-df-convert\" onclick=\"convertToInteractive('df-f4028771-8997-4424-a9e4-8ebaefc8f584')\"\n",
              "              title=\"Convert this dataframe to an interactive table.\"\n",
              "              style=\"display:none;\">\n",
              "        \n",
              "  <svg xmlns=\"http://www.w3.org/2000/svg\" height=\"24px\"viewBox=\"0 0 24 24\"\n",
              "       width=\"24px\">\n",
              "    <path d=\"M0 0h24v24H0V0z\" fill=\"none\"/>\n",
              "    <path d=\"M18.56 5.44l.94 2.06.94-2.06 2.06-.94-2.06-.94-.94-2.06-.94 2.06-2.06.94zm-11 1L8.5 8.5l.94-2.06 2.06-.94-2.06-.94L8.5 2.5l-.94 2.06-2.06.94zm10 10l.94 2.06.94-2.06 2.06-.94-2.06-.94-.94-2.06-.94 2.06-2.06.94z\"/><path d=\"M17.41 7.96l-1.37-1.37c-.4-.4-.92-.59-1.43-.59-.52 0-1.04.2-1.43.59L10.3 9.45l-7.72 7.72c-.78.78-.78 2.05 0 2.83L4 21.41c.39.39.9.59 1.41.59.51 0 1.02-.2 1.41-.59l7.78-7.78 2.81-2.81c.8-.78.8-2.07 0-2.86zM5.41 20L4 18.59l7.72-7.72 1.47 1.35L5.41 20z\"/>\n",
              "  </svg>\n",
              "      </button>\n",
              "      \n",
              "  <style>\n",
              "    .colab-df-container {\n",
              "      display:flex;\n",
              "      flex-wrap:wrap;\n",
              "      gap: 12px;\n",
              "    }\n",
              "\n",
              "    .colab-df-convert {\n",
              "      background-color: #E8F0FE;\n",
              "      border: none;\n",
              "      border-radius: 50%;\n",
              "      cursor: pointer;\n",
              "      display: none;\n",
              "      fill: #1967D2;\n",
              "      height: 32px;\n",
              "      padding: 0 0 0 0;\n",
              "      width: 32px;\n",
              "    }\n",
              "\n",
              "    .colab-df-convert:hover {\n",
              "      background-color: #E2EBFA;\n",
              "      box-shadow: 0px 1px 2px rgba(60, 64, 67, 0.3), 0px 1px 3px 1px rgba(60, 64, 67, 0.15);\n",
              "      fill: #174EA6;\n",
              "    }\n",
              "\n",
              "    [theme=dark] .colab-df-convert {\n",
              "      background-color: #3B4455;\n",
              "      fill: #D2E3FC;\n",
              "    }\n",
              "\n",
              "    [theme=dark] .colab-df-convert:hover {\n",
              "      background-color: #434B5C;\n",
              "      box-shadow: 0px 1px 3px 1px rgba(0, 0, 0, 0.15);\n",
              "      filter: drop-shadow(0px 1px 2px rgba(0, 0, 0, 0.3));\n",
              "      fill: #FFFFFF;\n",
              "    }\n",
              "  </style>\n",
              "\n",
              "      <script>\n",
              "        const buttonEl =\n",
              "          document.querySelector('#df-f4028771-8997-4424-a9e4-8ebaefc8f584 button.colab-df-convert');\n",
              "        buttonEl.style.display =\n",
              "          google.colab.kernel.accessAllowed ? 'block' : 'none';\n",
              "\n",
              "        async function convertToInteractive(key) {\n",
              "          const element = document.querySelector('#df-f4028771-8997-4424-a9e4-8ebaefc8f584');\n",
              "          const dataTable =\n",
              "            await google.colab.kernel.invokeFunction('convertToInteractive',\n",
              "                                                     [key], {});\n",
              "          if (!dataTable) return;\n",
              "\n",
              "          const docLinkHtml = 'Like what you see? Visit the ' +\n",
              "            '<a target=\"_blank\" href=https://colab.research.google.com/notebooks/data_table.ipynb>data table notebook</a>'\n",
              "            + ' to learn more about interactive tables.';\n",
              "          element.innerHTML = '';\n",
              "          dataTable['output_type'] = 'display_data';\n",
              "          await google.colab.output.renderOutput(dataTable, element);\n",
              "          const docLink = document.createElement('div');\n",
              "          docLink.innerHTML = docLinkHtml;\n",
              "          element.appendChild(docLink);\n",
              "        }\n",
              "      </script>\n",
              "    </div>\n",
              "  </div>\n",
              "  "
            ]
          },
          "metadata": {},
          "execution_count": 5
        }
      ]
    },
    {
      "cell_type": "code",
      "source": [
        "df.shape"
      ],
      "metadata": {
        "id": "T9JGscR6Liy7",
        "colab": {
          "base_uri": "https://localhost:8080/"
        },
        "outputId": "d369c99e-fbdb-410d-e455-725db489faad"
      },
      "execution_count": null,
      "outputs": [
        {
          "output_type": "execute_result",
          "data": {
            "text/plain": [
              "(768, 9)"
            ]
          },
          "metadata": {},
          "execution_count": 6
        }
      ]
    },
    {
      "cell_type": "code",
      "source": [
        "df.nunique()"
      ],
      "metadata": {
        "id": "tmOQPIcfLkI2",
        "colab": {
          "base_uri": "https://localhost:8080/"
        },
        "outputId": "7dbeb36f-35a3-4014-be78-e868697bf487"
      },
      "execution_count": null,
      "outputs": [
        {
          "output_type": "execute_result",
          "data": {
            "text/plain": [
              "Pregnancies                  17\n",
              "Glucose                     136\n",
              "BloodPressure                47\n",
              "SkinThickness                51\n",
              "Insulin                     186\n",
              "BMI                         248\n",
              "DiabetesPedigreeFunction    517\n",
              "Age                          52\n",
              "Outcome                       2\n",
              "dtype: int64"
            ]
          },
          "metadata": {},
          "execution_count": 7
        }
      ]
    },
    {
      "cell_type": "code",
      "source": [
        "df.isnull().sum()"
      ],
      "metadata": {
        "id": "tLLzSVb8U2uy",
        "colab": {
          "base_uri": "https://localhost:8080/"
        },
        "outputId": "801f64b5-6ddf-4949-a701-0c939bb84bb7"
      },
      "execution_count": null,
      "outputs": [
        {
          "output_type": "execute_result",
          "data": {
            "text/plain": [
              "Pregnancies                 0\n",
              "Glucose                     0\n",
              "BloodPressure               0\n",
              "SkinThickness               0\n",
              "Insulin                     0\n",
              "BMI                         0\n",
              "DiabetesPedigreeFunction    0\n",
              "Age                         0\n",
              "Outcome                     0\n",
              "dtype: int64"
            ]
          },
          "metadata": {},
          "execution_count": 8
        }
      ]
    },
    {
      "cell_type": "markdown",
      "source": [
        "This tells us that there are no null values in the dataset. But this does not necessarily mean it is a very clean dataset. If we see the description then it can be observed that for some columns the minimum is 0. Now, Pregnancies can be zero realistically but BloodPressure can never be zero for a person. Same is true for Insulin, BMI, Glucose and Skin Thickness suggesting that the zeroes here are the null values, having been placed to fill up the spaces that were empty. \n",
        "\n",
        "\n",
        "Therefore, to make things clearer, it is best to replace those zeros with NaN."
      ],
      "metadata": {
        "id": "CNvd5b6LiZcC"
      }
    },
    {
      "cell_type": "code",
      "source": [
        "df_copy = df.copy(deep = True)\n",
        "df_copy[['Glucose', 'BloodPressure', 'SkinThickness', 'BMI', 'Insulin']] = df_copy[['Glucose', 'BloodPressure', 'SkinThickness', 'BMI', 'Insulin']].replace(0, np.NaN)\n",
        "\n",
        "print(df_copy.isnull().sum())"
      ],
      "metadata": {
        "colab": {
          "base_uri": "https://localhost:8080/"
        },
        "id": "l11T34UEhr0b",
        "outputId": "f984b448-8326-4f22-dac0-e0bee956b78d"
      },
      "execution_count": null,
      "outputs": [
        {
          "output_type": "stream",
          "name": "stdout",
          "text": [
            "Pregnancies                   0\n",
            "Glucose                       5\n",
            "BloodPressure                35\n",
            "SkinThickness               227\n",
            "Insulin                     374\n",
            "BMI                          11\n",
            "DiabetesPedigreeFunction      0\n",
            "Age                           0\n",
            "Outcome                       0\n",
            "dtype: int64\n"
          ]
        }
      ]
    },
    {
      "cell_type": "code",
      "source": [
        "correlation = df.corr() \n",
        "sns.heatmap(correlation, xticklabels = correlation.columns, yticklabels = correlation.columns, annot = True)"
      ],
      "metadata": {
        "id": "FnaFJRPNYjuN",
        "colab": {
          "base_uri": "https://localhost:8080/",
          "height": 407
        },
        "outputId": "d0da2231-d346-4e55-c43c-f2e27cf57455"
      },
      "execution_count": null,
      "outputs": [
        {
          "output_type": "execute_result",
          "data": {
            "text/plain": [
              "<matplotlib.axes._subplots.AxesSubplot at 0x7f1aa140e0a0>"
            ]
          },
          "metadata": {},
          "execution_count": 10
        },
        {
          "output_type": "display_data",
          "data": {
            "text/plain": [
              "<Figure size 432x288 with 2 Axes>"
            ],
            "image/png": "[encoded data removed]"
          },
          "metadata": {
            "needs_background": "light"
          }
        }
      ]
    },
    {
      "cell_type": "code",
      "source": [
        "#data = df_copy.drop(['BloodPressure', 'SkinThickness'], axis = 1)"
      ],
      "metadata": {
        "id": "ydxgvFmdcft4"
      },
      "execution_count": null,
      "outputs": []
    },
    {
      "cell_type": "code",
      "source": [
        "#df_copy.hist(figsize = (15, 15))"
      ],
      "metadata": {
        "id": "ysg22J5Dk6ok"
      },
      "execution_count": null,
      "outputs": []
    },
    {
      "cell_type": "code",
      "source": [
        "def plotting(data) : \n",
        "  columns = data.columns\n",
        "  fig = make_subplots(rows=3, cols=3, subplot_titles=columns)\n",
        "\n",
        "  r = 1 ;\n",
        "  c = 1 ;\n",
        "  for clm in columns : \n",
        "    fig.add_trace(\n",
        "        go.Histogram(x = data[clm], nbinsx = 15),\n",
        "        row=r, col=c\n",
        "    )\n",
        "    c = c + 1\n",
        "    if(c > 3):\n",
        "      r = r + 1\n",
        "      c = 1\n",
        "\n",
        "  fig.update_layout(height=1000, width=1200, title_text=\"Subplots\")\n",
        "  fig.update_traces(opacity = 0.75)\n",
        "  fig.show()"
      ],
      "metadata": {
        "id": "ZR-maRCCltyU"
      },
      "execution_count": null,
      "outputs": []
    },
    {
      "cell_type": "code",
      "source": [
        "plotting(df_copy)"
      ],
      "metadata": {
        "colab": {
          "base_uri": "https://localhost:8080/",
          "height": 1000
        },
        "id": "dkvzGubDmPu8",
        "outputId": "68f178f3-e640-46a1-be6e-cd67709cc64f"
      },
      "execution_count": null,
      "outputs": [
        {
          "output_type": "display_data",
          "data": {
            "text/html": [
              "<html>\n",
              "<head><meta charset=\"utf-8\" /></head>\n",
              "<body>\n",
              "    <div>            <script src=\"https://cdnjs.cloudflare.com/ajax/libs/mathjax/2.7.5/MathJax.js?config=TeX-AMS-MML_SVG\"></script><script type=\"text/javascript\">if (window.MathJax) {MathJax.Hub.Config({SVG: {font: \"STIX-Web\"}});}</script>                <script type=\"text/javascript\">window.PlotlyConfig = {MathJaxConfig: 'local'};</script>\n",
              "        <script src=\"https://cdn.plot.ly/plotly-2.8.3.min.js\"></script>                <div id=\"6538f273-1e20-4994-99eb-75616cea124b\" class=\"plotly-graph-div\" style=\"height:1000px; width:1200px;\"></div>            <script type=\"text/javascript\">                                    window.PLOTLYENV=window.PLOTLYENV || {};                                    if (document.getElementById(\"6538f273-1e20-4994-99eb-75616cea124b\")) {                    Plotly.newPlot(                        \"6538f273-1e20-4994-99eb-75616cea124b\",                        [{\"nbinsx\":15,\"x\":[6,1,8,1,0,5,3,10,2,8,4,10,10,1,5,7,0,7,1,1,3,8,7,9,11,10,7,1,13,5,5,3,3,6,10,4,11,9,2,4,3,7,7,9,7,0,1,2,7,7,1,1,5,8,7,1,7,0,0,0,2,8,5,2,7,5,0,2,1,4,2,5,13,4,1,1,7,5,0,2,3,2,7,0,5,2,13,2,15,1,1,4,7,4,2,6,2,1,6,1,1,1,0,1,2,1,1,4,3,0,3,8,1,4,7,4,5,5,4,4,0,6,2,5,0,1,3,1,1,0,4,9,3,8,2,2,0,0,0,5,3,5,2,10,4,0,9,2,5,2,1,4,9,1,8,7,2,1,2,17,4,7,0,2,0,6,3,4,4,3,6,6,2,1,2,8,6,0,5,5,6,0,1,5,4,7,8,1,8,5,3,9,7,11,8,5,1,3,4,4,0,1,0,2,6,5,8,5,1,7,2,0,7,0,9,12,5,6,5,5,0,2,7,7,1,1,0,3,4,0,4,6,1,4,3,4,7,0,9,0,1,4,3,6,2,9,10,0,9,1,9,2,2,0,12,1,3,2,1,11,3,3,4,3,4,5,0,2,0,2,10,2,3,1,13,2,7,0,5,2,0,10,7,7,2,7,5,1,4,5,0,0,2,1,0,6,2,0,14,8,0,2,5,5,3,2,10,0,0,2,6,0,2,3,7,2,3,3,3,6,4,3,0,13,2,1,1,10,2,6,8,2,1,12,1,0,0,5,9,7,1,1,1,5,8,8,1,3,3,5,4,4,3,1,3,9,1,13,12,1,5,5,5,4,4,5,6,0,3,1,3,0,0,2,2,12,0,1,4,0,1,0,1,1,1,1,5,8,5,3,1,5,1,4,4,2,3,0,3,3,4,6,5,9,5,2,4,0,8,1,6,1,1,1,0,3,1,4,1,3,1,2,0,2,8,4,0,1,0,1,2,3,1,2,1,0,12,5,1,6,0,2,4,8,4,0,1,0,0,0,1,2,0,2,2,14,1,5,10,9,9,1,8,5,10,0,0,0,8,6,1,0,0,7,4,0,2,7,8,4,3,0,4,0,0,0,1,0,4,8,2,2,4,4,3,6,5,2,7,6,2,3,6,7,3,10,0,1,2,8,12,0,9,2,3,3,9,7,13,6,2,3,6,9,3,3,1,3,0,0,2,0,1,6,1,4,0,0,0,3,8,3,10,4,1,8,5,4,1,4,1,3,6,1,1,7,1,8,11,11,6,0,1,6,0,2,1,6,4,0,3,2,3,2,1,1,6,2,10,2,0,6,12,8,8,1,8,6,3,0,11,2,3,2,6,0,0,1,1,1,1,6,1,7,4,1,1,1,0,1,3,3,7,6,11,3,6,2,9,0,2,2,6,0,2,4,0,0,5,4,7,0,2,1,10,13,5,2,7,1,0,4,6,4,3,2,1,0,11,0,1,1,5,2,1,2,2,1,11,3,10,1,8,9,6,1,4,10,6,9,6,1,10,3,8,6,9,0,3,2,2,0,0,4,5,2,3,1,1,1,8,13,2,7,2,7,3,0,4,4,2,6,1,2,4,6,10,2,9,2,3,5,10,0,3,7,3,10,1,5,4,1,1,5,1,4,1,0,2,2,3,8,2,2,2,4,0,8,2,1,11,3,1,9,13,12,1,1,3,6,4,1,3,0,8,1,7,0,1,6,2,9,9,10,2,5,1,1],\"type\":\"histogram\",\"xaxis\":\"x\",\"yaxis\":\"y\",\"opacity\":0.75},{\"nbinsx\":15,\"x\":[148.0,85.0,183.0,89.0,137.0,116.0,78.0,115.0,197.0,125.0,110.0,168.0,139.0,189.0,166.0,100.0,118.0,107.0,103.0,115.0,126.0,99.0,196.0,119.0,143.0,125.0,147.0,97.0,145.0,117.0,109.0,158.0,88.0,92.0,122.0,103.0,138.0,102.0,90.0,111.0,180.0,133.0,106.0,171.0,159.0,180.0,146.0,71.0,103.0,105.0,103.0,101.0,88.0,176.0,150.0,73.0,187.0,100.0,146.0,105.0,84.0,133.0,44.0,141.0,114.0,99.0,109.0,109.0,95.0,146.0,100.0,139.0,126.0,129.0,79.0,null,62.0,95.0,131.0,112.0,113.0,74.0,83.0,101.0,137.0,110.0,106.0,100.0,136.0,107.0,80.0,123.0,81.0,134.0,142.0,144.0,92.0,71.0,93.0,122.0,163.0,151.0,125.0,81.0,85.0,126.0,96.0,144.0,83.0,95.0,171.0,155.0,89.0,76.0,160.0,146.0,124.0,78.0,97.0,99.0,162.0,111.0,107.0,132.0,113.0,88.0,120.0,118.0,117.0,105.0,173.0,122.0,170.0,84.0,96.0,125.0,100.0,93.0,129.0,105.0,128.0,106.0,108.0,108.0,154.0,102.0,57.0,106.0,147.0,90.0,136.0,114.0,156.0,153.0,188.0,152.0,99.0,109.0,88.0,163.0,151.0,102.0,114.0,100.0,131.0,104.0,148.0,120.0,110.0,111.0,102.0,134.0,87.0,79.0,75.0,179.0,85.0,129.0,143.0,130.0,87.0,119.0,null,73.0,141.0,194.0,181.0,128.0,109.0,139.0,111.0,123.0,159.0,135.0,85.0,158.0,105.0,107.0,109.0,148.0,113.0,138.0,108.0,99.0,103.0,111.0,196.0,162.0,96.0,184.0,81.0,147.0,179.0,140.0,112.0,151.0,109.0,125.0,85.0,112.0,177.0,158.0,119.0,142.0,100.0,87.0,101.0,162.0,197.0,117.0,142.0,134.0,79.0,122.0,74.0,171.0,181.0,179.0,164.0,104.0,91.0,91.0,139.0,119.0,146.0,184.0,122.0,165.0,124.0,111.0,106.0,129.0,90.0,86.0,92.0,113.0,111.0,114.0,193.0,155.0,191.0,141.0,95.0,142.0,123.0,96.0,138.0,128.0,102.0,146.0,101.0,108.0,122.0,71.0,106.0,100.0,106.0,104.0,114.0,108.0,146.0,129.0,133.0,161.0,108.0,136.0,155.0,119.0,96.0,108.0,78.0,107.0,128.0,128.0,161.0,151.0,146.0,126.0,100.0,112.0,167.0,144.0,77.0,115.0,150.0,120.0,161.0,137.0,128.0,124.0,80.0,106.0,155.0,113.0,109.0,112.0,99.0,182.0,115.0,194.0,129.0,112.0,124.0,152.0,112.0,157.0,122.0,179.0,102.0,105.0,118.0,87.0,180.0,106.0,95.0,165.0,117.0,115.0,152.0,178.0,130.0,95.0,null,122.0,95.0,126.0,139.0,116.0,99.0,null,92.0,137.0,61.0,90.0,90.0,165.0,125.0,129.0,88.0,196.0,189.0,158.0,103.0,146.0,147.0,99.0,124.0,101.0,81.0,133.0,173.0,118.0,84.0,105.0,122.0,140.0,98.0,87.0,156.0,93.0,107.0,105.0,109.0,90.0,125.0,119.0,116.0,105.0,144.0,100.0,100.0,166.0,131.0,116.0,158.0,127.0,96.0,131.0,82.0,193.0,95.0,137.0,136.0,72.0,168.0,123.0,115.0,101.0,197.0,172.0,102.0,112.0,143.0,143.0,138.0,173.0,97.0,144.0,83.0,129.0,119.0,94.0,102.0,115.0,151.0,184.0,94.0,181.0,135.0,95.0,99.0,89.0,80.0,139.0,90.0,141.0,140.0,147.0,97.0,107.0,189.0,83.0,117.0,108.0,117.0,180.0,100.0,95.0,104.0,120.0,82.0,134.0,91.0,119.0,100.0,175.0,135.0,86.0,148.0,134.0,120.0,71.0,74.0,88.0,115.0,124.0,74.0,97.0,120.0,154.0,144.0,137.0,119.0,136.0,114.0,137.0,105.0,114.0,126.0,132.0,158.0,123.0,85.0,84.0,145.0,135.0,139.0,173.0,99.0,194.0,83.0,89.0,99.0,125.0,80.0,166.0,110.0,81.0,195.0,154.0,117.0,84.0,null,94.0,96.0,75.0,180.0,130.0,84.0,120.0,84.0,139.0,91.0,91.0,99.0,163.0,145.0,125.0,76.0,129.0,68.0,124.0,114.0,130.0,125.0,87.0,97.0,116.0,117.0,111.0,122.0,107.0,86.0,91.0,77.0,132.0,105.0,57.0,127.0,129.0,100.0,128.0,90.0,84.0,88.0,186.0,187.0,131.0,164.0,189.0,116.0,84.0,114.0,88.0,84.0,124.0,97.0,110.0,103.0,85.0,125.0,198.0,87.0,99.0,91.0,95.0,99.0,92.0,154.0,121.0,78.0,130.0,111.0,98.0,143.0,119.0,108.0,118.0,133.0,197.0,151.0,109.0,121.0,100.0,124.0,93.0,143.0,103.0,176.0,73.0,111.0,112.0,132.0,82.0,123.0,188.0,67.0,89.0,173.0,109.0,108.0,96.0,124.0,150.0,183.0,124.0,181.0,92.0,152.0,111.0,106.0,174.0,168.0,105.0,138.0,106.0,117.0,68.0,112.0,119.0,112.0,92.0,183.0,94.0,108.0,90.0,125.0,132.0,128.0,94.0,114.0,102.0,111.0,128.0,92.0,104.0,104.0,94.0,97.0,100.0,102.0,128.0,147.0,90.0,103.0,157.0,167.0,179.0,136.0,107.0,91.0,117.0,123.0,120.0,106.0,155.0,101.0,120.0,127.0,80.0,162.0,199.0,167.0,145.0,115.0,112.0,145.0,111.0,98.0,154.0,165.0,99.0,68.0,123.0,91.0,195.0,156.0,93.0,121.0,101.0,56.0,162.0,95.0,125.0,136.0,129.0,130.0,107.0,140.0,144.0,107.0,158.0,121.0,129.0,90.0,142.0,169.0,99.0,127.0,118.0,122.0,125.0,168.0,129.0,110.0,80.0,115.0,127.0,164.0,93.0,158.0,126.0,129.0,134.0,102.0,187.0,173.0,94.0,108.0,97.0,83.0,114.0,149.0,117.0,111.0,112.0,116.0,141.0,175.0,92.0,130.0,120.0,174.0,106.0,105.0,95.0,126.0,65.0,99.0,102.0,120.0,102.0,109.0,140.0,153.0,100.0,147.0,81.0,187.0,162.0,136.0,121.0,108.0,181.0,154.0,128.0,137.0,123.0,106.0,190.0,88.0,170.0,89.0,101.0,122.0,121.0,126.0,93.0],\"type\":\"histogram\",\"xaxis\":\"x2\",\"yaxis\":\"y2\",\"opacity\":0.75},{\"nbinsx\":15,\"x\":[72.0,66.0,64.0,66.0,40.0,74.0,50.0,null,70.0,96.0,92.0,74.0,80.0,60.0,72.0,null,84.0,74.0,30.0,70.0,88.0,84.0,90.0,80.0,94.0,70.0,76.0,66.0,82.0,92.0,75.0,76.0,58.0,92.0,78.0,60.0,76.0,76.0,68.0,72.0,64.0,84.0,92.0,110.0,64.0,66.0,56.0,70.0,66.0,null,80.0,50.0,66.0,90.0,66.0,50.0,68.0,88.0,82.0,64.0,null,72.0,62.0,58.0,66.0,74.0,88.0,92.0,66.0,85.0,66.0,64.0,90.0,86.0,75.0,48.0,78.0,72.0,null,66.0,44.0,null,78.0,65.0,108.0,74.0,72.0,68.0,70.0,68.0,55.0,80.0,78.0,72.0,82.0,72.0,62.0,48.0,50.0,90.0,72.0,60.0,96.0,72.0,65.0,56.0,122.0,58.0,58.0,85.0,72.0,62.0,76.0,62.0,54.0,92.0,74.0,48.0,60.0,76.0,76.0,64.0,74.0,80.0,76.0,30.0,70.0,58.0,88.0,84.0,70.0,56.0,64.0,74.0,68.0,60.0,70.0,60.0,80.0,72.0,78.0,82.0,52.0,66.0,62.0,75.0,80.0,64.0,78.0,70.0,74.0,65.0,86.0,82.0,78.0,88.0,52.0,56.0,74.0,72.0,90.0,74.0,80.0,64.0,88.0,74.0,66.0,68.0,66.0,90.0,82.0,70.0,null,60.0,64.0,72.0,78.0,110.0,78.0,82.0,80.0,64.0,74.0,60.0,74.0,68.0,68.0,98.0,76.0,80.0,62.0,70.0,66.0,null,55.0,84.0,58.0,62.0,64.0,60.0,80.0,82.0,68.0,70.0,72.0,72.0,76.0,104.0,64.0,84.0,60.0,85.0,95.0,65.0,82.0,70.0,62.0,68.0,74.0,66.0,60.0,90.0,null,60.0,66.0,78.0,76.0,52.0,70.0,80.0,86.0,80.0,80.0,68.0,68.0,72.0,84.0,90.0,84.0,76.0,64.0,70.0,54.0,50.0,76.0,85.0,68.0,90.0,70.0,86.0,52.0,84.0,80.0,68.0,62.0,64.0,56.0,68.0,50.0,76.0,68.0,null,70.0,80.0,62.0,74.0,null,64.0,52.0,null,86.0,62.0,78.0,78.0,70.0,70.0,60.0,64.0,74.0,62.0,70.0,76.0,88.0,86.0,80.0,74.0,84.0,86.0,56.0,72.0,88.0,62.0,78.0,48.0,50.0,62.0,70.0,84.0,78.0,72.0,null,58.0,82.0,98.0,76.0,76.0,68.0,68.0,68.0,68.0,66.0,70.0,74.0,50.0,80.0,68.0,80.0,74.0,66.0,78.0,60.0,74.0,70.0,90.0,75.0,72.0,64.0,70.0,86.0,70.0,72.0,58.0,null,80.0,60.0,76.0,null,76.0,78.0,84.0,70.0,74.0,68.0,86.0,72.0,88.0,46.0,null,62.0,80.0,80.0,84.0,82.0,62.0,78.0,88.0,50.0,null,74.0,76.0,64.0,70.0,108.0,78.0,74.0,54.0,72.0,64.0,86.0,102.0,82.0,64.0,64.0,58.0,52.0,82.0,82.0,60.0,75.0,100.0,72.0,68.0,60.0,62.0,70.0,54.0,74.0,100.0,82.0,68.0,66.0,76.0,64.0,72.0,78.0,58.0,56.0,66.0,70.0,70.0,64.0,61.0,84.0,78.0,64.0,48.0,72.0,62.0,74.0,68.0,90.0,72.0,84.0,74.0,60.0,84.0,68.0,82.0,68.0,64.0,88.0,68.0,64.0,64.0,78.0,78.0,null,64.0,94.0,82.0,null,74.0,74.0,75.0,68.0,null,85.0,75.0,70.0,88.0,104.0,66.0,64.0,70.0,62.0,78.0,72.0,80.0,64.0,74.0,64.0,70.0,68.0,null,54.0,62.0,54.0,68.0,84.0,74.0,72.0,62.0,70.0,78.0,98.0,56.0,52.0,64.0,null,78.0,82.0,70.0,66.0,90.0,64.0,84.0,80.0,76.0,74.0,86.0,70.0,88.0,58.0,82.0,null,68.0,62.0,78.0,72.0,80.0,65.0,90.0,68.0,70.0,null,74.0,68.0,72.0,70.0,74.0,90.0,72.0,68.0,64.0,78.0,82.0,90.0,60.0,50.0,78.0,72.0,62.0,68.0,62.0,54.0,70.0,88.0,86.0,60.0,90.0,70.0,80.0,null,70.0,58.0,60.0,64.0,74.0,66.0,65.0,60.0,76.0,66.0,null,56.0,null,90.0,60.0,80.0,92.0,74.0,72.0,85.0,90.0,78.0,90.0,76.0,68.0,82.0,110.0,70.0,68.0,88.0,62.0,64.0,70.0,70.0,76.0,68.0,74.0,76.0,66.0,68.0,60.0,80.0,54.0,72.0,62.0,72.0,66.0,70.0,96.0,58.0,60.0,86.0,44.0,44.0,80.0,68.0,70.0,90.0,60.0,78.0,76.0,76.0,56.0,66.0,66.0,86.0,null,84.0,78.0,80.0,52.0,72.0,82.0,76.0,24.0,74.0,38.0,88.0,null,74.0,78.0,null,60.0,78.0,62.0,82.0,62.0,54.0,58.0,88.0,80.0,74.0,72.0,96.0,62.0,82.0,null,86.0,76.0,94.0,70.0,64.0,88.0,68.0,78.0,80.0,65.0,64.0,78.0,60.0,82.0,62.0,72.0,74.0,76.0,76.0,74.0,86.0,70.0,80.0,null,72.0,74.0,74.0,50.0,84.0,60.0,54.0,60.0,74.0,54.0,70.0,52.0,58.0,80.0,106.0,82.0,84.0,76.0,106.0,80.0,60.0,80.0,82.0,70.0,58.0,78.0,68.0,58.0,106.0,100.0,82.0,70.0,86.0,60.0,52.0,58.0,56.0,76.0,64.0,80.0,82.0,74.0,64.0,50.0,74.0,82.0,80.0,114.0,70.0,68.0,60.0,90.0,74.0,null,88.0,70.0,76.0,78.0,88.0,null,76.0,80.0,null,46.0,78.0,64.0,64.0,78.0,62.0,58.0,74.0,50.0,78.0,72.0,60.0,76.0,86.0,66.0,68.0,86.0,94.0,78.0,78.0,84.0,88.0,52.0,78.0,86.0,88.0,56.0,75.0,60.0,86.0,72.0,60.0,74.0,80.0,44.0,58.0,94.0,88.0,84.0,94.0,74.0,70.0,62.0,70.0,78.0,62.0,88.0,78.0,88.0,90.0,72.0,76.0,92.0,58.0,74.0,62.0,76.0,70.0,72.0,60.0,70.0],\"type\":\"histogram\",\"xaxis\":\"x3\",\"yaxis\":\"y3\",\"opacity\":0.75},{\"nbinsx\":15,\"x\":[35.0,29.0,null,23.0,35.0,null,32.0,null,45.0,null,null,null,null,23.0,19.0,null,47.0,null,38.0,30.0,41.0,null,null,35.0,33.0,26.0,null,15.0,19.0,null,26.0,36.0,11.0,null,31.0,33.0,null,37.0,42.0,47.0,25.0,null,18.0,24.0,null,39.0,null,27.0,32.0,null,11.0,15.0,21.0,34.0,42.0,10.0,39.0,60.0,null,41.0,null,null,null,34.0,null,27.0,30.0,null,13.0,27.0,20.0,35.0,null,20.0,30.0,20.0,null,33.0,null,22.0,13.0,null,26.0,28.0,null,29.0,54.0,25.0,32.0,19.0,null,15.0,40.0,null,18.0,27.0,28.0,18.0,30.0,51.0,null,null,null,18.0,null,29.0,null,28.0,31.0,25.0,33.0,26.0,34.0,null,32.0,null,null,null,23.0,15.0,56.0,39.0,30.0,null,null,42.0,30.0,36.0,24.0,null,14.0,null,37.0,31.0,13.0,20.0,26.0,25.0,null,29.0,null,30.0,26.0,null,31.0,23.0,37.0,35.0,null,17.0,50.0,null,28.0,42.0,null,44.0,15.0,21.0,19.0,41.0,38.0,40.0,34.0,23.0,null,18.0,25.0,null,null,12.0,null,23.0,23.0,42.0,24.0,42.0,null,46.0,null,null,null,18.0,20.0,null,null,28.0,36.0,41.0,39.0,35.0,null,44.0,null,null,20.0,41.0,null,13.0,44.0,27.0,16.0,null,20.0,16.0,32.0,28.0,29.0,null,27.0,33.0,22.0,54.0,31.0,26.0,32.0,40.0,41.0,30.0,22.0,null,29.0,null,null,33.0,15.0,27.0,null,38.0,39.0,31.0,null,37.0,25.0,null,28.0,null,21.0,27.0,21.0,null,24.0,32.0,null,22.0,35.0,15.0,null,33.0,33.0,19.0,null,null,14.0,32.0,7.0,35.0,39.0,22.0,16.0,28.0,15.0,null,32.0,15.0,null,18.0,null,42.0,null,null,37.0,32.0,null,50.0,null,52.0,24.0,23.0,null,10.0,null,28.0,15.0,null,null,26.0,44.0,39.0,17.0,43.0,29.0,30.0,37.0,45.0,null,31.0,38.0,29.0,25.0,null,null,33.0,41.0,null,null,37.0,23.0,14.0,19.0,28.0,30.0,37.0,17.0,10.0,31.0,22.0,11.0,null,39.0,null,12.0,30.0,20.0,33.0,32.0,21.0,32.0,null,36.0,32.0,19.0,16.0,null,null,18.0,43.0,null,null,34.0,null,13.0,21.0,35.0,null,null,36.0,19.0,null,19.0,32.0,null,null,28.0,12.0,null,null,40.0,30.0,40.0,36.0,33.0,null,37.0,null,25.0,28.0,null,17.0,16.0,28.0,48.0,23.0,22.0,40.0,43.0,43.0,15.0,37.0,null,39.0,30.0,22.0,8.0,18.0,24.0,13.0,29.0,36.0,26.0,23.0,29.0,null,14.0,12.0,null,24.0,34.0,40.0,null,31.0,null,null,41.0,25.0,null,32.0,null,null,null,49.0,39.0,30.0,23.0,22.0,35.0,33.0,21.0,32.0,null,29.0,41.0,18.0,46.0,22.0,32.0,39.0,null,30.0,46.0,25.0,null,16.0,11.0,null,8.0,null,33.0,null,15.0,null,25.0,23.0,27.0,null,12.0,63.0,12.0,45.0,37.0,18.0,13.0,null,32.0,null,28.0,30.0,null,28.0,48.0,33.0,22.0,null,40.0,30.0,null,13.0,10.0,36.0,null,41.0,40.0,38.0,27.0,null,null,27.0,45.0,17.0,38.0,31.0,30.0,37.0,22.0,31.0,null,42.0,41.0,32.0,17.0,null,28.0,30.0,38.0,18.0,null,null,null,15.0,33.0,32.0,19.0,32.0,41.0,25.0,39.0,null,26.0,23.0,23.0,null,31.0,17.0,null,null,19.0,18.0,34.0,null,null,7.0,32.0,33.0,null,null,null,18.0,19.0,15.0,31.0,null,18.0,null,52.0,null,30.0,null,null,null,37.0,49.0,40.0,25.0,32.0,23.0,29.0,35.0,27.0,21.0,43.0,31.0,28.0,30.0,null,24.0,23.0,33.0,40.0,null,40.0,null,null,32.0,34.0,19.0,null,14.0,30.0,32.0,29.0,30.0,null,null,31.0,17.0,30.0,47.0,20.0,null,null,99.0,46.0,27.0,17.0,null,24.0,11.0,null,null,27.0,null,40.0,50.0,null,22.0,45.0,14.0,null,19.0,null,18.0,19.0,null,36.0,29.0,null,32.0,42.0,25.0,39.0,13.0,21.0,22.0,42.0,28.0,26.0,null,null,13.0,24.0,null,42.0,20.0,null,27.0,null,47.0,null,null,null,22.0,null,40.0,null,17.0,null,null,null,18.0,32.0,12.0,17.0,null,null,null,30.0,35.0,17.0,36.0,35.0,25.0,25.0,23.0,40.0,null,28.0,27.0,35.0,48.0,null,31.0,null,43.0,46.0,46.0,39.0,45.0,18.0,27.0,33.0,30.0,26.0,10.0,23.0,35.0,null,null,null,null,null,17.0,28.0,36.0,39.0,null,null,26.0,null,19.0,26.0,46.0,null,null,32.0,49.0,null,24.0,19.0,null,11.0,null,27.0,31.0,29.0,null,20.0,36.0,null,21.0,null,32.0,13.0,27.0,36.0,20.0,null,33.0,39.0,18.0,46.0,27.0,19.0,36.0,29.0,30.0,null,40.0,29.0,26.0,null,null,23.0,null,37.0,27.0,null,32.0,27.0,23.0,17.0,null,37.0,20.0,18.0,null,37.0,33.0,41.0,41.0,22.0,null,null,39.0,24.0,44.0,32.0,39.0,41.0,null,null,null,26.0,31.0,null,48.0,27.0,23.0,null,31.0],\"type\":\"histogram\",\"xaxis\":\"x4\",\"yaxis\":\"y4\",\"opacity\":0.75},{\"nbinsx\":15,\"x\":[null,null,null,94.0,168.0,null,88.0,null,543.0,null,null,null,null,846.0,175.0,null,230.0,null,83.0,96.0,235.0,null,null,null,146.0,115.0,null,140.0,110.0,null,null,245.0,54.0,null,null,192.0,null,null,null,207.0,70.0,null,null,240.0,null,null,null,null,null,null,82.0,36.0,23.0,300.0,342.0,null,304.0,110.0,null,142.0,null,null,null,128.0,null,null,null,null,38.0,100.0,90.0,140.0,null,270.0,null,null,null,null,null,null,null,null,71.0,null,null,125.0,null,71.0,110.0,null,null,176.0,48.0,null,64.0,228.0,null,76.0,64.0,220.0,null,null,null,40.0,null,152.0,null,140.0,18.0,36.0,135.0,495.0,37.0,null,175.0,null,null,null,null,51.0,100.0,null,100.0,null,null,99.0,135.0,94.0,145.0,null,168.0,null,225.0,null,49.0,140.0,50.0,92.0,null,325.0,null,null,63.0,null,284.0,null,null,119.0,null,null,204.0,null,155.0,485.0,null,null,94.0,135.0,53.0,114.0,null,105.0,285.0,null,null,156.0,null,null,null,78.0,null,130.0,null,48.0,55.0,130.0,null,130.0,null,null,null,92.0,23.0,null,null,null,495.0,58.0,114.0,160.0,null,94.0,null,null,null,210.0,null,48.0,99.0,318.0,null,null,null,44.0,190.0,null,280.0,null,87.0,null,null,null,null,130.0,175.0,271.0,129.0,120.0,null,null,478.0,null,null,190.0,56.0,32.0,null,null,744.0,53.0,null,370.0,37.0,null,45.0,null,192.0,null,null,null,null,88.0,null,176.0,194.0,null,null,680.0,402.0,null,null,null,55.0,null,258.0,null,null,null,375.0,150.0,130.0,null,null,null,null,67.0,null,null,null,null,null,56.0,null,45.0,null,57.0,null,116.0,null,278.0,null,122.0,155.0,null,null,135.0,545.0,220.0,49.0,75.0,40.0,74.0,182.0,194.0,null,120.0,360.0,215.0,184.0,null,null,135.0,42.0,null,null,105.0,132.0,148.0,180.0,205.0,null,148.0,96.0,85.0,null,94.0,64.0,null,140.0,null,231.0,null,null,29.0,null,168.0,156.0,null,120.0,68.0,null,52.0,null,null,58.0,255.0,null,null,171.0,null,105.0,73.0,null,null,null,108.0,83.0,null,74.0,null,null,null,null,43.0,null,null,167.0,null,54.0,249.0,325.0,null,null,null,293.0,83.0,null,null,66.0,140.0,465.0,89.0,66.0,94.0,158.0,325.0,84.0,75.0,null,72.0,82.0,null,182.0,59.0,110.0,50.0,null,null,285.0,81.0,196.0,null,415.0,87.0,null,275.0,115.0,null,null,null,null,null,88.0,null,null,165.0,null,null,null,579.0,null,176.0,310.0,61.0,167.0,474.0,null,null,null,115.0,170.0,76.0,78.0,null,210.0,277.0,null,180.0,145.0,180.0,null,85.0,60.0,null,null,null,null,null,null,null,null,50.0,120.0,null,null,14.0,70.0,92.0,64.0,63.0,95.0,null,210.0,null,105.0,null,null,71.0,237.0,60.0,56.0,null,49.0,null,null,105.0,36.0,100.0,null,140.0,null,null,null,null,null,null,191.0,110.0,75.0,null,328.0,null,49.0,125.0,null,250.0,480.0,265.0,null,null,66.0,null,null,122.0,null,null,null,76.0,145.0,193.0,71.0,null,null,79.0,null,null,90.0,170.0,76.0,null,null,210.0,null,null,86.0,105.0,165.0,null,null,326.0,66.0,130.0,null,null,null,null,82.0,105.0,188.0,null,106.0,null,65.0,null,56.0,null,null,null,210.0,155.0,215.0,190.0,null,56.0,76.0,225.0,207.0,166.0,67.0,null,null,106.0,null,44.0,115.0,215.0,null,null,null,null,null,274.0,77.0,54.0,null,88.0,18.0,126.0,126.0,165.0,null,null,44.0,120.0,330.0,63.0,130.0,null,null,null,null,null,null,null,600.0,null,null,null,156.0,null,null,140.0,null,115.0,230.0,185.0,null,25.0,null,120.0,null,null,null,126.0,null,null,293.0,41.0,272.0,182.0,158.0,194.0,321.0,null,144.0,null,null,15.0,null,null,160.0,null,null,115.0,null,54.0,null,null,null,null,null,90.0,null,183.0,null,null,null,66.0,91.0,46.0,105.0,null,null,null,152.0,440.0,144.0,159.0,130.0,null,100.0,106.0,77.0,null,135.0,540.0,90.0,200.0,null,70.0,null,null,231.0,130.0,null,132.0,null,null,190.0,100.0,168.0,null,49.0,240.0,null,null,null,null,null,265.0,45.0,null,105.0,null,null,205.0,null,null,180.0,180.0,null,null,95.0,125.0,null,480.0,125.0,null,155.0,null,200.0,null,null,null,100.0,null,null,335.0,null,160.0,387.0,22.0,null,291.0,null,392.0,185.0,null,178.0,null,null,200.0,127.0,105.0,null,null,180.0,null,null,null,79.0,null,120.0,165.0,null,null,120.0,null,160.0,null,150.0,94.0,116.0,null,140.0,105.0,null,57.0,200.0,null,null,74.0,null,510.0,null,110.0,null,null,null,null,16.0,null,null,180.0,null,112.0,null,null],\"type\":\"histogram\",\"xaxis\":\"x5\",\"yaxis\":\"y5\",\"opacity\":0.75},{\"nbinsx\":15,\"x\":[33.6,26.6,23.3,28.1,43.1,25.6,31.0,35.3,30.5,null,37.6,38.0,27.1,30.1,25.8,30.0,45.8,29.6,43.3,34.6,39.3,35.4,39.8,29.0,36.6,31.1,39.4,23.2,22.2,34.1,36.0,31.6,24.8,19.9,27.6,24.0,33.2,32.9,38.2,37.1,34.0,40.2,22.7,45.4,27.4,42.0,29.7,28.0,39.1,null,19.4,24.2,24.4,33.7,34.7,23.0,37.7,46.8,40.5,41.5,null,32.9,25.0,25.4,32.8,29.0,32.5,42.7,19.6,28.9,32.9,28.6,43.4,35.1,32.0,24.7,32.6,37.7,43.2,25.0,22.4,null,29.3,24.6,48.8,32.4,36.6,38.5,37.1,26.5,19.1,32.0,46.7,23.8,24.7,33.9,31.6,20.4,28.7,49.7,39.0,26.1,22.5,26.6,39.6,28.7,22.4,29.5,34.3,37.4,33.3,34.0,31.2,34.0,30.5,31.2,34.0,33.7,28.2,23.2,53.2,34.2,33.6,26.8,33.3,55.0,42.9,33.3,34.5,27.9,29.7,33.3,34.5,38.3,21.1,33.8,30.8,28.7,31.2,36.9,21.1,39.5,32.5,32.4,32.8,null,32.8,30.5,33.7,27.3,37.4,21.9,34.3,40.6,47.9,50.0,24.6,25.2,29.0,40.9,29.7,37.2,44.2,29.7,31.6,29.9,32.5,29.6,31.9,28.4,30.8,35.4,28.9,43.5,29.7,32.7,31.2,67.1,45.0,39.1,23.2,34.9,27.7,26.8,27.6,35.9,30.1,32.0,27.9,31.6,22.6,33.1,30.4,52.3,24.4,39.4,24.3,22.9,34.8,30.9,31.0,40.1,27.3,20.4,37.7,23.9,37.5,37.7,33.2,35.5,27.7,42.8,34.2,42.6,34.2,41.8,35.8,30.0,29.0,37.8,34.6,31.6,25.2,28.8,23.6,34.6,35.7,37.2,36.7,45.2,44.0,46.2,25.4,35.0,29.7,43.6,35.9,44.1,30.8,18.4,29.2,33.1,25.6,27.1,38.2,30.0,31.2,52.3,35.4,30.1,31.2,28.0,24.4,35.8,27.6,33.6,30.1,28.7,25.9,33.3,30.9,30.0,32.1,32.4,32.0,33.6,36.3,40.0,25.1,27.5,45.6,25.2,23.0,33.2,34.2,40.5,26.5,27.8,24.9,25.3,37.9,35.9,32.4,30.4,27.0,26.0,38.7,45.6,20.8,36.1,36.9,36.6,43.3,40.5,21.9,35.5,28.0,30.7,36.6,23.6,32.3,31.6,35.8,52.9,21.0,39.7,25.5,24.8,30.5,32.9,26.2,39.4,26.6,29.5,35.9,34.1,19.3,30.5,38.1,23.5,27.5,31.6,27.4,26.8,35.7,25.6,35.1,35.1,45.5,30.8,23.1,32.7,43.3,23.6,23.9,47.9,33.8,31.2,34.2,39.9,25.9,25.9,32.0,34.7,36.8,38.5,28.7,23.5,21.8,41.0,42.2,31.2,34.4,27.2,42.7,30.4,33.3,39.9,35.3,36.5,31.2,29.8,39.2,38.5,34.9,34.0,27.6,21.0,27.5,32.8,38.4,null,35.8,34.9,36.2,39.2,25.2,37.2,48.3,43.4,30.8,20.0,25.4,25.1,24.3,22.3,32.3,43.3,32.0,31.6,32.0,45.7,23.7,22.1,32.9,27.7,24.7,34.3,21.1,34.9,32.0,24.2,35.0,31.6,32.9,42.1,28.9,21.9,25.9,42.4,35.7,34.4,42.4,26.2,34.6,35.7,27.2,38.5,18.2,26.4,45.3,26.0,40.6,30.8,42.9,37.0,null,34.1,40.6,35.0,22.2,30.4,30.0,25.6,24.5,42.4,37.4,29.9,18.2,36.8,34.3,32.2,33.2,30.5,29.7,59.4,25.3,36.5,33.6,30.5,21.2,28.9,39.9,19.6,37.8,33.6,26.7,30.2,37.6,25.9,20.8,21.8,35.3,27.6,24.0,21.8,27.8,36.8,30.0,46.1,41.3,33.2,38.8,29.9,28.9,27.3,33.7,23.8,25.9,28.0,35.5,35.2,27.8,38.2,44.2,42.3,40.7,46.5,25.6,26.1,36.8,33.5,32.8,28.9,null,26.6,26.0,30.1,25.1,29.3,25.2,37.2,39.0,33.3,37.3,33.3,36.5,28.6,30.4,25.0,29.7,22.1,24.2,27.3,25.6,31.6,30.3,37.6,32.8,19.6,25.0,33.2,null,34.2,31.6,21.8,18.2,26.3,30.8,24.6,29.8,45.3,41.3,29.8,33.3,32.9,29.6,21.7,36.3,36.4,39.4,32.4,34.9,39.5,32.0,34.5,43.6,33.1,32.8,28.5,27.4,31.9,27.8,29.9,36.9,25.5,38.1,27.8,46.2,30.1,33.8,41.3,37.6,26.9,32.4,26.1,38.6,32.0,31.3,34.3,32.5,22.6,29.5,34.7,30.1,35.5,24.0,42.9,27.0,34.7,42.1,25.0,26.5,38.7,28.7,22.5,34.9,24.3,33.3,21.1,46.8,39.4,34.4,28.5,33.6,32.0,45.3,27.8,36.8,23.1,27.1,23.7,27.8,35.2,28.4,35.8,40.0,19.5,41.5,24.0,30.9,32.9,38.2,32.5,36.1,25.8,28.7,20.1,28.2,32.4,38.4,24.2,40.8,43.5,30.8,37.7,24.7,32.4,34.6,24.7,27.4,34.5,26.2,27.5,25.9,31.2,28.8,31.6,40.9,19.5,29.3,34.3,29.5,28.0,27.6,39.4,23.4,37.8,28.3,26.4,25.2,33.8,34.1,26.8,34.2,38.7,21.8,38.9,39.0,34.2,27.7,42.9,37.6,37.9,33.7,34.8,32.5,27.5,34.0,30.9,33.6,25.4,35.5,57.3,35.6,30.9,24.8,35.3,36.0,24.2,24.2,49.6,44.6,32.3,null,33.2,23.1,28.3,24.1,46.1,24.6,42.3,39.1,38.5,23.5,30.4,29.9,25.0,34.5,44.5,35.9,27.6,35.0,38.5,28.4,39.8,null,34.4,32.8,38.0,31.2,29.6,41.2,26.4,29.5,33.9,33.8,23.1,35.5,35.6,29.3,38.1,29.3,39.1,32.8,39.4,36.1,32.4,22.9,30.1,28.4,28.4,44.5,29.0,23.3,35.4,27.4,32.0,36.6,39.5,42.3,30.8,28.5,32.7,40.6,30.0,49.3,46.3,36.4,24.3,31.2,39.0,26.0,43.3,32.4,36.5,32.0,36.3,37.5,35.5,28.4,44.0,22.5,32.9,36.8,26.2,30.1,30.4],\"type\":\"histogram\",\"xaxis\":\"x6\",\"yaxis\":\"y6\",\"opacity\":0.75},{\"nbinsx\":15,\"x\":[0.627,0.351,0.672,0.167,2.288,0.201,0.248,0.134,0.158,0.232,0.191,0.537,1.441,0.398,0.587,0.484,0.551,0.254,0.183,0.529,0.704,0.388,0.451,0.263,0.254,0.205,0.257,0.487,0.245,0.337,0.546,0.851,0.267,0.188,0.512,0.966,0.42,0.665,0.503,1.39,0.271,0.696,0.235,0.721,0.294,1.893,0.564,0.586,0.344,0.305,0.491,0.526,0.342,0.467,0.718,0.248,0.254,0.962,1.781,0.173,0.304,0.27,0.587,0.699,0.258,0.203,0.855,0.845,0.334,0.189,0.867,0.411,0.583,0.231,0.396,0.14,0.391,0.37,0.27,0.307,0.14,0.102,0.767,0.237,0.227,0.698,0.178,0.324,0.153,0.165,0.258,0.443,0.261,0.277,0.761,0.255,0.13,0.323,0.356,0.325,1.222,0.179,0.262,0.283,0.93,0.801,0.207,0.287,0.336,0.247,0.199,0.543,0.192,0.391,0.588,0.539,0.22,0.654,0.443,0.223,0.759,0.26,0.404,0.186,0.278,0.496,0.452,0.261,0.403,0.741,0.361,1.114,0.356,0.457,0.647,0.088,0.597,0.532,0.703,0.159,0.268,0.286,0.318,0.272,0.237,0.572,0.096,1.4,0.218,0.085,0.399,0.432,1.189,0.687,0.137,0.337,0.637,0.833,0.229,0.817,0.294,0.204,0.167,0.368,0.743,0.722,0.256,0.709,0.471,0.495,0.18,0.542,0.773,0.678,0.37,0.719,0.382,0.319,0.19,0.956,0.084,0.725,0.299,0.268,0.244,0.745,0.615,1.321,0.64,0.361,0.142,0.374,0.383,0.578,0.136,0.395,0.187,0.678,0.905,0.15,0.874,0.236,0.787,0.235,0.324,0.407,0.605,0.151,0.289,0.355,0.29,0.375,0.164,0.431,0.26,0.742,0.514,0.464,1.224,0.261,1.072,0.805,0.209,0.687,0.666,0.101,0.198,0.652,2.329,0.089,0.645,0.238,0.583,0.394,0.293,0.479,0.586,0.686,0.831,0.582,0.192,0.446,0.402,1.318,0.329,1.213,0.258,0.427,0.282,0.143,0.38,0.284,0.249,0.238,0.926,0.543,0.557,0.092,0.655,1.353,0.299,0.761,0.612,0.2,0.226,0.997,0.933,1.101,0.078,0.24,1.136,0.128,0.254,0.422,0.251,0.677,0.296,0.454,0.744,0.881,0.334,0.28,0.262,0.165,0.259,0.647,0.619,0.808,0.34,0.263,0.434,0.757,1.224,0.613,0.254,0.692,0.337,0.52,0.412,0.84,0.839,0.422,0.156,0.209,0.207,0.215,0.326,0.143,1.391,0.875,0.313,0.605,0.433,0.626,1.127,0.315,0.284,0.345,0.15,0.129,0.527,0.197,0.254,0.731,0.148,0.123,0.692,0.2,0.127,0.122,1.476,0.166,0.282,0.137,0.26,0.259,0.932,0.343,0.893,0.331,0.472,0.673,0.389,0.29,0.485,0.349,0.654,0.187,0.279,0.346,0.237,0.252,0.243,0.58,0.559,0.302,0.962,0.569,0.378,0.875,0.583,0.207,0.305,0.52,0.385,0.499,0.368,0.252,0.306,0.234,2.137,1.731,0.545,0.225,0.816,0.528,0.299,0.509,0.238,1.021,0.821,0.236,0.947,1.268,0.221,0.205,0.66,0.239,0.452,0.949,0.444,0.34,0.389,0.463,0.803,1.6,0.944,0.196,0.389,0.241,0.161,0.151,0.286,0.28,0.135,0.52,0.376,0.336,1.191,0.702,0.674,0.528,1.076,0.256,0.534,0.258,1.095,0.554,0.624,0.219,0.507,0.561,0.496,0.421,0.516,0.264,0.256,0.328,0.284,0.233,0.108,0.551,0.527,0.167,1.138,0.205,0.244,0.434,0.147,0.727,0.435,0.497,0.23,0.955,0.38,2.42,0.658,0.33,0.51,0.285,0.415,0.542,0.381,0.832,0.498,0.212,0.687,0.364,1.001,0.46,0.733,0.416,0.705,0.258,1.022,0.452,0.269,0.6,0.183,0.571,0.607,0.17,0.259,0.21,0.126,0.231,0.711,0.466,0.162,0.419,0.344,0.197,0.306,0.233,0.63,0.365,0.536,1.159,0.294,0.551,0.629,0.292,0.145,1.144,0.174,0.304,0.292,0.547,0.163,0.839,0.313,0.267,0.727,0.738,0.238,0.263,0.314,0.692,0.968,0.409,0.297,0.207,0.2,0.525,0.154,0.268,0.771,0.304,0.18,0.582,0.187,0.305,0.189,0.652,0.151,0.444,0.299,0.107,0.493,0.66,0.717,0.686,0.917,0.501,1.251,0.302,0.197,0.735,0.804,0.968,0.661,0.549,0.825,0.159,0.365,0.423,1.034,0.16,0.341,0.68,0.204,0.591,0.247,0.422,0.471,0.161,0.218,0.237,0.126,0.3,0.121,0.502,0.401,0.497,0.601,0.748,0.412,0.085,0.338,0.203,0.27,0.268,0.43,0.198,0.892,0.28,0.813,0.693,0.245,0.575,0.371,0.206,0.259,0.19,0.687,0.417,0.129,0.249,1.154,0.342,0.925,0.175,0.402,1.699,0.733,0.682,0.194,0.559,0.088,0.407,0.4,0.19,0.1,0.692,0.212,0.514,1.258,0.482,0.27,0.138,0.292,0.593,0.787,0.878,0.557,0.207,0.157,0.257,1.282,0.141,0.246,1.698,1.461,0.347,0.158,0.362,0.206,0.393,0.144,0.148,0.732,0.238,0.343,0.115,0.167,0.465,0.153,0.649,0.871,0.149,0.695,0.303,0.178,0.61,0.73,0.134,0.447,0.455,0.26,0.133,0.234,0.466,0.269,0.455,0.142,0.24,0.155,1.162,0.19,1.292,0.182,1.394,0.165,0.637,0.245,0.217,0.235,0.141,0.43,0.164,0.631,0.551,0.285,0.88,0.587,0.328,0.23,0.263,0.127,0.614,0.332,0.364,0.366,0.536,0.64,0.591,0.314,0.181,0.828,0.335,0.856,0.257,0.886,0.439,0.191,0.128,0.268,0.253,0.598,0.904,0.483,0.565,0.905,0.304,0.118,0.177,0.261,0.176,0.148,0.674,0.295,0.439,0.441,0.352,0.121,0.826,0.97,0.595,0.415,0.378,0.317,0.289,0.349,0.251,0.265,0.236,0.496,0.433,0.326,0.141,0.323,0.259,0.646,0.426,0.56,0.284,0.515,0.6,0.453,0.293,0.785,0.4,0.219,0.734,1.174,0.488,0.358,1.096,0.408,0.178,1.182,0.261,0.223,0.222,0.443,1.057,0.391,0.258,0.197,0.278,0.766,0.403,0.142,0.171,0.34,0.245,0.349,0.315],\"type\":\"histogram\",\"xaxis\":\"x7\",\"yaxis\":\"y7\",\"opacity\":0.75},{\"nbinsx\":15,\"x\":[50,31,32,21,33,30,26,29,53,54,30,34,57,59,51,32,31,31,33,32,27,50,41,29,51,41,43,22,57,38,60,28,22,28,45,33,35,46,27,56,26,37,48,54,40,25,29,22,31,24,22,26,30,58,42,21,41,31,44,22,21,39,36,24,42,32,38,54,25,27,28,26,42,23,22,22,41,27,26,24,22,22,36,22,37,27,45,26,43,24,21,34,42,60,21,40,24,22,23,31,33,22,21,24,27,21,27,37,25,24,24,46,23,25,39,61,38,25,22,21,25,24,23,69,23,26,30,23,40,62,33,33,30,39,26,31,21,22,29,28,55,38,22,42,23,21,41,34,65,22,24,37,42,23,43,36,21,23,22,47,36,45,27,21,32,41,22,34,29,29,36,29,25,23,33,36,42,26,47,37,32,23,21,27,40,41,60,33,31,25,21,40,36,40,42,29,21,23,26,29,21,28,32,27,55,27,57,52,21,41,25,24,60,24,36,38,25,32,32,41,21,66,37,61,26,22,26,24,31,24,22,46,22,29,23,26,51,23,32,27,21,22,22,33,29,49,41,23,34,23,42,27,24,25,44,21,30,25,24,51,34,27,24,63,35,43,25,24,21,28,38,21,40,21,52,25,29,23,57,22,28,39,37,47,52,51,34,29,26,33,21,25,31,24,65,28,29,24,46,58,30,25,35,28,37,29,47,21,25,30,41,22,27,25,43,26,30,29,28,59,31,25,36,43,21,24,30,37,23,37,46,25,41,44,22,26,44,44,33,41,22,36,22,33,57,49,22,23,26,37,29,30,46,24,21,49,28,44,48,29,29,63,65,67,30,30,29,21,22,45,25,21,21,25,28,58,22,22,32,35,24,22,21,25,25,24,35,45,58,28,42,27,21,37,31,25,39,22,25,25,31,55,35,38,41,26,46,25,39,28,28,25,22,21,21,22,22,37,27,28,26,21,21,21,36,31,25,38,26,43,23,38,22,29,36,29,41,28,21,31,41,22,24,33,30,25,28,26,22,26,23,23,25,72,24,38,62,24,51,81,48,26,39,37,34,21,22,25,38,27,28,22,22,50,24,59,29,31,39,63,35,29,28,23,31,24,21,58,28,67,24,42,33,45,22,66,30,25,55,39,21,28,41,41,40,38,35,21,21,64,46,21,58,22,24,28,53,51,41,60,25,26,26,45,24,21,21,24,22,31,22,24,29,31,24,23,46,67,23,32,43,27,56,25,29,37,53,28,50,37,21,25,66,23,28,37,30,58,42,35,54,28,24,32,27,22,21,46,37,33,39,21,22,22,23,25,35,21,36,62,21,27,62,42,52,22,41,29,52,25,45,24,44,25,34,22,46,21,38,26,24,28,30,54,36,21,22,25,27,23,24,36,40,26,50,27,30,23,50,24,28,28,45,21,21,29,21,21,45,21,34,24,23,22,31,38,48,23,32,28,27,24,50,31,27,30,33,22,42,23,23,27,28,27,22,25,22,41,51,27,54,22,43,40,40,24,70,40,43,45,49,21,47,22,68,31,53,25,25,23,22,26,22,27,69,25,22,29,23,46,34,44,23,43,25,43,31,22,28,26,26,49,52,41,27,28,30,22,45,23,24,40,38,21,32,34,31,56,24,52,34,21,42,42,45,38,25,22,22,22,34,22,24,22,53,28,21,42,21,42,48,26,22,45,39,46,27,32,36,50,22,28,25,26,45,37,39,52,26,66,22,43,33,63,27,30,47,23],\"type\":\"histogram\",\"xaxis\":\"x8\",\"yaxis\":\"y8\",\"opacity\":0.75},{\"nbinsx\":15,\"x\":[1,0,1,0,1,0,1,0,1,1,0,1,0,1,1,1,1,1,0,1,0,0,1,1,1,1,1,0,0,0,0,1,0,0,0,0,0,1,1,1,0,0,0,1,0,1,0,0,1,0,0,0,0,1,0,0,1,0,0,0,0,1,0,0,1,0,1,0,0,0,1,0,1,0,0,0,0,0,1,0,0,0,0,0,1,0,0,0,1,0,0,0,0,1,0,0,0,0,0,1,1,0,0,0,0,0,0,0,0,1,1,1,0,0,1,1,1,0,0,0,1,0,0,0,1,1,0,0,1,1,1,1,1,0,0,0,0,0,0,0,0,0,0,1,0,0,0,0,0,0,0,0,1,0,1,1,0,0,0,1,0,0,0,0,1,1,0,0,0,0,1,1,0,0,0,1,0,1,0,1,0,0,0,0,0,1,1,1,1,1,0,0,1,1,0,1,0,1,1,1,0,0,0,0,0,0,1,1,0,1,0,0,0,1,1,1,1,0,1,1,1,1,0,0,0,0,0,1,0,0,1,1,0,0,0,1,1,1,1,0,0,0,1,1,0,1,0,0,0,0,0,0,0,0,1,1,0,0,0,1,0,1,0,0,1,0,1,0,0,1,1,0,0,0,0,0,1,0,0,0,1,0,0,1,1,0,0,1,0,0,0,1,1,1,0,0,1,0,1,0,1,1,0,1,0,0,1,0,1,1,0,0,1,0,1,0,0,1,0,1,0,1,1,1,0,0,1,0,1,0,0,0,1,0,0,0,0,1,1,1,0,0,0,0,0,0,0,0,0,1,0,0,0,0,0,1,1,1,0,1,1,0,0,1,0,0,1,0,0,1,1,0,0,0,0,1,0,0,1,0,0,0,0,0,0,0,1,1,1,0,0,1,0,0,1,0,0,1,0,1,1,0,1,0,1,0,1,0,1,1,0,0,0,0,1,1,0,1,0,1,0,0,0,0,1,1,0,1,0,1,0,0,0,0,0,1,0,0,0,0,1,0,0,1,1,1,0,0,1,0,0,1,0,0,0,1,0,0,1,0,0,0,0,0,0,0,0,0,1,0,0,0,0,0,0,0,1,0,0,0,1,0,0,0,1,1,0,0,0,0,0,0,0,1,0,0,0,0,1,0,0,0,1,0,0,0,1,0,0,0,1,0,0,0,0,1,1,0,0,0,0,0,0,1,0,0,0,0,0,0,0,0,0,0,0,1,0,0,0,1,1,1,1,0,0,1,1,0,0,0,0,0,0,0,0,0,0,0,0,0,1,1,0,0,0,0,0,0,0,1,0,0,0,0,0,0,0,1,0,1,1,0,0,0,1,0,1,0,1,0,1,0,1,0,0,1,0,0,1,0,0,0,0,1,1,0,1,0,0,0,0,1,1,0,1,0,0,0,1,1,0,0,0,0,0,0,0,0,0,0,1,0,0,0,0,1,0,0,1,0,0,0,1,0,0,0,1,1,1,0,0,0,0,0,0,1,0,0,0,1,0,1,1,1,1,0,1,1,0,0,0,0,0,0,0,1,1,0,1,0,0,1,0,1,0,0,0,0,0,1,0,1,0,1,0,1,1,0,0,0,0,1,1,0,0,0,1,0,1,1,0,0,1,0,0,1,1,0,0,1,0,0,1,0,0,0,0,0,0,0,1,1,1,0,0,0,0,0,0,1,1,0,0,1,0,0,1,0,1,1,1,0,0,1,1,1,0,1,0,1,0,1,0,0,0,0,1,0],\"type\":\"histogram\",\"xaxis\":\"x9\",\"yaxis\":\"y9\",\"opacity\":0.75}],                        {\"template\":{\"data\":{\"bar\":[{\"error_x\":{\"color\":\"#2a3f5f\"},\"error_y\":{\"color\":\"#2a3f5f\"},\"marker\":{\"line\":{\"color\":\"#E5ECF6\",\"width\":0.5},\"pattern\":{\"fillmode\":\"overlay\",\"size\":10,\"solidity\":0.2}},\"type\":\"bar\"}],\"barpolar\":[{\"marker\":{\"line\":{\"color\":\"#E5ECF6\",\"width\":0.5},\"pattern\":{\"fillmode\":\"overlay\",\"size\":10,\"solidity\":0.2}},\"type\":\"barpolar\"}],\"carpet\":[{\"aaxis\":{\"endlinecolor\":\"#2a3f5f\",\"gridcolor\":\"white\",\"linecolor\":\"white\",\"minorgridcolor\":\"white\",\"startlinecolor\":\"#2a3f5f\"},\"baxis\":{\"endlinecolor\":\"#2a3f5f\",\"gridcolor\":\"white\",\"linecolor\":\"white\",\"minorgridcolor\":\"white\",\"startlinecolor\":\"#2a3f5f\"},\"type\":\"carpet\"}],\"choropleth\":[{\"colorbar\":{\"outlinewidth\":0,\"ticks\":\"\"},\"type\":\"choropleth\"}],\"contour\":[{\"colorbar\":{\"outlinewidth\":0,\"ticks\":\"\"},\"colorscale\":[[0.0,\"#0d0887\"],[0.1111111111111111,\"#46039f\"],[0.2222222222222222,\"#7201a8\"],[0.3333333333333333,\"#9c179e\"],[0.4444444444444444,\"#bd3786\"],[0.5555555555555556,\"#d8576b\"],[0.6666666666666666,\"#ed7953\"],[0.7777777777777778,\"#fb9f3a\"],[0.8888888888888888,\"#fdca26\"],[1.0,\"#f0f921\"]],\"type\":\"contour\"}],\"contourcarpet\":[{\"colorbar\":{\"outlinewidth\":0,\"ticks\":\"\"},\"type\":\"contourcarpet\"}],\"heatmap\":[{\"colorbar\":{\"outlinewidth\":0,\"ticks\":\"\"},\"colorscale\":[[0.0,\"#0d0887\"],[0.1111111111111111,\"#46039f\"],[0.2222222222222222,\"#7201a8\"],[0.3333333333333333,\"#9c179e\"],[0.4444444444444444,\"#bd3786\"],[0.5555555555555556,\"#d8576b\"],[0.6666666666666666,\"#ed7953\"],[0.7777777777777778,\"#fb9f3a\"],[0.8888888888888888,\"#fdca26\"],[1.0,\"#f0f921\"]],\"type\":\"heatmap\"}],\"heatmapgl\":[{\"colorbar\":{\"outlinewidth\":0,\"ticks\":\"\"},\"colorscale\":[[0.0,\"#0d0887\"],[0.1111111111111111,\"#46039f\"],[0.2222222222222222,\"#7201a8\"],[0.3333333333333333,\"#9c179e\"],[0.4444444444444444,\"#bd3786\"],[0.5555555555555556,\"#d8576b\"],[0.6666666666666666,\"#ed7953\"],[0.7777777777777778,\"#fb9f3a\"],[0.8888888888888888,\"#fdca26\"],[1.0,\"#f0f921\"]],\"type\":\"heatmapgl\"}],\"histogram\":[{\"marker\":{\"pattern\":{\"fillmode\":\"overlay\",\"size\":10,\"solidity\":0.2}},\"type\":\"histogram\"}],\"histogram2d\":[{\"colorbar\":{\"outlinewidth\":0,\"ticks\":\"\"},\"colorscale\":[[0.0,\"#0d0887\"],[0.1111111111111111,\"#46039f\"],[0.2222222222222222,\"#7201a8\"],[0.3333333333333333,\"#9c179e\"],[0.4444444444444444,\"#bd3786\"],[0.5555555555555556,\"#d8576b\"],[0.6666666666666666,\"#ed7953\"],[0.7777777777777778,\"#fb9f3a\"],[0.8888888888888888,\"#fdca26\"],[1.0,\"#f0f921\"]],\"type\":\"histogram2d\"}],\"histogram2dcontour\":[{\"colorbar\":{\"outlinewidth\":0,\"ticks\":\"\"},\"colorscale\":[[0.0,\"#0d0887\"],[0.1111111111111111,\"#46039f\"],[0.2222222222222222,\"#7201a8\"],[0.3333333333333333,\"#9c179e\"],[0.4444444444444444,\"#bd3786\"],[0.5555555555555556,\"#d8576b\"],[0.6666666666666666,\"#ed7953\"],[0.7777777777777778,\"#fb9f3a\"],[0.8888888888888888,\"#fdca26\"],[1.0,\"#f0f921\"]],\"type\":\"histogram2dcontour\"}],\"mesh3d\":[{\"colorbar\":{\"outlinewidth\":0,\"ticks\":\"\"},\"type\":\"mesh3d\"}],\"parcoords\":[{\"line\":{\"colorbar\":{\"outlinewidth\":0,\"ticks\":\"\"}},\"type\":\"parcoords\"}],\"pie\":[{\"automargin\":true,\"type\":\"pie\"}],\"scatter\":[{\"marker\":{\"colorbar\":{\"outlinewidth\":0,\"ticks\":\"\"}},\"type\":\"scatter\"}],\"scatter3d\":[{\"line\":{\"colorbar\":{\"outlinewidth\":0,\"ticks\":\"\"}},\"marker\":{\"colorbar\":{\"outlinewidth\":0,\"ticks\":\"\"}},\"type\":\"scatter3d\"}],\"scattercarpet\":[{\"marker\":{\"colorbar\":{\"outlinewidth\":0,\"ticks\":\"\"}},\"type\":\"scattercarpet\"}],\"scattergeo\":[{\"marker\":{\"colorbar\":{\"outlinewidth\":0,\"ticks\":\"\"}},\"type\":\"scattergeo\"}],\"scattergl\":[{\"marker\":{\"colorbar\":{\"outlinewidth\":0,\"ticks\":\"\"}},\"type\":\"scattergl\"}],\"scattermapbox\":[{\"marker\":{\"colorbar\":{\"outlinewidth\":0,\"ticks\":\"\"}},\"type\":\"scattermapbox\"}],\"scatterpolar\":[{\"marker\":{\"colorbar\":{\"outlinewidth\":0,\"ticks\":\"\"}},\"type\":\"scatterpolar\"}],\"scatterpolargl\":[{\"marker\":{\"colorbar\":{\"outlinewidth\":0,\"ticks\":\"\"}},\"type\":\"scatterpolargl\"}],\"scatterternary\":[{\"marker\":{\"colorbar\":{\"outlinewidth\":0,\"ticks\":\"\"}},\"type\":\"scatterternary\"}],\"surface\":[{\"colorbar\":{\"outlinewidth\":0,\"ticks\":\"\"},\"colorscale\":[[0.0,\"#0d0887\"],[0.1111111111111111,\"#46039f\"],[0.2222222222222222,\"#7201a8\"],[0.3333333333333333,\"#9c179e\"],[0.4444444444444444,\"#bd3786\"],[0.5555555555555556,\"#d8576b\"],[0.6666666666666666,\"#ed7953\"],[0.7777777777777778,\"#fb9f3a\"],[0.8888888888888888,\"#fdca26\"],[1.0,\"#f0f921\"]],\"type\":\"surface\"}],\"table\":[{\"cells\":{\"fill\":{\"color\":\"#EBF0F8\"},\"line\":{\"color\":\"white\"}},\"header\":{\"fill\":{\"color\":\"#C8D4E3\"},\"line\":{\"color\":\"white\"}},\"type\":\"table\"}]},\"layout\":{\"annotationdefaults\":{\"arrowcolor\":\"#2a3f5f\",\"arrowhead\":0,\"arrowwidth\":1},\"autotypenumbers\":\"strict\",\"coloraxis\":{\"colorbar\":{\"outlinewidth\":0,\"ticks\":\"\"}},\"colorscale\":{\"diverging\":[[0,\"#8e0152\"],[0.1,\"#c51b7d\"],[0.2,\"#de77ae\"],[0.3,\"#f1b6da\"],[0.4,\"#fde0ef\"],[0.5,\"#f7f7f7\"],[0.6,\"#e6f5d0\"],[0.7,\"#b8e186\"],[0.8,\"#7fbc41\"],[0.9,\"#4d9221\"],[1,\"#276419\"]],\"sequential\":[[0.0,\"#0d0887\"],[0.1111111111111111,\"#46039f\"],[0.2222222222222222,\"#7201a8\"],[0.3333333333333333,\"#9c179e\"],[0.4444444444444444,\"#bd3786\"],[0.5555555555555556,\"#d8576b\"],[0.6666666666666666,\"#ed7953\"],[0.7777777777777778,\"#fb9f3a\"],[0.8888888888888888,\"#fdca26\"],[1.0,\"#f0f921\"]],\"sequentialminus\":[[0.0,\"#0d0887\"],[0.1111111111111111,\"#46039f\"],[0.2222222222222222,\"#7201a8\"],[0.3333333333333333,\"#9c179e\"],[0.4444444444444444,\"#bd3786\"],[0.5555555555555556,\"#d8576b\"],[0.6666666666666666,\"#ed7953\"],[0.7777777777777778,\"#fb9f3a\"],[0.8888888888888888,\"#fdca26\"],[1.0,\"#f0f921\"]]},\"colorway\":[\"#636efa\",\"#EF553B\",\"#00cc96\",\"#ab63fa\",\"#FFA15A\",\"#19d3f3\",\"#FF6692\",\"#B6E880\",\"#FF97FF\",\"#FECB52\"],\"font\":{\"color\":\"#2a3f5f\"},\"geo\":{\"bgcolor\":\"white\",\"lakecolor\":\"white\",\"landcolor\":\"#E5ECF6\",\"showlakes\":true,\"showland\":true,\"subunitcolor\":\"white\"},\"hoverlabel\":{\"align\":\"left\"},\"hovermode\":\"closest\",\"mapbox\":{\"style\":\"light\"},\"paper_bgcolor\":\"white\",\"plot_bgcolor\":\"#E5ECF6\",\"polar\":{\"angularaxis\":{\"gridcolor\":\"white\",\"linecolor\":\"white\",\"ticks\":\"\"},\"bgcolor\":\"#E5ECF6\",\"radialaxis\":{\"gridcolor\":\"white\",\"linecolor\":\"white\",\"ticks\":\"\"}},\"scene\":{\"xaxis\":{\"backgroundcolor\":\"#E5ECF6\",\"gridcolor\":\"white\",\"gridwidth\":2,\"linecolor\":\"white\",\"showbackground\":true,\"ticks\":\"\",\"zerolinecolor\":\"white\"},\"yaxis\":{\"backgroundcolor\":\"#E5ECF6\",\"gridcolor\":\"white\",\"gridwidth\":2,\"linecolor\":\"white\",\"showbackground\":true,\"ticks\":\"\",\"zerolinecolor\":\"white\"},\"zaxis\":{\"backgroundcolor\":\"#E5ECF6\",\"gridcolor\":\"white\",\"gridwidth\":2,\"linecolor\":\"white\",\"showbackground\":true,\"ticks\":\"\",\"zerolinecolor\":\"white\"}},\"shapedefaults\":{\"line\":{\"color\":\"#2a3f5f\"}},\"ternary\":{\"aaxis\":{\"gridcolor\":\"white\",\"linecolor\":\"white\",\"ticks\":\"\"},\"baxis\":{\"gridcolor\":\"white\",\"linecolor\":\"white\",\"ticks\":\"\"},\"bgcolor\":\"#E5ECF6\",\"caxis\":{\"gridcolor\":\"white\",\"linecolor\":\"white\",\"ticks\":\"\"}},\"title\":{\"x\":0.05},\"xaxis\":{\"automargin\":true,\"gridcolor\":\"white\",\"linecolor\":\"white\",\"ticks\":\"\",\"title\":{\"standoff\":15},\"zerolinecolor\":\"white\",\"zerolinewidth\":2},\"yaxis\":{\"automargin\":true,\"gridcolor\":\"white\",\"linecolor\":\"white\",\"ticks\":\"\",\"title\":{\"standoff\":15},\"zerolinecolor\":\"white\",\"zerolinewidth\":2}}},\"xaxis\":{\"anchor\":\"y\",\"domain\":[0.0,0.2888888888888889]},\"yaxis\":{\"anchor\":\"x\",\"domain\":[0.7777777777777778,1.0]},\"xaxis2\":{\"anchor\":\"y2\",\"domain\":[0.35555555555555557,0.6444444444444445]},\"yaxis2\":{\"anchor\":\"x2\",\"domain\":[0.7777777777777778,1.0]},\"xaxis3\":{\"anchor\":\"y3\",\"domain\":[0.7111111111111111,1.0]},\"yaxis3\":{\"anchor\":\"x3\",\"domain\":[0.7777777777777778,1.0]},\"xaxis4\":{\"anchor\":\"y4\",\"domain\":[0.0,0.2888888888888889]},\"yaxis4\":{\"anchor\":\"x4\",\"domain\":[0.3888888888888889,0.6111111111111112]},\"xaxis5\":{\"anchor\":\"y5\",\"domain\":[0.35555555555555557,0.6444444444444445]},\"yaxis5\":{\"anchor\":\"x5\",\"domain\":[0.3888888888888889,0.6111111111111112]},\"xaxis6\":{\"anchor\":\"y6\",\"domain\":[0.7111111111111111,1.0]},\"yaxis6\":{\"anchor\":\"x6\",\"domain\":[0.3888888888888889,0.6111111111111112]},\"xaxis7\":{\"anchor\":\"y7\",\"domain\":[0.0,0.2888888888888889]},\"yaxis7\":{\"anchor\":\"x7\",\"domain\":[0.0,0.22222222222222224]},\"xaxis8\":{\"anchor\":\"y8\",\"domain\":[0.35555555555555557,0.6444444444444445]},\"yaxis8\":{\"anchor\":\"x8\",\"domain\":[0.0,0.22222222222222224]},\"xaxis9\":{\"anchor\":\"y9\",\"domain\":[0.7111111111111111,1.0]},\"yaxis9\":{\"anchor\":\"x9\",\"domain\":[0.0,0.22222222222222224]},\"annotations\":[{\"font\":{\"size\":16},\"showarrow\":false,\"text\":\"Pregnancies\",\"x\":0.14444444444444446,\"xanchor\":\"center\",\"xref\":\"paper\",\"y\":1.0,\"yanchor\":\"bottom\",\"yref\":\"paper\"},{\"font\":{\"size\":16},\"showarrow\":false,\"text\":\"Glucose\",\"x\":0.5,\"xanchor\":\"center\",\"xref\":\"paper\",\"y\":1.0,\"yanchor\":\"bottom\",\"yref\":\"paper\"},{\"font\":{\"size\":16},\"showarrow\":false,\"text\":\"BloodPressure\",\"x\":0.8555555555555556,\"xanchor\":\"center\",\"xref\":\"paper\",\"y\":1.0,\"yanchor\":\"bottom\",\"yref\":\"paper\"},{\"font\":{\"size\":16},\"showarrow\":false,\"text\":\"SkinThickness\",\"x\":0.14444444444444446,\"xanchor\":\"center\",\"xref\":\"paper\",\"y\":0.6111111111111112,\"yanchor\":\"bottom\",\"yref\":\"paper\"},{\"font\":{\"size\":16},\"showarrow\":false,\"text\":\"Insulin\",\"x\":0.5,\"xanchor\":\"center\",\"xref\":\"paper\",\"y\":0.6111111111111112,\"yanchor\":\"bottom\",\"yref\":\"paper\"},{\"font\":{\"size\":16},\"showarrow\":false,\"text\":\"BMI\",\"x\":0.8555555555555556,\"xanchor\":\"center\",\"xref\":\"paper\",\"y\":0.6111111111111112,\"yanchor\":\"bottom\",\"yref\":\"paper\"},{\"font\":{\"size\":16},\"showarrow\":false,\"text\":\"DiabetesPedigreeFunction\",\"x\":0.14444444444444446,\"xanchor\":\"center\",\"xref\":\"paper\",\"y\":0.22222222222222224,\"yanchor\":\"bottom\",\"yref\":\"paper\"},{\"font\":{\"size\":16},\"showarrow\":false,\"text\":\"Age\",\"x\":0.5,\"xanchor\":\"center\",\"xref\":\"paper\",\"y\":0.22222222222222224,\"yanchor\":\"bottom\",\"yref\":\"paper\"},{\"font\":{\"size\":16},\"showarrow\":false,\"text\":\"Outcome\",\"x\":0.8555555555555556,\"xanchor\":\"center\",\"xref\":\"paper\",\"y\":0.22222222222222224,\"yanchor\":\"bottom\",\"yref\":\"paper\"}],\"title\":{\"text\":\"Subplots\"},\"height\":1000,\"width\":1200},                        {\"responsive\": true}                    ).then(function(){\n",
              "                            \n",
              "var gd = document.getElementById('6538f273-1e20-4994-99eb-75616cea124b');\n",
              "var x = new MutationObserver(function (mutations, observer) {{\n",
              "        var display = window.getComputedStyle(gd).display;\n",
              "        if (!display || display === 'none') {{\n",
              "            console.log([gd, 'removed!']);\n",
              "            Plotly.purge(gd);\n",
              "            observer.disconnect();\n",
              "        }}\n",
              "}});\n",
              "\n",
              "// Listen for the removal of the full notebook cells\n",
              "var notebookContainer = gd.closest('#notebook-container');\n",
              "if (notebookContainer) {{\n",
              "    x.observe(notebookContainer, {childList: true});\n",
              "}}\n",
              "\n",
              "// Listen for the clearing of the current output cell\n",
              "var outputEl = gd.closest('.output');\n",
              "if (outputEl) {{\n",
              "    x.observe(outputEl, {childList: true});\n",
              "}}\n",
              "\n",
              "                        })                };                            </script>        </div>\n",
              "</body>\n",
              "</html>"
            ]
          },
          "metadata": {}
        }
      ]
    },
    {
      "cell_type": "markdown",
      "source": [
        "Looking at the distribution of data, it is safe to fill the missing values with the mean values of the distribution."
      ],
      "metadata": {
        "id": "_wMkMz0Jxily"
      }
    },
    {
      "cell_type": "code",
      "source": [
        "df_copy['Glucose'].fillna(df_copy['Glucose'].mean(), inplace = True)\n",
        "df_copy['BloodPressure'].fillna(df_copy['BloodPressure'].mean(), inplace = True)\n",
        "df_copy['SkinThickness'].fillna(df_copy['SkinThickness'].median(), inplace = True)\n",
        "df_copy['Insulin'].fillna(df_copy['Insulin'].median(), inplace = True)\n",
        "df_copy['BMI'].fillna(df_copy['BMI'].median(), inplace = True)"
      ],
      "metadata": {
        "id": "D0ztGzBJxT-j"
      },
      "execution_count": null,
      "outputs": []
    },
    {
      "cell_type": "code",
      "source": [
        "plotting(df_copy)"
      ],
      "metadata": {
        "colab": {
          "base_uri": "https://localhost:8080/",
          "height": 1000
        },
        "id": "rzkuH4qhxvrM",
        "outputId": "9237a6de-504f-4c0d-ba4b-d630361b068f"
      },
      "execution_count": null,
      "outputs": [
        {
          "output_type": "display_data",
          "data": {
            "text/html": [
              "<html>\n",
              "<head><meta charset=\"utf-8\" /></head>\n",
              "<body>\n",
              "    <div>            <script src=\"https://cdnjs.cloudflare.com/ajax/libs/mathjax/2.7.5/MathJax.js?config=TeX-AMS-MML_SVG\"></script><script type=\"text/javascript\">if (window.MathJax) {MathJax.Hub.Config({SVG: {font: \"STIX-Web\"}});}</script>                <script type=\"text/javascript\">window.PlotlyConfig = {MathJaxConfig: 'local'};</script>\n",
              "        <script src=\"https://cdn.plot.ly/plotly-2.8.3.min.js\"></script>                <div id=\"61700ca3-2bd3-49cc-8d4f-fc1917297e29\" class=\"plotly-graph-div\" style=\"height:1000px; width:1200px;\"></div>            <script type=\"text/javascript\">                                    window.PLOTLYENV=window.PLOTLYENV || {};                                    if (document.getElementById(\"61700ca3-2bd3-49cc-8d4f-fc1917297e29\")) {                    Plotly.newPlot(                        \"61700ca3-2bd3-49cc-8d4f-fc1917297e29\",                        [{\"nbinsx\":15,\"x\":[6,1,8,1,0,5,3,10,2,8,4,10,10,1,5,7,0,7,1,1,3,8,7,9,11,10,7,1,13,5,5,3,3,6,10,4,11,9,2,4,3,7,7,9,7,0,1,2,7,7,1,1,5,8,7,1,7,0,0,0,2,8,5,2,7,5,0,2,1,4,2,5,13,4,1,1,7,5,0,2,3,2,7,0,5,2,13,2,15,1,1,4,7,4,2,6,2,1,6,1,1,1,0,1,2,1,1,4,3,0,3,8,1,4,7,4,5,5,4,4,0,6,2,5,0,1,3,1,1,0,4,9,3,8,2,2,0,0,0,5,3,5,2,10,4,0,9,2,5,2,1,4,9,1,8,7,2,1,2,17,4,7,0,2,0,6,3,4,4,3,6,6,2,1,2,8,6,0,5,5,6,0,1,5,4,7,8,1,8,5,3,9,7,11,8,5,1,3,4,4,0,1,0,2,6,5,8,5,1,7,2,0,7,0,9,12,5,6,5,5,0,2,7,7,1,1,0,3,4,0,4,6,1,4,3,4,7,0,9,0,1,4,3,6,2,9,10,0,9,1,9,2,2,0,12,1,3,2,1,11,3,3,4,3,4,5,0,2,0,2,10,2,3,1,13,2,7,0,5,2,0,10,7,7,2,7,5,1,4,5,0,0,2,1,0,6,2,0,14,8,0,2,5,5,3,2,10,0,0,2,6,0,2,3,7,2,3,3,3,6,4,3,0,13,2,1,1,10,2,6,8,2,1,12,1,0,0,5,9,7,1,1,1,5,8,8,1,3,3,5,4,4,3,1,3,9,1,13,12,1,5,5,5,4,4,5,6,0,3,1,3,0,0,2,2,12,0,1,4,0,1,0,1,1,1,1,5,8,5,3,1,5,1,4,4,2,3,0,3,3,4,6,5,9,5,2,4,0,8,1,6,1,1,1,0,3,1,4,1,3,1,2,0,2,8,4,0,1,0,1,2,3,1,2,1,0,12,5,1,6,0,2,4,8,4,0,1,0,0,0,1,2,0,2,2,14,1,5,10,9,9,1,8,5,10,0,0,0,8,6,1,0,0,7,4,0,2,7,8,4,3,0,4,0,0,0,1,0,4,8,2,2,4,4,3,6,5,2,7,6,2,3,6,7,3,10,0,1,2,8,12,0,9,2,3,3,9,7,13,6,2,3,6,9,3,3,1,3,0,0,2,0,1,6,1,4,0,0,0,3,8,3,10,4,1,8,5,4,1,4,1,3,6,1,1,7,1,8,11,11,6,0,1,6,0,2,1,6,4,0,3,2,3,2,1,1,6,2,10,2,0,6,12,8,8,1,8,6,3,0,11,2,3,2,6,0,0,1,1,1,1,6,1,7,4,1,1,1,0,1,3,3,7,6,11,3,6,2,9,0,2,2,6,0,2,4,0,0,5,4,7,0,2,1,10,13,5,2,7,1,0,4,6,4,3,2,1,0,11,0,1,1,5,2,1,2,2,1,11,3,10,1,8,9,6,1,4,10,6,9,6,1,10,3,8,6,9,0,3,2,2,0,0,4,5,2,3,1,1,1,8,13,2,7,2,7,3,0,4,4,2,6,1,2,4,6,10,2,9,2,3,5,10,0,3,7,3,10,1,5,4,1,1,5,1,4,1,0,2,2,3,8,2,2,2,4,0,8,2,1,11,3,1,9,13,12,1,1,3,6,4,1,3,0,8,1,7,0,1,6,2,9,9,10,2,5,1,1],\"type\":\"histogram\",\"xaxis\":\"x\",\"yaxis\":\"y\",\"opacity\":0.75},{\"nbinsx\":15,\"x\":[148.0,85.0,183.0,89.0,137.0,116.0,78.0,115.0,197.0,125.0,110.0,168.0,139.0,189.0,166.0,100.0,118.0,107.0,103.0,115.0,126.0,99.0,196.0,119.0,143.0,125.0,147.0,97.0,145.0,117.0,109.0,158.0,88.0,92.0,122.0,103.0,138.0,102.0,90.0,111.0,180.0,133.0,106.0,171.0,159.0,180.0,146.0,71.0,103.0,105.0,103.0,101.0,88.0,176.0,150.0,73.0,187.0,100.0,146.0,105.0,84.0,133.0,44.0,141.0,114.0,99.0,109.0,109.0,95.0,146.0,100.0,139.0,126.0,129.0,79.0,121.6867627785059,62.0,95.0,131.0,112.0,113.0,74.0,83.0,101.0,137.0,110.0,106.0,100.0,136.0,107.0,80.0,123.0,81.0,134.0,142.0,144.0,92.0,71.0,93.0,122.0,163.0,151.0,125.0,81.0,85.0,126.0,96.0,144.0,83.0,95.0,171.0,155.0,89.0,76.0,160.0,146.0,124.0,78.0,97.0,99.0,162.0,111.0,107.0,132.0,113.0,88.0,120.0,118.0,117.0,105.0,173.0,122.0,170.0,84.0,96.0,125.0,100.0,93.0,129.0,105.0,128.0,106.0,108.0,108.0,154.0,102.0,57.0,106.0,147.0,90.0,136.0,114.0,156.0,153.0,188.0,152.0,99.0,109.0,88.0,163.0,151.0,102.0,114.0,100.0,131.0,104.0,148.0,120.0,110.0,111.0,102.0,134.0,87.0,79.0,75.0,179.0,85.0,129.0,143.0,130.0,87.0,119.0,121.6867627785059,73.0,141.0,194.0,181.0,128.0,109.0,139.0,111.0,123.0,159.0,135.0,85.0,158.0,105.0,107.0,109.0,148.0,113.0,138.0,108.0,99.0,103.0,111.0,196.0,162.0,96.0,184.0,81.0,147.0,179.0,140.0,112.0,151.0,109.0,125.0,85.0,112.0,177.0,158.0,119.0,142.0,100.0,87.0,101.0,162.0,197.0,117.0,142.0,134.0,79.0,122.0,74.0,171.0,181.0,179.0,164.0,104.0,91.0,91.0,139.0,119.0,146.0,184.0,122.0,165.0,124.0,111.0,106.0,129.0,90.0,86.0,92.0,113.0,111.0,114.0,193.0,155.0,191.0,141.0,95.0,142.0,123.0,96.0,138.0,128.0,102.0,146.0,101.0,108.0,122.0,71.0,106.0,100.0,106.0,104.0,114.0,108.0,146.0,129.0,133.0,161.0,108.0,136.0,155.0,119.0,96.0,108.0,78.0,107.0,128.0,128.0,161.0,151.0,146.0,126.0,100.0,112.0,167.0,144.0,77.0,115.0,150.0,120.0,161.0,137.0,128.0,124.0,80.0,106.0,155.0,113.0,109.0,112.0,99.0,182.0,115.0,194.0,129.0,112.0,124.0,152.0,112.0,157.0,122.0,179.0,102.0,105.0,118.0,87.0,180.0,106.0,95.0,165.0,117.0,115.0,152.0,178.0,130.0,95.0,121.6867627785059,122.0,95.0,126.0,139.0,116.0,99.0,121.6867627785059,92.0,137.0,61.0,90.0,90.0,165.0,125.0,129.0,88.0,196.0,189.0,158.0,103.0,146.0,147.0,99.0,124.0,101.0,81.0,133.0,173.0,118.0,84.0,105.0,122.0,140.0,98.0,87.0,156.0,93.0,107.0,105.0,109.0,90.0,125.0,119.0,116.0,105.0,144.0,100.0,100.0,166.0,131.0,116.0,158.0,127.0,96.0,131.0,82.0,193.0,95.0,137.0,136.0,72.0,168.0,123.0,115.0,101.0,197.0,172.0,102.0,112.0,143.0,143.0,138.0,173.0,97.0,144.0,83.0,129.0,119.0,94.0,102.0,115.0,151.0,184.0,94.0,181.0,135.0,95.0,99.0,89.0,80.0,139.0,90.0,141.0,140.0,147.0,97.0,107.0,189.0,83.0,117.0,108.0,117.0,180.0,100.0,95.0,104.0,120.0,82.0,134.0,91.0,119.0,100.0,175.0,135.0,86.0,148.0,134.0,120.0,71.0,74.0,88.0,115.0,124.0,74.0,97.0,120.0,154.0,144.0,137.0,119.0,136.0,114.0,137.0,105.0,114.0,126.0,132.0,158.0,123.0,85.0,84.0,145.0,135.0,139.0,173.0,99.0,194.0,83.0,89.0,99.0,125.0,80.0,166.0,110.0,81.0,195.0,154.0,117.0,84.0,121.6867627785059,94.0,96.0,75.0,180.0,130.0,84.0,120.0,84.0,139.0,91.0,91.0,99.0,163.0,145.0,125.0,76.0,129.0,68.0,124.0,114.0,130.0,125.0,87.0,97.0,116.0,117.0,111.0,122.0,107.0,86.0,91.0,77.0,132.0,105.0,57.0,127.0,129.0,100.0,128.0,90.0,84.0,88.0,186.0,187.0,131.0,164.0,189.0,116.0,84.0,114.0,88.0,84.0,124.0,97.0,110.0,103.0,85.0,125.0,198.0,87.0,99.0,91.0,95.0,99.0,92.0,154.0,121.0,78.0,130.0,111.0,98.0,143.0,119.0,108.0,118.0,133.0,197.0,151.0,109.0,121.0,100.0,124.0,93.0,143.0,103.0,176.0,73.0,111.0,112.0,132.0,82.0,123.0,188.0,67.0,89.0,173.0,109.0,108.0,96.0,124.0,150.0,183.0,124.0,181.0,92.0,152.0,111.0,106.0,174.0,168.0,105.0,138.0,106.0,117.0,68.0,112.0,119.0,112.0,92.0,183.0,94.0,108.0,90.0,125.0,132.0,128.0,94.0,114.0,102.0,111.0,128.0,92.0,104.0,104.0,94.0,97.0,100.0,102.0,128.0,147.0,90.0,103.0,157.0,167.0,179.0,136.0,107.0,91.0,117.0,123.0,120.0,106.0,155.0,101.0,120.0,127.0,80.0,162.0,199.0,167.0,145.0,115.0,112.0,145.0,111.0,98.0,154.0,165.0,99.0,68.0,123.0,91.0,195.0,156.0,93.0,121.0,101.0,56.0,162.0,95.0,125.0,136.0,129.0,130.0,107.0,140.0,144.0,107.0,158.0,121.0,129.0,90.0,142.0,169.0,99.0,127.0,118.0,122.0,125.0,168.0,129.0,110.0,80.0,115.0,127.0,164.0,93.0,158.0,126.0,129.0,134.0,102.0,187.0,173.0,94.0,108.0,97.0,83.0,114.0,149.0,117.0,111.0,112.0,116.0,141.0,175.0,92.0,130.0,120.0,174.0,106.0,105.0,95.0,126.0,65.0,99.0,102.0,120.0,102.0,109.0,140.0,153.0,100.0,147.0,81.0,187.0,162.0,136.0,121.0,108.0,181.0,154.0,128.0,137.0,123.0,106.0,190.0,88.0,170.0,89.0,101.0,122.0,121.0,126.0,93.0],\"type\":\"histogram\",\"xaxis\":\"x2\",\"yaxis\":\"y2\",\"opacity\":0.75},{\"nbinsx\":15,\"x\":[72.0,66.0,64.0,66.0,40.0,74.0,50.0,72.40518417462484,70.0,96.0,92.0,74.0,80.0,60.0,72.0,72.40518417462484,84.0,74.0,30.0,70.0,88.0,84.0,90.0,80.0,94.0,70.0,76.0,66.0,82.0,92.0,75.0,76.0,58.0,92.0,78.0,60.0,76.0,76.0,68.0,72.0,64.0,84.0,92.0,110.0,64.0,66.0,56.0,70.0,66.0,72.40518417462484,80.0,50.0,66.0,90.0,66.0,50.0,68.0,88.0,82.0,64.0,72.40518417462484,72.0,62.0,58.0,66.0,74.0,88.0,92.0,66.0,85.0,66.0,64.0,90.0,86.0,75.0,48.0,78.0,72.0,72.40518417462484,66.0,44.0,72.40518417462484,78.0,65.0,108.0,74.0,72.0,68.0,70.0,68.0,55.0,80.0,78.0,72.0,82.0,72.0,62.0,48.0,50.0,90.0,72.0,60.0,96.0,72.0,65.0,56.0,122.0,58.0,58.0,85.0,72.0,62.0,76.0,62.0,54.0,92.0,74.0,48.0,60.0,76.0,76.0,64.0,74.0,80.0,76.0,30.0,70.0,58.0,88.0,84.0,70.0,56.0,64.0,74.0,68.0,60.0,70.0,60.0,80.0,72.0,78.0,82.0,52.0,66.0,62.0,75.0,80.0,64.0,78.0,70.0,74.0,65.0,86.0,82.0,78.0,88.0,52.0,56.0,74.0,72.0,90.0,74.0,80.0,64.0,88.0,74.0,66.0,68.0,66.0,90.0,82.0,70.0,72.40518417462484,60.0,64.0,72.0,78.0,110.0,78.0,82.0,80.0,64.0,74.0,60.0,74.0,68.0,68.0,98.0,76.0,80.0,62.0,70.0,66.0,72.40518417462484,55.0,84.0,58.0,62.0,64.0,60.0,80.0,82.0,68.0,70.0,72.0,72.0,76.0,104.0,64.0,84.0,60.0,85.0,95.0,65.0,82.0,70.0,62.0,68.0,74.0,66.0,60.0,90.0,72.40518417462484,60.0,66.0,78.0,76.0,52.0,70.0,80.0,86.0,80.0,80.0,68.0,68.0,72.0,84.0,90.0,84.0,76.0,64.0,70.0,54.0,50.0,76.0,85.0,68.0,90.0,70.0,86.0,52.0,84.0,80.0,68.0,62.0,64.0,56.0,68.0,50.0,76.0,68.0,72.40518417462484,70.0,80.0,62.0,74.0,72.40518417462484,64.0,52.0,72.40518417462484,86.0,62.0,78.0,78.0,70.0,70.0,60.0,64.0,74.0,62.0,70.0,76.0,88.0,86.0,80.0,74.0,84.0,86.0,56.0,72.0,88.0,62.0,78.0,48.0,50.0,62.0,70.0,84.0,78.0,72.0,72.40518417462484,58.0,82.0,98.0,76.0,76.0,68.0,68.0,68.0,68.0,66.0,70.0,74.0,50.0,80.0,68.0,80.0,74.0,66.0,78.0,60.0,74.0,70.0,90.0,75.0,72.0,64.0,70.0,86.0,70.0,72.0,58.0,72.40518417462484,80.0,60.0,76.0,72.40518417462484,76.0,78.0,84.0,70.0,74.0,68.0,86.0,72.0,88.0,46.0,72.40518417462484,62.0,80.0,80.0,84.0,82.0,62.0,78.0,88.0,50.0,72.40518417462484,74.0,76.0,64.0,70.0,108.0,78.0,74.0,54.0,72.0,64.0,86.0,102.0,82.0,64.0,64.0,58.0,52.0,82.0,82.0,60.0,75.0,100.0,72.0,68.0,60.0,62.0,70.0,54.0,74.0,100.0,82.0,68.0,66.0,76.0,64.0,72.0,78.0,58.0,56.0,66.0,70.0,70.0,64.0,61.0,84.0,78.0,64.0,48.0,72.0,62.0,74.0,68.0,90.0,72.0,84.0,74.0,60.0,84.0,68.0,82.0,68.0,64.0,88.0,68.0,64.0,64.0,78.0,78.0,72.40518417462484,64.0,94.0,82.0,72.40518417462484,74.0,74.0,75.0,68.0,72.40518417462484,85.0,75.0,70.0,88.0,104.0,66.0,64.0,70.0,62.0,78.0,72.0,80.0,64.0,74.0,64.0,70.0,68.0,72.40518417462484,54.0,62.0,54.0,68.0,84.0,74.0,72.0,62.0,70.0,78.0,98.0,56.0,52.0,64.0,72.40518417462484,78.0,82.0,70.0,66.0,90.0,64.0,84.0,80.0,76.0,74.0,86.0,70.0,88.0,58.0,82.0,72.40518417462484,68.0,62.0,78.0,72.0,80.0,65.0,90.0,68.0,70.0,72.40518417462484,74.0,68.0,72.0,70.0,74.0,90.0,72.0,68.0,64.0,78.0,82.0,90.0,60.0,50.0,78.0,72.0,62.0,68.0,62.0,54.0,70.0,88.0,86.0,60.0,90.0,70.0,80.0,72.40518417462484,70.0,58.0,60.0,64.0,74.0,66.0,65.0,60.0,76.0,66.0,72.40518417462484,56.0,72.40518417462484,90.0,60.0,80.0,92.0,74.0,72.0,85.0,90.0,78.0,90.0,76.0,68.0,82.0,110.0,70.0,68.0,88.0,62.0,64.0,70.0,70.0,76.0,68.0,74.0,76.0,66.0,68.0,60.0,80.0,54.0,72.0,62.0,72.0,66.0,70.0,96.0,58.0,60.0,86.0,44.0,44.0,80.0,68.0,70.0,90.0,60.0,78.0,76.0,76.0,56.0,66.0,66.0,86.0,72.40518417462484,84.0,78.0,80.0,52.0,72.0,82.0,76.0,24.0,74.0,38.0,88.0,72.40518417462484,74.0,78.0,72.40518417462484,60.0,78.0,62.0,82.0,62.0,54.0,58.0,88.0,80.0,74.0,72.0,96.0,62.0,82.0,72.40518417462484,86.0,76.0,94.0,70.0,64.0,88.0,68.0,78.0,80.0,65.0,64.0,78.0,60.0,82.0,62.0,72.0,74.0,76.0,76.0,74.0,86.0,70.0,80.0,72.40518417462484,72.0,74.0,74.0,50.0,84.0,60.0,54.0,60.0,74.0,54.0,70.0,52.0,58.0,80.0,106.0,82.0,84.0,76.0,106.0,80.0,60.0,80.0,82.0,70.0,58.0,78.0,68.0,58.0,106.0,100.0,82.0,70.0,86.0,60.0,52.0,58.0,56.0,76.0,64.0,80.0,82.0,74.0,64.0,50.0,74.0,82.0,80.0,114.0,70.0,68.0,60.0,90.0,74.0,72.40518417462484,88.0,70.0,76.0,78.0,88.0,72.40518417462484,76.0,80.0,72.40518417462484,46.0,78.0,64.0,64.0,78.0,62.0,58.0,74.0,50.0,78.0,72.0,60.0,76.0,86.0,66.0,68.0,86.0,94.0,78.0,78.0,84.0,88.0,52.0,78.0,86.0,88.0,56.0,75.0,60.0,86.0,72.0,60.0,74.0,80.0,44.0,58.0,94.0,88.0,84.0,94.0,74.0,70.0,62.0,70.0,78.0,62.0,88.0,78.0,88.0,90.0,72.0,76.0,92.0,58.0,74.0,62.0,76.0,70.0,72.0,60.0,70.0],\"type\":\"histogram\",\"xaxis\":\"x3\",\"yaxis\":\"y3\",\"opacity\":0.75},{\"nbinsx\":15,\"x\":[35.0,29.0,29.0,23.0,35.0,29.0,32.0,29.0,45.0,29.0,29.0,29.0,29.0,23.0,19.0,29.0,47.0,29.0,38.0,30.0,41.0,29.0,29.0,35.0,33.0,26.0,29.0,15.0,19.0,29.0,26.0,36.0,11.0,29.0,31.0,33.0,29.0,37.0,42.0,47.0,25.0,29.0,18.0,24.0,29.0,39.0,29.0,27.0,32.0,29.0,11.0,15.0,21.0,34.0,42.0,10.0,39.0,60.0,29.0,41.0,29.0,29.0,29.0,34.0,29.0,27.0,30.0,29.0,13.0,27.0,20.0,35.0,29.0,20.0,30.0,20.0,29.0,33.0,29.0,22.0,13.0,29.0,26.0,28.0,29.0,29.0,54.0,25.0,32.0,19.0,29.0,15.0,40.0,29.0,18.0,27.0,28.0,18.0,30.0,51.0,29.0,29.0,29.0,18.0,29.0,29.0,29.0,28.0,31.0,25.0,33.0,26.0,34.0,29.0,32.0,29.0,29.0,29.0,23.0,15.0,56.0,39.0,30.0,29.0,29.0,42.0,30.0,36.0,24.0,29.0,14.0,29.0,37.0,31.0,13.0,20.0,26.0,25.0,29.0,29.0,29.0,30.0,26.0,29.0,31.0,23.0,37.0,35.0,29.0,17.0,50.0,29.0,28.0,42.0,29.0,44.0,15.0,21.0,19.0,41.0,38.0,40.0,34.0,23.0,29.0,18.0,25.0,29.0,29.0,12.0,29.0,23.0,23.0,42.0,24.0,42.0,29.0,46.0,29.0,29.0,29.0,18.0,20.0,29.0,29.0,28.0,36.0,41.0,39.0,35.0,29.0,44.0,29.0,29.0,20.0,41.0,29.0,13.0,44.0,27.0,16.0,29.0,20.0,16.0,32.0,28.0,29.0,29.0,27.0,33.0,22.0,54.0,31.0,26.0,32.0,40.0,41.0,30.0,22.0,29.0,29.0,29.0,29.0,33.0,15.0,27.0,29.0,38.0,39.0,31.0,29.0,37.0,25.0,29.0,28.0,29.0,21.0,27.0,21.0,29.0,24.0,32.0,29.0,22.0,35.0,15.0,29.0,33.0,33.0,19.0,29.0,29.0,14.0,32.0,7.0,35.0,39.0,22.0,16.0,28.0,15.0,29.0,32.0,15.0,29.0,18.0,29.0,42.0,29.0,29.0,37.0,32.0,29.0,50.0,29.0,52.0,24.0,23.0,29.0,10.0,29.0,28.0,15.0,29.0,29.0,26.0,44.0,39.0,17.0,43.0,29.0,30.0,37.0,45.0,29.0,31.0,38.0,29.0,25.0,29.0,29.0,33.0,41.0,29.0,29.0,37.0,23.0,14.0,19.0,28.0,30.0,37.0,17.0,10.0,31.0,22.0,11.0,29.0,39.0,29.0,12.0,30.0,20.0,33.0,32.0,21.0,32.0,29.0,36.0,32.0,19.0,16.0,29.0,29.0,18.0,43.0,29.0,29.0,34.0,29.0,13.0,21.0,35.0,29.0,29.0,36.0,19.0,29.0,19.0,32.0,29.0,29.0,28.0,12.0,29.0,29.0,40.0,30.0,40.0,36.0,33.0,29.0,37.0,29.0,25.0,28.0,29.0,17.0,16.0,28.0,48.0,23.0,22.0,40.0,43.0,43.0,15.0,37.0,29.0,39.0,30.0,22.0,8.0,18.0,24.0,13.0,29.0,36.0,26.0,23.0,29.0,29.0,14.0,12.0,29.0,24.0,34.0,40.0,29.0,31.0,29.0,29.0,41.0,25.0,29.0,32.0,29.0,29.0,29.0,49.0,39.0,30.0,23.0,22.0,35.0,33.0,21.0,32.0,29.0,29.0,41.0,18.0,46.0,22.0,32.0,39.0,29.0,30.0,46.0,25.0,29.0,16.0,11.0,29.0,8.0,29.0,33.0,29.0,15.0,29.0,25.0,23.0,27.0,29.0,12.0,63.0,12.0,45.0,37.0,18.0,13.0,29.0,32.0,29.0,28.0,30.0,29.0,28.0,48.0,33.0,22.0,29.0,40.0,30.0,29.0,13.0,10.0,36.0,29.0,41.0,40.0,38.0,27.0,29.0,29.0,27.0,45.0,17.0,38.0,31.0,30.0,37.0,22.0,31.0,29.0,42.0,41.0,32.0,17.0,29.0,28.0,30.0,38.0,18.0,29.0,29.0,29.0,15.0,33.0,32.0,19.0,32.0,41.0,25.0,39.0,29.0,26.0,23.0,23.0,29.0,31.0,17.0,29.0,29.0,19.0,18.0,34.0,29.0,29.0,7.0,32.0,33.0,29.0,29.0,29.0,18.0,19.0,15.0,31.0,29.0,18.0,29.0,52.0,29.0,30.0,29.0,29.0,29.0,37.0,49.0,40.0,25.0,32.0,23.0,29.0,35.0,27.0,21.0,43.0,31.0,28.0,30.0,29.0,24.0,23.0,33.0,40.0,29.0,40.0,29.0,29.0,32.0,34.0,19.0,29.0,14.0,30.0,32.0,29.0,30.0,29.0,29.0,31.0,17.0,30.0,47.0,20.0,29.0,29.0,99.0,46.0,27.0,17.0,29.0,24.0,11.0,29.0,29.0,27.0,29.0,40.0,50.0,29.0,22.0,45.0,14.0,29.0,19.0,29.0,18.0,19.0,29.0,36.0,29.0,29.0,32.0,42.0,25.0,39.0,13.0,21.0,22.0,42.0,28.0,26.0,29.0,29.0,13.0,24.0,29.0,42.0,20.0,29.0,27.0,29.0,47.0,29.0,29.0,29.0,22.0,29.0,40.0,29.0,17.0,29.0,29.0,29.0,18.0,32.0,12.0,17.0,29.0,29.0,29.0,30.0,35.0,17.0,36.0,35.0,25.0,25.0,23.0,40.0,29.0,28.0,27.0,35.0,48.0,29.0,31.0,29.0,43.0,46.0,46.0,39.0,45.0,18.0,27.0,33.0,30.0,26.0,10.0,23.0,35.0,29.0,29.0,29.0,29.0,29.0,17.0,28.0,36.0,39.0,29.0,29.0,26.0,29.0,19.0,26.0,46.0,29.0,29.0,32.0,49.0,29.0,24.0,19.0,29.0,11.0,29.0,27.0,31.0,29.0,29.0,20.0,36.0,29.0,21.0,29.0,32.0,13.0,27.0,36.0,20.0,29.0,33.0,39.0,18.0,46.0,27.0,19.0,36.0,29.0,30.0,29.0,40.0,29.0,26.0,29.0,29.0,23.0,29.0,37.0,27.0,29.0,32.0,27.0,23.0,17.0,29.0,37.0,20.0,18.0,29.0,37.0,33.0,41.0,41.0,22.0,29.0,29.0,39.0,24.0,44.0,32.0,39.0,41.0,29.0,29.0,29.0,26.0,31.0,29.0,48.0,27.0,23.0,29.0,31.0],\"type\":\"histogram\",\"xaxis\":\"x4\",\"yaxis\":\"y4\",\"opacity\":0.75},{\"nbinsx\":15,\"x\":[125.0,125.0,125.0,94.0,168.0,125.0,88.0,125.0,543.0,125.0,125.0,125.0,125.0,846.0,175.0,125.0,230.0,125.0,83.0,96.0,235.0,125.0,125.0,125.0,146.0,115.0,125.0,140.0,110.0,125.0,125.0,245.0,54.0,125.0,125.0,192.0,125.0,125.0,125.0,207.0,70.0,125.0,125.0,240.0,125.0,125.0,125.0,125.0,125.0,125.0,82.0,36.0,23.0,300.0,342.0,125.0,304.0,110.0,125.0,142.0,125.0,125.0,125.0,128.0,125.0,125.0,125.0,125.0,38.0,100.0,90.0,140.0,125.0,270.0,125.0,125.0,125.0,125.0,125.0,125.0,125.0,125.0,71.0,125.0,125.0,125.0,125.0,71.0,110.0,125.0,125.0,176.0,48.0,125.0,64.0,228.0,125.0,76.0,64.0,220.0,125.0,125.0,125.0,40.0,125.0,152.0,125.0,140.0,18.0,36.0,135.0,495.0,37.0,125.0,175.0,125.0,125.0,125.0,125.0,51.0,100.0,125.0,100.0,125.0,125.0,99.0,135.0,94.0,145.0,125.0,168.0,125.0,225.0,125.0,49.0,140.0,50.0,92.0,125.0,325.0,125.0,125.0,63.0,125.0,284.0,125.0,125.0,119.0,125.0,125.0,204.0,125.0,155.0,485.0,125.0,125.0,94.0,135.0,53.0,114.0,125.0,105.0,285.0,125.0,125.0,156.0,125.0,125.0,125.0,78.0,125.0,130.0,125.0,48.0,55.0,130.0,125.0,130.0,125.0,125.0,125.0,92.0,23.0,125.0,125.0,125.0,495.0,58.0,114.0,160.0,125.0,94.0,125.0,125.0,125.0,210.0,125.0,48.0,99.0,318.0,125.0,125.0,125.0,44.0,190.0,125.0,280.0,125.0,87.0,125.0,125.0,125.0,125.0,130.0,175.0,271.0,129.0,120.0,125.0,125.0,478.0,125.0,125.0,190.0,56.0,32.0,125.0,125.0,744.0,53.0,125.0,370.0,37.0,125.0,45.0,125.0,192.0,125.0,125.0,125.0,125.0,88.0,125.0,176.0,194.0,125.0,125.0,680.0,402.0,125.0,125.0,125.0,55.0,125.0,258.0,125.0,125.0,125.0,375.0,150.0,130.0,125.0,125.0,125.0,125.0,67.0,125.0,125.0,125.0,125.0,125.0,56.0,125.0,45.0,125.0,57.0,125.0,116.0,125.0,278.0,125.0,122.0,155.0,125.0,125.0,135.0,545.0,220.0,49.0,75.0,40.0,74.0,182.0,194.0,125.0,120.0,360.0,215.0,184.0,125.0,125.0,135.0,42.0,125.0,125.0,105.0,132.0,148.0,180.0,205.0,125.0,148.0,96.0,85.0,125.0,94.0,64.0,125.0,140.0,125.0,231.0,125.0,125.0,29.0,125.0,168.0,156.0,125.0,120.0,68.0,125.0,52.0,125.0,125.0,58.0,255.0,125.0,125.0,171.0,125.0,105.0,73.0,125.0,125.0,125.0,108.0,83.0,125.0,74.0,125.0,125.0,125.0,125.0,43.0,125.0,125.0,167.0,125.0,54.0,249.0,325.0,125.0,125.0,125.0,293.0,83.0,125.0,125.0,66.0,140.0,465.0,89.0,66.0,94.0,158.0,325.0,84.0,75.0,125.0,72.0,82.0,125.0,182.0,59.0,110.0,50.0,125.0,125.0,285.0,81.0,196.0,125.0,415.0,87.0,125.0,275.0,115.0,125.0,125.0,125.0,125.0,125.0,88.0,125.0,125.0,165.0,125.0,125.0,125.0,579.0,125.0,176.0,310.0,61.0,167.0,474.0,125.0,125.0,125.0,115.0,170.0,76.0,78.0,125.0,210.0,277.0,125.0,180.0,145.0,180.0,125.0,85.0,60.0,125.0,125.0,125.0,125.0,125.0,125.0,125.0,125.0,50.0,120.0,125.0,125.0,14.0,70.0,92.0,64.0,63.0,95.0,125.0,210.0,125.0,105.0,125.0,125.0,71.0,237.0,60.0,56.0,125.0,49.0,125.0,125.0,105.0,36.0,100.0,125.0,140.0,125.0,125.0,125.0,125.0,125.0,125.0,191.0,110.0,75.0,125.0,328.0,125.0,49.0,125.0,125.0,250.0,480.0,265.0,125.0,125.0,66.0,125.0,125.0,122.0,125.0,125.0,125.0,76.0,145.0,193.0,71.0,125.0,125.0,79.0,125.0,125.0,90.0,170.0,76.0,125.0,125.0,210.0,125.0,125.0,86.0,105.0,165.0,125.0,125.0,326.0,66.0,130.0,125.0,125.0,125.0,125.0,82.0,105.0,188.0,125.0,106.0,125.0,65.0,125.0,56.0,125.0,125.0,125.0,210.0,155.0,215.0,190.0,125.0,56.0,76.0,225.0,207.0,166.0,67.0,125.0,125.0,106.0,125.0,44.0,115.0,215.0,125.0,125.0,125.0,125.0,125.0,274.0,77.0,54.0,125.0,88.0,18.0,126.0,126.0,165.0,125.0,125.0,44.0,120.0,330.0,63.0,130.0,125.0,125.0,125.0,125.0,125.0,125.0,125.0,600.0,125.0,125.0,125.0,156.0,125.0,125.0,140.0,125.0,115.0,230.0,185.0,125.0,25.0,125.0,120.0,125.0,125.0,125.0,126.0,125.0,125.0,293.0,41.0,272.0,182.0,158.0,194.0,321.0,125.0,144.0,125.0,125.0,15.0,125.0,125.0,160.0,125.0,125.0,115.0,125.0,54.0,125.0,125.0,125.0,125.0,125.0,90.0,125.0,183.0,125.0,125.0,125.0,66.0,91.0,46.0,105.0,125.0,125.0,125.0,152.0,440.0,144.0,159.0,130.0,125.0,100.0,106.0,77.0,125.0,135.0,540.0,90.0,200.0,125.0,70.0,125.0,125.0,231.0,130.0,125.0,132.0,125.0,125.0,190.0,100.0,168.0,125.0,49.0,240.0,125.0,125.0,125.0,125.0,125.0,265.0,45.0,125.0,105.0,125.0,125.0,205.0,125.0,125.0,180.0,180.0,125.0,125.0,95.0,125.0,125.0,480.0,125.0,125.0,155.0,125.0,200.0,125.0,125.0,125.0,100.0,125.0,125.0,335.0,125.0,160.0,387.0,22.0,125.0,291.0,125.0,392.0,185.0,125.0,178.0,125.0,125.0,200.0,127.0,105.0,125.0,125.0,180.0,125.0,125.0,125.0,79.0,125.0,120.0,165.0,125.0,125.0,120.0,125.0,160.0,125.0,150.0,94.0,116.0,125.0,140.0,105.0,125.0,57.0,200.0,125.0,125.0,74.0,125.0,510.0,125.0,110.0,125.0,125.0,125.0,125.0,16.0,125.0,125.0,180.0,125.0,112.0,125.0,125.0],\"type\":\"histogram\",\"xaxis\":\"x5\",\"yaxis\":\"y5\",\"opacity\":0.75},{\"nbinsx\":15,\"x\":[33.6,26.6,23.3,28.1,43.1,25.6,31.0,35.3,30.5,32.3,37.6,38.0,27.1,30.1,25.8,30.0,45.8,29.6,43.3,34.6,39.3,35.4,39.8,29.0,36.6,31.1,39.4,23.2,22.2,34.1,36.0,31.6,24.8,19.9,27.6,24.0,33.2,32.9,38.2,37.1,34.0,40.2,22.7,45.4,27.4,42.0,29.7,28.0,39.1,32.3,19.4,24.2,24.4,33.7,34.7,23.0,37.7,46.8,40.5,41.5,32.3,32.9,25.0,25.4,32.8,29.0,32.5,42.7,19.6,28.9,32.9,28.6,43.4,35.1,32.0,24.7,32.6,37.7,43.2,25.0,22.4,32.3,29.3,24.6,48.8,32.4,36.6,38.5,37.1,26.5,19.1,32.0,46.7,23.8,24.7,33.9,31.6,20.4,28.7,49.7,39.0,26.1,22.5,26.6,39.6,28.7,22.4,29.5,34.3,37.4,33.3,34.0,31.2,34.0,30.5,31.2,34.0,33.7,28.2,23.2,53.2,34.2,33.6,26.8,33.3,55.0,42.9,33.3,34.5,27.9,29.7,33.3,34.5,38.3,21.1,33.8,30.8,28.7,31.2,36.9,21.1,39.5,32.5,32.4,32.8,32.3,32.8,30.5,33.7,27.3,37.4,21.9,34.3,40.6,47.9,50.0,24.6,25.2,29.0,40.9,29.7,37.2,44.2,29.7,31.6,29.9,32.5,29.6,31.9,28.4,30.8,35.4,28.9,43.5,29.7,32.7,31.2,67.1,45.0,39.1,23.2,34.9,27.7,26.8,27.6,35.9,30.1,32.0,27.9,31.6,22.6,33.1,30.4,52.3,24.4,39.4,24.3,22.9,34.8,30.9,31.0,40.1,27.3,20.4,37.7,23.9,37.5,37.7,33.2,35.5,27.7,42.8,34.2,42.6,34.2,41.8,35.8,30.0,29.0,37.8,34.6,31.6,25.2,28.8,23.6,34.6,35.7,37.2,36.7,45.2,44.0,46.2,25.4,35.0,29.7,43.6,35.9,44.1,30.8,18.4,29.2,33.1,25.6,27.1,38.2,30.0,31.2,52.3,35.4,30.1,31.2,28.0,24.4,35.8,27.6,33.6,30.1,28.7,25.9,33.3,30.9,30.0,32.1,32.4,32.0,33.6,36.3,40.0,25.1,27.5,45.6,25.2,23.0,33.2,34.2,40.5,26.5,27.8,24.9,25.3,37.9,35.9,32.4,30.4,27.0,26.0,38.7,45.6,20.8,36.1,36.9,36.6,43.3,40.5,21.9,35.5,28.0,30.7,36.6,23.6,32.3,31.6,35.8,52.9,21.0,39.7,25.5,24.8,30.5,32.9,26.2,39.4,26.6,29.5,35.9,34.1,19.3,30.5,38.1,23.5,27.5,31.6,27.4,26.8,35.7,25.6,35.1,35.1,45.5,30.8,23.1,32.7,43.3,23.6,23.9,47.9,33.8,31.2,34.2,39.9,25.9,25.9,32.0,34.7,36.8,38.5,28.7,23.5,21.8,41.0,42.2,31.2,34.4,27.2,42.7,30.4,33.3,39.9,35.3,36.5,31.2,29.8,39.2,38.5,34.9,34.0,27.6,21.0,27.5,32.8,38.4,32.3,35.8,34.9,36.2,39.2,25.2,37.2,48.3,43.4,30.8,20.0,25.4,25.1,24.3,22.3,32.3,43.3,32.0,31.6,32.0,45.7,23.7,22.1,32.9,27.7,24.7,34.3,21.1,34.9,32.0,24.2,35.0,31.6,32.9,42.1,28.9,21.9,25.9,42.4,35.7,34.4,42.4,26.2,34.6,35.7,27.2,38.5,18.2,26.4,45.3,26.0,40.6,30.8,42.9,37.0,32.3,34.1,40.6,35.0,22.2,30.4,30.0,25.6,24.5,42.4,37.4,29.9,18.2,36.8,34.3,32.2,33.2,30.5,29.7,59.4,25.3,36.5,33.6,30.5,21.2,28.9,39.9,19.6,37.8,33.6,26.7,30.2,37.6,25.9,20.8,21.8,35.3,27.6,24.0,21.8,27.8,36.8,30.0,46.1,41.3,33.2,38.8,29.9,28.9,27.3,33.7,23.8,25.9,28.0,35.5,35.2,27.8,38.2,44.2,42.3,40.7,46.5,25.6,26.1,36.8,33.5,32.8,28.9,32.3,26.6,26.0,30.1,25.1,29.3,25.2,37.2,39.0,33.3,37.3,33.3,36.5,28.6,30.4,25.0,29.7,22.1,24.2,27.3,25.6,31.6,30.3,37.6,32.8,19.6,25.0,33.2,32.3,34.2,31.6,21.8,18.2,26.3,30.8,24.6,29.8,45.3,41.3,29.8,33.3,32.9,29.6,21.7,36.3,36.4,39.4,32.4,34.9,39.5,32.0,34.5,43.6,33.1,32.8,28.5,27.4,31.9,27.8,29.9,36.9,25.5,38.1,27.8,46.2,30.1,33.8,41.3,37.6,26.9,32.4,26.1,38.6,32.0,31.3,34.3,32.5,22.6,29.5,34.7,30.1,35.5,24.0,42.9,27.0,34.7,42.1,25.0,26.5,38.7,28.7,22.5,34.9,24.3,33.3,21.1,46.8,39.4,34.4,28.5,33.6,32.0,45.3,27.8,36.8,23.1,27.1,23.7,27.8,35.2,28.4,35.8,40.0,19.5,41.5,24.0,30.9,32.9,38.2,32.5,36.1,25.8,28.7,20.1,28.2,32.4,38.4,24.2,40.8,43.5,30.8,37.7,24.7,32.4,34.6,24.7,27.4,34.5,26.2,27.5,25.9,31.2,28.8,31.6,40.9,19.5,29.3,34.3,29.5,28.0,27.6,39.4,23.4,37.8,28.3,26.4,25.2,33.8,34.1,26.8,34.2,38.7,21.8,38.9,39.0,34.2,27.7,42.9,37.6,37.9,33.7,34.8,32.5,27.5,34.0,30.9,33.6,25.4,35.5,57.3,35.6,30.9,24.8,35.3,36.0,24.2,24.2,49.6,44.6,32.3,32.3,33.2,23.1,28.3,24.1,46.1,24.6,42.3,39.1,38.5,23.5,30.4,29.9,25.0,34.5,44.5,35.9,27.6,35.0,38.5,28.4,39.8,32.3,34.4,32.8,38.0,31.2,29.6,41.2,26.4,29.5,33.9,33.8,23.1,35.5,35.6,29.3,38.1,29.3,39.1,32.8,39.4,36.1,32.4,22.9,30.1,28.4,28.4,44.5,29.0,23.3,35.4,27.4,32.0,36.6,39.5,42.3,30.8,28.5,32.7,40.6,30.0,49.3,46.3,36.4,24.3,31.2,39.0,26.0,43.3,32.4,36.5,32.0,36.3,37.5,35.5,28.4,44.0,22.5,32.9,36.8,26.2,30.1,30.4],\"type\":\"histogram\",\"xaxis\":\"x6\",\"yaxis\":\"y6\",\"opacity\":0.75},{\"nbinsx\":15,\"x\":[0.627,0.351,0.672,0.167,2.288,0.201,0.248,0.134,0.158,0.232,0.191,0.537,1.441,0.398,0.587,0.484,0.551,0.254,0.183,0.529,0.704,0.388,0.451,0.263,0.254,0.205,0.257,0.487,0.245,0.337,0.546,0.851,0.267,0.188,0.512,0.966,0.42,0.665,0.503,1.39,0.271,0.696,0.235,0.721,0.294,1.893,0.564,0.586,0.344,0.305,0.491,0.526,0.342,0.467,0.718,0.248,0.254,0.962,1.781,0.173,0.304,0.27,0.587,0.699,0.258,0.203,0.855,0.845,0.334,0.189,0.867,0.411,0.583,0.231,0.396,0.14,0.391,0.37,0.27,0.307,0.14,0.102,0.767,0.237,0.227,0.698,0.178,0.324,0.153,0.165,0.258,0.443,0.261,0.277,0.761,0.255,0.13,0.323,0.356,0.325,1.222,0.179,0.262,0.283,0.93,0.801,0.207,0.287,0.336,0.247,0.199,0.543,0.192,0.391,0.588,0.539,0.22,0.654,0.443,0.223,0.759,0.26,0.404,0.186,0.278,0.496,0.452,0.261,0.403,0.741,0.361,1.114,0.356,0.457,0.647,0.088,0.597,0.532,0.703,0.159,0.268,0.286,0.318,0.272,0.237,0.572,0.096,1.4,0.218,0.085,0.399,0.432,1.189,0.687,0.137,0.337,0.637,0.833,0.229,0.817,0.294,0.204,0.167,0.368,0.743,0.722,0.256,0.709,0.471,0.495,0.18,0.542,0.773,0.678,0.37,0.719,0.382,0.319,0.19,0.956,0.084,0.725,0.299,0.268,0.244,0.745,0.615,1.321,0.64,0.361,0.142,0.374,0.383,0.578,0.136,0.395,0.187,0.678,0.905,0.15,0.874,0.236,0.787,0.235,0.324,0.407,0.605,0.151,0.289,0.355,0.29,0.375,0.164,0.431,0.26,0.742,0.514,0.464,1.224,0.261,1.072,0.805,0.209,0.687,0.666,0.101,0.198,0.652,2.329,0.089,0.645,0.238,0.583,0.394,0.293,0.479,0.586,0.686,0.831,0.582,0.192,0.446,0.402,1.318,0.329,1.213,0.258,0.427,0.282,0.143,0.38,0.284,0.249,0.238,0.926,0.543,0.557,0.092,0.655,1.353,0.299,0.761,0.612,0.2,0.226,0.997,0.933,1.101,0.078,0.24,1.136,0.128,0.254,0.422,0.251,0.677,0.296,0.454,0.744,0.881,0.334,0.28,0.262,0.165,0.259,0.647,0.619,0.808,0.34,0.263,0.434,0.757,1.224,0.613,0.254,0.692,0.337,0.52,0.412,0.84,0.839,0.422,0.156,0.209,0.207,0.215,0.326,0.143,1.391,0.875,0.313,0.605,0.433,0.626,1.127,0.315,0.284,0.345,0.15,0.129,0.527,0.197,0.254,0.731,0.148,0.123,0.692,0.2,0.127,0.122,1.476,0.166,0.282,0.137,0.26,0.259,0.932,0.343,0.893,0.331,0.472,0.673,0.389,0.29,0.485,0.349,0.654,0.187,0.279,0.346,0.237,0.252,0.243,0.58,0.559,0.302,0.962,0.569,0.378,0.875,0.583,0.207,0.305,0.52,0.385,0.499,0.368,0.252,0.306,0.234,2.137,1.731,0.545,0.225,0.816,0.528,0.299,0.509,0.238,1.021,0.821,0.236,0.947,1.268,0.221,0.205,0.66,0.239,0.452,0.949,0.444,0.34,0.389,0.463,0.803,1.6,0.944,0.196,0.389,0.241,0.161,0.151,0.286,0.28,0.135,0.52,0.376,0.336,1.191,0.702,0.674,0.528,1.076,0.256,0.534,0.258,1.095,0.554,0.624,0.219,0.507,0.561,0.496,0.421,0.516,0.264,0.256,0.328,0.284,0.233,0.108,0.551,0.527,0.167,1.138,0.205,0.244,0.434,0.147,0.727,0.435,0.497,0.23,0.955,0.38,2.42,0.658,0.33,0.51,0.285,0.415,0.542,0.381,0.832,0.498,0.212,0.687,0.364,1.001,0.46,0.733,0.416,0.705,0.258,1.022,0.452,0.269,0.6,0.183,0.571,0.607,0.17,0.259,0.21,0.126,0.231,0.711,0.466,0.162,0.419,0.344,0.197,0.306,0.233,0.63,0.365,0.536,1.159,0.294,0.551,0.629,0.292,0.145,1.144,0.174,0.304,0.292,0.547,0.163,0.839,0.313,0.267,0.727,0.738,0.238,0.263,0.314,0.692,0.968,0.409,0.297,0.207,0.2,0.525,0.154,0.268,0.771,0.304,0.18,0.582,0.187,0.305,0.189,0.652,0.151,0.444,0.299,0.107,0.493,0.66,0.717,0.686,0.917,0.501,1.251,0.302,0.197,0.735,0.804,0.968,0.661,0.549,0.825,0.159,0.365,0.423,1.034,0.16,0.341,0.68,0.204,0.591,0.247,0.422,0.471,0.161,0.218,0.237,0.126,0.3,0.121,0.502,0.401,0.497,0.601,0.748,0.412,0.085,0.338,0.203,0.27,0.268,0.43,0.198,0.892,0.28,0.813,0.693,0.245,0.575,0.371,0.206,0.259,0.19,0.687,0.417,0.129,0.249,1.154,0.342,0.925,0.175,0.402,1.699,0.733,0.682,0.194,0.559,0.088,0.407,0.4,0.19,0.1,0.692,0.212,0.514,1.258,0.482,0.27,0.138,0.292,0.593,0.787,0.878,0.557,0.207,0.157,0.257,1.282,0.141,0.246,1.698,1.461,0.347,0.158,0.362,0.206,0.393,0.144,0.148,0.732,0.238,0.343,0.115,0.167,0.465,0.153,0.649,0.871,0.149,0.695,0.303,0.178,0.61,0.73,0.134,0.447,0.455,0.26,0.133,0.234,0.466,0.269,0.455,0.142,0.24,0.155,1.162,0.19,1.292,0.182,1.394,0.165,0.637,0.245,0.217,0.235,0.141,0.43,0.164,0.631,0.551,0.285,0.88,0.587,0.328,0.23,0.263,0.127,0.614,0.332,0.364,0.366,0.536,0.64,0.591,0.314,0.181,0.828,0.335,0.856,0.257,0.886,0.439,0.191,0.128,0.268,0.253,0.598,0.904,0.483,0.565,0.905,0.304,0.118,0.177,0.261,0.176,0.148,0.674,0.295,0.439,0.441,0.352,0.121,0.826,0.97,0.595,0.415,0.378,0.317,0.289,0.349,0.251,0.265,0.236,0.496,0.433,0.326,0.141,0.323,0.259,0.646,0.426,0.56,0.284,0.515,0.6,0.453,0.293,0.785,0.4,0.219,0.734,1.174,0.488,0.358,1.096,0.408,0.178,1.182,0.261,0.223,0.222,0.443,1.057,0.391,0.258,0.197,0.278,0.766,0.403,0.142,0.171,0.34,0.245,0.349,0.315],\"type\":\"histogram\",\"xaxis\":\"x7\",\"yaxis\":\"y7\",\"opacity\":0.75},{\"nbinsx\":15,\"x\":[50,31,32,21,33,30,26,29,53,54,30,34,57,59,51,32,31,31,33,32,27,50,41,29,51,41,43,22,57,38,60,28,22,28,45,33,35,46,27,56,26,37,48,54,40,25,29,22,31,24,22,26,30,58,42,21,41,31,44,22,21,39,36,24,42,32,38,54,25,27,28,26,42,23,22,22,41,27,26,24,22,22,36,22,37,27,45,26,43,24,21,34,42,60,21,40,24,22,23,31,33,22,21,24,27,21,27,37,25,24,24,46,23,25,39,61,38,25,22,21,25,24,23,69,23,26,30,23,40,62,33,33,30,39,26,31,21,22,29,28,55,38,22,42,23,21,41,34,65,22,24,37,42,23,43,36,21,23,22,47,36,45,27,21,32,41,22,34,29,29,36,29,25,23,33,36,42,26,47,37,32,23,21,27,40,41,60,33,31,25,21,40,36,40,42,29,21,23,26,29,21,28,32,27,55,27,57,52,21,41,25,24,60,24,36,38,25,32,32,41,21,66,37,61,26,22,26,24,31,24,22,46,22,29,23,26,51,23,32,27,21,22,22,33,29,49,41,23,34,23,42,27,24,25,44,21,30,25,24,51,34,27,24,63,35,43,25,24,21,28,38,21,40,21,52,25,29,23,57,22,28,39,37,47,52,51,34,29,26,33,21,25,31,24,65,28,29,24,46,58,30,25,35,28,37,29,47,21,25,30,41,22,27,25,43,26,30,29,28,59,31,25,36,43,21,24,30,37,23,37,46,25,41,44,22,26,44,44,33,41,22,36,22,33,57,49,22,23,26,37,29,30,46,24,21,49,28,44,48,29,29,63,65,67,30,30,29,21,22,45,25,21,21,25,28,58,22,22,32,35,24,22,21,25,25,24,35,45,58,28,42,27,21,37,31,25,39,22,25,25,31,55,35,38,41,26,46,25,39,28,28,25,22,21,21,22,22,37,27,28,26,21,21,21,36,31,25,38,26,43,23,38,22,29,36,29,41,28,21,31,41,22,24,33,30,25,28,26,22,26,23,23,25,72,24,38,62,24,51,81,48,26,39,37,34,21,22,25,38,27,28,22,22,50,24,59,29,31,39,63,35,29,28,23,31,24,21,58,28,67,24,42,33,45,22,66,30,25,55,39,21,28,41,41,40,38,35,21,21,64,46,21,58,22,24,28,53,51,41,60,25,26,26,45,24,21,21,24,22,31,22,24,29,31,24,23,46,67,23,32,43,27,56,25,29,37,53,28,50,37,21,25,66,23,28,37,30,58,42,35,54,28,24,32,27,22,21,46,37,33,39,21,22,22,23,25,35,21,36,62,21,27,62,42,52,22,41,29,52,25,45,24,44,25,34,22,46,21,38,26,24,28,30,54,36,21,22,25,27,23,24,36,40,26,50,27,30,23,50,24,28,28,45,21,21,29,21,21,45,21,34,24,23,22,31,38,48,23,32,28,27,24,50,31,27,30,33,22,42,23,23,27,28,27,22,25,22,41,51,27,54,22,43,40,40,24,70,40,43,45,49,21,47,22,68,31,53,25,25,23,22,26,22,27,69,25,22,29,23,46,34,44,23,43,25,43,31,22,28,26,26,49,52,41,27,28,30,22,45,23,24,40,38,21,32,34,31,56,24,52,34,21,42,42,45,38,25,22,22,22,34,22,24,22,53,28,21,42,21,42,48,26,22,45,39,46,27,32,36,50,22,28,25,26,45,37,39,52,26,66,22,43,33,63,27,30,47,23],\"type\":\"histogram\",\"xaxis\":\"x8\",\"yaxis\":\"y8\",\"opacity\":0.75},{\"nbinsx\":15,\"x\":[1,0,1,0,1,0,1,0,1,1,0,1,0,1,1,1,1,1,0,1,0,0,1,1,1,1,1,0,0,0,0,1,0,0,0,0,0,1,1,1,0,0,0,1,0,1,0,0,1,0,0,0,0,1,0,0,1,0,0,0,0,1,0,0,1,0,1,0,0,0,1,0,1,0,0,0,0,0,1,0,0,0,0,0,1,0,0,0,1,0,0,0,0,1,0,0,0,0,0,1,1,0,0,0,0,0,0,0,0,1,1,1,0,0,1,1,1,0,0,0,1,0,0,0,1,1,0,0,1,1,1,1,1,0,0,0,0,0,0,0,0,0,0,1,0,0,0,0,0,0,0,0,1,0,1,1,0,0,0,1,0,0,0,0,1,1,0,0,0,0,1,1,0,0,0,1,0,1,0,1,0,0,0,0,0,1,1,1,1,1,0,0,1,1,0,1,0,1,1,1,0,0,0,0,0,0,1,1,0,1,0,0,0,1,1,1,1,0,1,1,1,1,0,0,0,0,0,1,0,0,1,1,0,0,0,1,1,1,1,0,0,0,1,1,0,1,0,0,0,0,0,0,0,0,1,1,0,0,0,1,0,1,0,0,1,0,1,0,0,1,1,0,0,0,0,0,1,0,0,0,1,0,0,1,1,0,0,1,0,0,0,1,1,1,0,0,1,0,1,0,1,1,0,1,0,0,1,0,1,1,0,0,1,0,1,0,0,1,0,1,0,1,1,1,0,0,1,0,1,0,0,0,1,0,0,0,0,1,1,1,0,0,0,0,0,0,0,0,0,1,0,0,0,0,0,1,1,1,0,1,1,0,0,1,0,0,1,0,0,1,1,0,0,0,0,1,0,0,1,0,0,0,0,0,0,0,1,1,1,0,0,1,0,0,1,0,0,1,0,1,1,0,1,0,1,0,1,0,1,1,0,0,0,0,1,1,0,1,0,1,0,0,0,0,1,1,0,1,0,1,0,0,0,0,0,1,0,0,0,0,1,0,0,1,1,1,0,0,1,0,0,1,0,0,0,1,0,0,1,0,0,0,0,0,0,0,0,0,1,0,0,0,0,0,0,0,1,0,0,0,1,0,0,0,1,1,0,0,0,0,0,0,0,1,0,0,0,0,1,0,0,0,1,0,0,0,1,0,0,0,1,0,0,0,0,1,1,0,0,0,0,0,0,1,0,0,0,0,0,0,0,0,0,0,0,1,0,0,0,1,1,1,1,0,0,1,1,0,0,0,0,0,0,0,0,0,0,0,0,0,1,1,0,0,0,0,0,0,0,1,0,0,0,0,0,0,0,1,0,1,1,0,0,0,1,0,1,0,1,0,1,0,1,0,0,1,0,0,1,0,0,0,0,1,1,0,1,0,0,0,0,1,1,0,1,0,0,0,1,1,0,0,0,0,0,0,0,0,0,0,1,0,0,0,0,1,0,0,1,0,0,0,1,0,0,0,1,1,1,0,0,0,0,0,0,1,0,0,0,1,0,1,1,1,1,0,1,1,0,0,0,0,0,0,0,1,1,0,1,0,0,1,0,1,0,0,0,0,0,1,0,1,0,1,0,1,1,0,0,0,0,1,1,0,0,0,1,0,1,1,0,0,1,0,0,1,1,0,0,1,0,0,1,0,0,0,0,0,0,0,1,1,1,0,0,0,0,0,0,1,1,0,0,1,0,0,1,0,1,1,1,0,0,1,1,1,0,1,0,1,0,1,0,0,0,0,1,0],\"type\":\"histogram\",\"xaxis\":\"x9\",\"yaxis\":\"y9\",\"opacity\":0.75}],                        {\"template\":{\"data\":{\"bar\":[{\"error_x\":{\"color\":\"#2a3f5f\"},\"error_y\":{\"color\":\"#2a3f5f\"},\"marker\":{\"line\":{\"color\":\"#E5ECF6\",\"width\":0.5},\"pattern\":{\"fillmode\":\"overlay\",\"size\":10,\"solidity\":0.2}},\"type\":\"bar\"}],\"barpolar\":[{\"marker\":{\"line\":{\"color\":\"#E5ECF6\",\"width\":0.5},\"pattern\":{\"fillmode\":\"overlay\",\"size\":10,\"solidity\":0.2}},\"type\":\"barpolar\"}],\"carpet\":[{\"aaxis\":{\"endlinecolor\":\"#2a3f5f\",\"gridcolor\":\"white\",\"linecolor\":\"white\",\"minorgridcolor\":\"white\",\"startlinecolor\":\"#2a3f5f\"},\"baxis\":{\"endlinecolor\":\"#2a3f5f\",\"gridcolor\":\"white\",\"linecolor\":\"white\",\"minorgridcolor\":\"white\",\"startlinecolor\":\"#2a3f5f\"},\"type\":\"carpet\"}],\"choropleth\":[{\"colorbar\":{\"outlinewidth\":0,\"ticks\":\"\"},\"type\":\"choropleth\"}],\"contour\":[{\"colorbar\":{\"outlinewidth\":0,\"ticks\":\"\"},\"colorscale\":[[0.0,\"#0d0887\"],[0.1111111111111111,\"#46039f\"],[0.2222222222222222,\"#7201a8\"],[0.3333333333333333,\"#9c179e\"],[0.4444444444444444,\"#bd3786\"],[0.5555555555555556,\"#d8576b\"],[0.6666666666666666,\"#ed7953\"],[0.7777777777777778,\"#fb9f3a\"],[0.8888888888888888,\"#fdca26\"],[1.0,\"#f0f921\"]],\"type\":\"contour\"}],\"contourcarpet\":[{\"colorbar\":{\"outlinewidth\":0,\"ticks\":\"\"},\"type\":\"contourcarpet\"}],\"heatmap\":[{\"colorbar\":{\"outlinewidth\":0,\"ticks\":\"\"},\"colorscale\":[[0.0,\"#0d0887\"],[0.1111111111111111,\"#46039f\"],[0.2222222222222222,\"#7201a8\"],[0.3333333333333333,\"#9c179e\"],[0.4444444444444444,\"#bd3786\"],[0.5555555555555556,\"#d8576b\"],[0.6666666666666666,\"#ed7953\"],[0.7777777777777778,\"#fb9f3a\"],[0.8888888888888888,\"#fdca26\"],[1.0,\"#f0f921\"]],\"type\":\"heatmap\"}],\"heatmapgl\":[{\"colorbar\":{\"outlinewidth\":0,\"ticks\":\"\"},\"colorscale\":[[0.0,\"#0d0887\"],[0.1111111111111111,\"#46039f\"],[0.2222222222222222,\"#7201a8\"],[0.3333333333333333,\"#9c179e\"],[0.4444444444444444,\"#bd3786\"],[0.5555555555555556,\"#d8576b\"],[0.6666666666666666,\"#ed7953\"],[0.7777777777777778,\"#fb9f3a\"],[0.8888888888888888,\"#fdca26\"],[1.0,\"#f0f921\"]],\"type\":\"heatmapgl\"}],\"histogram\":[{\"marker\":{\"pattern\":{\"fillmode\":\"overlay\",\"size\":10,\"solidity\":0.2}},\"type\":\"histogram\"}],\"histogram2d\":[{\"colorbar\":{\"outlinewidth\":0,\"ticks\":\"\"},\"colorscale\":[[0.0,\"#0d0887\"],[0.1111111111111111,\"#46039f\"],[0.2222222222222222,\"#7201a8\"],[0.3333333333333333,\"#9c179e\"],[0.4444444444444444,\"#bd3786\"],[0.5555555555555556,\"#d8576b\"],[0.6666666666666666,\"#ed7953\"],[0.7777777777777778,\"#fb9f3a\"],[0.8888888888888888,\"#fdca26\"],[1.0,\"#f0f921\"]],\"type\":\"histogram2d\"}],\"histogram2dcontour\":[{\"colorbar\":{\"outlinewidth\":0,\"ticks\":\"\"},\"colorscale\":[[0.0,\"#0d0887\"],[0.1111111111111111,\"#46039f\"],[0.2222222222222222,\"#7201a8\"],[0.3333333333333333,\"#9c179e\"],[0.4444444444444444,\"#bd3786\"],[0.5555555555555556,\"#d8576b\"],[0.6666666666666666,\"#ed7953\"],[0.7777777777777778,\"#fb9f3a\"],[0.8888888888888888,\"#fdca26\"],[1.0,\"#f0f921\"]],\"type\":\"histogram2dcontour\"}],\"mesh3d\":[{\"colorbar\":{\"outlinewidth\":0,\"ticks\":\"\"},\"type\":\"mesh3d\"}],\"parcoords\":[{\"line\":{\"colorbar\":{\"outlinewidth\":0,\"ticks\":\"\"}},\"type\":\"parcoords\"}],\"pie\":[{\"automargin\":true,\"type\":\"pie\"}],\"scatter\":[{\"marker\":{\"colorbar\":{\"outlinewidth\":0,\"ticks\":\"\"}},\"type\":\"scatter\"}],\"scatter3d\":[{\"line\":{\"colorbar\":{\"outlinewidth\":0,\"ticks\":\"\"}},\"marker\":{\"colorbar\":{\"outlinewidth\":0,\"ticks\":\"\"}},\"type\":\"scatter3d\"}],\"scattercarpet\":[{\"marker\":{\"colorbar\":{\"outlinewidth\":0,\"ticks\":\"\"}},\"type\":\"scattercarpet\"}],\"scattergeo\":[{\"marker\":{\"colorbar\":{\"outlinewidth\":0,\"ticks\":\"\"}},\"type\":\"scattergeo\"}],\"scattergl\":[{\"marker\":{\"colorbar\":{\"outlinewidth\":0,\"ticks\":\"\"}},\"type\":\"scattergl\"}],\"scattermapbox\":[{\"marker\":{\"colorbar\":{\"outlinewidth\":0,\"ticks\":\"\"}},\"type\":\"scattermapbox\"}],\"scatterpolar\":[{\"marker\":{\"colorbar\":{\"outlinewidth\":0,\"ticks\":\"\"}},\"type\":\"scatterpolar\"}],\"scatterpolargl\":[{\"marker\":{\"colorbar\":{\"outlinewidth\":0,\"ticks\":\"\"}},\"type\":\"scatterpolargl\"}],\"scatterternary\":[{\"marker\":{\"colorbar\":{\"outlinewidth\":0,\"ticks\":\"\"}},\"type\":\"scatterternary\"}],\"surface\":[{\"colorbar\":{\"outlinewidth\":0,\"ticks\":\"\"},\"colorscale\":[[0.0,\"#0d0887\"],[0.1111111111111111,\"#46039f\"],[0.2222222222222222,\"#7201a8\"],[0.3333333333333333,\"#9c179e\"],[0.4444444444444444,\"#bd3786\"],[0.5555555555555556,\"#d8576b\"],[0.6666666666666666,\"#ed7953\"],[0.7777777777777778,\"#fb9f3a\"],[0.8888888888888888,\"#fdca26\"],[1.0,\"#f0f921\"]],\"type\":\"surface\"}],\"table\":[{\"cells\":{\"fill\":{\"color\":\"#EBF0F8\"},\"line\":{\"color\":\"white\"}},\"header\":{\"fill\":{\"color\":\"#C8D4E3\"},\"line\":{\"color\":\"white\"}},\"type\":\"table\"}]},\"layout\":{\"annotationdefaults\":{\"arrowcolor\":\"#2a3f5f\",\"arrowhead\":0,\"arrowwidth\":1},\"autotypenumbers\":\"strict\",\"coloraxis\":{\"colorbar\":{\"outlinewidth\":0,\"ticks\":\"\"}},\"colorscale\":{\"diverging\":[[0,\"#8e0152\"],[0.1,\"#c51b7d\"],[0.2,\"#de77ae\"],[0.3,\"#f1b6da\"],[0.4,\"#fde0ef\"],[0.5,\"#f7f7f7\"],[0.6,\"#e6f5d0\"],[0.7,\"#b8e186\"],[0.8,\"#7fbc41\"],[0.9,\"#4d9221\"],[1,\"#276419\"]],\"sequential\":[[0.0,\"#0d0887\"],[0.1111111111111111,\"#46039f\"],[0.2222222222222222,\"#7201a8\"],[0.3333333333333333,\"#9c179e\"],[0.4444444444444444,\"#bd3786\"],[0.5555555555555556,\"#d8576b\"],[0.6666666666666666,\"#ed7953\"],[0.7777777777777778,\"#fb9f3a\"],[0.8888888888888888,\"#fdca26\"],[1.0,\"#f0f921\"]],\"sequentialminus\":[[0.0,\"#0d0887\"],[0.1111111111111111,\"#46039f\"],[0.2222222222222222,\"#7201a8\"],[0.3333333333333333,\"#9c179e\"],[0.4444444444444444,\"#bd3786\"],[0.5555555555555556,\"#d8576b\"],[0.6666666666666666,\"#ed7953\"],[0.7777777777777778,\"#fb9f3a\"],[0.8888888888888888,\"#fdca26\"],[1.0,\"#f0f921\"]]},\"colorway\":[\"#636efa\",\"#EF553B\",\"#00cc96\",\"#ab63fa\",\"#FFA15A\",\"#19d3f3\",\"#FF6692\",\"#B6E880\",\"#FF97FF\",\"#FECB52\"],\"font\":{\"color\":\"#2a3f5f\"},\"geo\":{\"bgcolor\":\"white\",\"lakecolor\":\"white\",\"landcolor\":\"#E5ECF6\",\"showlakes\":true,\"showland\":true,\"subunitcolor\":\"white\"},\"hoverlabel\":{\"align\":\"left\"},\"hovermode\":\"closest\",\"mapbox\":{\"style\":\"light\"},\"paper_bgcolor\":\"white\",\"plot_bgcolor\":\"#E5ECF6\",\"polar\":{\"angularaxis\":{\"gridcolor\":\"white\",\"linecolor\":\"white\",\"ticks\":\"\"},\"bgcolor\":\"#E5ECF6\",\"radialaxis\":{\"gridcolor\":\"white\",\"linecolor\":\"white\",\"ticks\":\"\"}},\"scene\":{\"xaxis\":{\"backgroundcolor\":\"#E5ECF6\",\"gridcolor\":\"white\",\"gridwidth\":2,\"linecolor\":\"white\",\"showbackground\":true,\"ticks\":\"\",\"zerolinecolor\":\"white\"},\"yaxis\":{\"backgroundcolor\":\"#E5ECF6\",\"gridcolor\":\"white\",\"gridwidth\":2,\"linecolor\":\"white\",\"showbackground\":true,\"ticks\":\"\",\"zerolinecolor\":\"white\"},\"zaxis\":{\"backgroundcolor\":\"#E5ECF6\",\"gridcolor\":\"white\",\"gridwidth\":2,\"linecolor\":\"white\",\"showbackground\":true,\"ticks\":\"\",\"zerolinecolor\":\"white\"}},\"shapedefaults\":{\"line\":{\"color\":\"#2a3f5f\"}},\"ternary\":{\"aaxis\":{\"gridcolor\":\"white\",\"linecolor\":\"white\",\"ticks\":\"\"},\"baxis\":{\"gridcolor\":\"white\",\"linecolor\":\"white\",\"ticks\":\"\"},\"bgcolor\":\"#E5ECF6\",\"caxis\":{\"gridcolor\":\"white\",\"linecolor\":\"white\",\"ticks\":\"\"}},\"title\":{\"x\":0.05},\"xaxis\":{\"automargin\":true,\"gridcolor\":\"white\",\"linecolor\":\"white\",\"ticks\":\"\",\"title\":{\"standoff\":15},\"zerolinecolor\":\"white\",\"zerolinewidth\":2},\"yaxis\":{\"automargin\":true,\"gridcolor\":\"white\",\"linecolor\":\"white\",\"ticks\":\"\",\"title\":{\"standoff\":15},\"zerolinecolor\":\"white\",\"zerolinewidth\":2}}},\"xaxis\":{\"anchor\":\"y\",\"domain\":[0.0,0.2888888888888889]},\"yaxis\":{\"anchor\":\"x\",\"domain\":[0.7777777777777778,1.0]},\"xaxis2\":{\"anchor\":\"y2\",\"domain\":[0.35555555555555557,0.6444444444444445]},\"yaxis2\":{\"anchor\":\"x2\",\"domain\":[0.7777777777777778,1.0]},\"xaxis3\":{\"anchor\":\"y3\",\"domain\":[0.7111111111111111,1.0]},\"yaxis3\":{\"anchor\":\"x3\",\"domain\":[0.7777777777777778,1.0]},\"xaxis4\":{\"anchor\":\"y4\",\"domain\":[0.0,0.2888888888888889]},\"yaxis4\":{\"anchor\":\"x4\",\"domain\":[0.3888888888888889,0.6111111111111112]},\"xaxis5\":{\"anchor\":\"y5\",\"domain\":[0.35555555555555557,0.6444444444444445]},\"yaxis5\":{\"anchor\":\"x5\",\"domain\":[0.3888888888888889,0.6111111111111112]},\"xaxis6\":{\"anchor\":\"y6\",\"domain\":[0.7111111111111111,1.0]},\"yaxis6\":{\"anchor\":\"x6\",\"domain\":[0.3888888888888889,0.6111111111111112]},\"xaxis7\":{\"anchor\":\"y7\",\"domain\":[0.0,0.2888888888888889]},\"yaxis7\":{\"anchor\":\"x7\",\"domain\":[0.0,0.22222222222222224]},\"xaxis8\":{\"anchor\":\"y8\",\"domain\":[0.35555555555555557,0.6444444444444445]},\"yaxis8\":{\"anchor\":\"x8\",\"domain\":[0.0,0.22222222222222224]},\"xaxis9\":{\"anchor\":\"y9\",\"domain\":[0.7111111111111111,1.0]},\"yaxis9\":{\"anchor\":\"x9\",\"domain\":[0.0,0.22222222222222224]},\"annotations\":[{\"font\":{\"size\":16},\"showarrow\":false,\"text\":\"Pregnancies\",\"x\":0.14444444444444446,\"xanchor\":\"center\",\"xref\":\"paper\",\"y\":1.0,\"yanchor\":\"bottom\",\"yref\":\"paper\"},{\"font\":{\"size\":16},\"showarrow\":false,\"text\":\"Glucose\",\"x\":0.5,\"xanchor\":\"center\",\"xref\":\"paper\",\"y\":1.0,\"yanchor\":\"bottom\",\"yref\":\"paper\"},{\"font\":{\"size\":16},\"showarrow\":false,\"text\":\"BloodPressure\",\"x\":0.8555555555555556,\"xanchor\":\"center\",\"xref\":\"paper\",\"y\":1.0,\"yanchor\":\"bottom\",\"yref\":\"paper\"},{\"font\":{\"size\":16},\"showarrow\":false,\"text\":\"SkinThickness\",\"x\":0.14444444444444446,\"xanchor\":\"center\",\"xref\":\"paper\",\"y\":0.6111111111111112,\"yanchor\":\"bottom\",\"yref\":\"paper\"},{\"font\":{\"size\":16},\"showarrow\":false,\"text\":\"Insulin\",\"x\":0.5,\"xanchor\":\"center\",\"xref\":\"paper\",\"y\":0.6111111111111112,\"yanchor\":\"bottom\",\"yref\":\"paper\"},{\"font\":{\"size\":16},\"showarrow\":false,\"text\":\"BMI\",\"x\":0.8555555555555556,\"xanchor\":\"center\",\"xref\":\"paper\",\"y\":0.6111111111111112,\"yanchor\":\"bottom\",\"yref\":\"paper\"},{\"font\":{\"size\":16},\"showarrow\":false,\"text\":\"DiabetesPedigreeFunction\",\"x\":0.14444444444444446,\"xanchor\":\"center\",\"xref\":\"paper\",\"y\":0.22222222222222224,\"yanchor\":\"bottom\",\"yref\":\"paper\"},{\"font\":{\"size\":16},\"showarrow\":false,\"text\":\"Age\",\"x\":0.5,\"xanchor\":\"center\",\"xref\":\"paper\",\"y\":0.22222222222222224,\"yanchor\":\"bottom\",\"yref\":\"paper\"},{\"font\":{\"size\":16},\"showarrow\":false,\"text\":\"Outcome\",\"x\":0.8555555555555556,\"xanchor\":\"center\",\"xref\":\"paper\",\"y\":0.22222222222222224,\"yanchor\":\"bottom\",\"yref\":\"paper\"}],\"title\":{\"text\":\"Subplots\"},\"height\":1000,\"width\":1200},                        {\"responsive\": true}                    ).then(function(){\n",
              "                            \n",
              "var gd = document.getElementById('61700ca3-2bd3-49cc-8d4f-fc1917297e29');\n",
              "var x = new MutationObserver(function (mutations, observer) {{\n",
              "        var display = window.getComputedStyle(gd).display;\n",
              "        if (!display || display === 'none') {{\n",
              "            console.log([gd, 'removed!']);\n",
              "            Plotly.purge(gd);\n",
              "            observer.disconnect();\n",
              "        }}\n",
              "}});\n",
              "\n",
              "// Listen for the removal of the full notebook cells\n",
              "var notebookContainer = gd.closest('#notebook-container');\n",
              "if (notebookContainer) {{\n",
              "    x.observe(notebookContainer, {childList: true});\n",
              "}}\n",
              "\n",
              "// Listen for the clearing of the current output cell\n",
              "var outputEl = gd.closest('.output');\n",
              "if (outputEl) {{\n",
              "    x.observe(outputEl, {childList: true});\n",
              "}}\n",
              "\n",
              "                        })                };                            </script>        </div>\n",
              "</body>\n",
              "</html>"
            ]
          },
          "metadata": {}
        }
      ]
    },
    {
      "cell_type": "markdown",
      "source": [
        "Replacing the missing values has not changed the distribution much  "
      ],
      "metadata": {
        "id": "cVKeZ-w0x5Lh"
      }
    },
    {
      "cell_type": "code",
      "source": [
        "#sns.pairplot(df)"
      ],
      "metadata": {
        "id": "M3vYGkKUZP7f"
      },
      "execution_count": null,
      "outputs": []
    },
    {
      "cell_type": "markdown",
      "source": [
        "Now we look at the relationship of each variable with the outcome. Before that we analyse the Outcome itself"
      ],
      "metadata": {
        "id": "YBndyaetyHVC"
      }
    },
    {
      "cell_type": "code",
      "source": [
        "fig = px.histogram(df_copy['Outcome'], nbins = 3)\n",
        "fig.update_layout(height=400, width=600)\n",
        "fig.update_traces(opacity = 0.65)"
      ],
      "metadata": {
        "id": "9Q_n3n3Fewas",
        "colab": {
          "base_uri": "https://localhost:8080/",
          "height": 417
        },
        "outputId": "8608bcf1-437d-41c0-96f4-49ca4a57536d"
      },
      "execution_count": null,
      "outputs": [
        {
          "output_type": "display_data",
          "data": {
            "text/html": [
              "<html>\n",
              "<head><meta charset=\"utf-8\" /></head>\n",
              "<body>\n",
              "    <div>            <script src=\"https://cdnjs.cloudflare.com/ajax/libs/mathjax/2.7.5/MathJax.js?config=TeX-AMS-MML_SVG\"></script><script type=\"text/javascript\">if (window.MathJax) {MathJax.Hub.Config({SVG: {font: \"STIX-Web\"}});}</script>                <script type=\"text/javascript\">window.PlotlyConfig = {MathJaxConfig: 'local'};</script>\n",
              "        <script src=\"https://cdn.plot.ly/plotly-2.8.3.min.js\"></script>                <div id=\"eaa2d912-8b44-4546-8ddd-514005778dca\" class=\"plotly-graph-div\" style=\"height:400px; width:600px;\"></div>            <script type=\"text/javascript\">                                    window.PLOTLYENV=window.PLOTLYENV || {};                                    if (document.getElementById(\"eaa2d912-8b44-4546-8ddd-514005778dca\")) {                    Plotly.newPlot(                        \"eaa2d912-8b44-4546-8ddd-514005778dca\",                        [{\"alignmentgroup\":\"True\",\"bingroup\":\"x\",\"hovertemplate\":\"variable=Outcome<br>value=%{x}<br>count=%{y}<extra></extra>\",\"legendgroup\":\"Outcome\",\"marker\":{\"color\":\"#636efa\",\"pattern\":{\"shape\":\"\"}},\"name\":\"Outcome\",\"nbinsx\":3,\"offsetgroup\":\"Outcome\",\"orientation\":\"v\",\"showlegend\":true,\"x\":[1,0,1,0,1,0,1,0,1,1,0,1,0,1,1,1,1,1,0,1,0,0,1,1,1,1,1,0,0,0,0,1,0,0,0,0,0,1,1,1,0,0,0,1,0,1,0,0,1,0,0,0,0,1,0,0,1,0,0,0,0,1,0,0,1,0,1,0,0,0,1,0,1,0,0,0,0,0,1,0,0,0,0,0,1,0,0,0,1,0,0,0,0,1,0,0,0,0,0,1,1,0,0,0,0,0,0,0,0,1,1,1,0,0,1,1,1,0,0,0,1,0,0,0,1,1,0,0,1,1,1,1,1,0,0,0,0,0,0,0,0,0,0,1,0,0,0,0,0,0,0,0,1,0,1,1,0,0,0,1,0,0,0,0,1,1,0,0,0,0,1,1,0,0,0,1,0,1,0,1,0,0,0,0,0,1,1,1,1,1,0,0,1,1,0,1,0,1,1,1,0,0,0,0,0,0,1,1,0,1,0,0,0,1,1,1,1,0,1,1,1,1,0,0,0,0,0,1,0,0,1,1,0,0,0,1,1,1,1,0,0,0,1,1,0,1,0,0,0,0,0,0,0,0,1,1,0,0,0,1,0,1,0,0,1,0,1,0,0,1,1,0,0,0,0,0,1,0,0,0,1,0,0,1,1,0,0,1,0,0,0,1,1,1,0,0,1,0,1,0,1,1,0,1,0,0,1,0,1,1,0,0,1,0,1,0,0,1,0,1,0,1,1,1,0,0,1,0,1,0,0,0,1,0,0,0,0,1,1,1,0,0,0,0,0,0,0,0,0,1,0,0,0,0,0,1,1,1,0,1,1,0,0,1,0,0,1,0,0,1,1,0,0,0,0,1,0,0,1,0,0,0,0,0,0,0,1,1,1,0,0,1,0,0,1,0,0,1,0,1,1,0,1,0,1,0,1,0,1,1,0,0,0,0,1,1,0,1,0,1,0,0,0,0,1,1,0,1,0,1,0,0,0,0,0,1,0,0,0,0,1,0,0,1,1,1,0,0,1,0,0,1,0,0,0,1,0,0,1,0,0,0,0,0,0,0,0,0,1,0,0,0,0,0,0,0,1,0,0,0,1,0,0,0,1,1,0,0,0,0,0,0,0,1,0,0,0,0,1,0,0,0,1,0,0,0,1,0,0,0,1,0,0,0,0,1,1,0,0,0,0,0,0,1,0,0,0,0,0,0,0,0,0,0,0,1,0,0,0,1,1,1,1,0,0,1,1,0,0,0,0,0,0,0,0,0,0,0,0,0,1,1,0,0,0,0,0,0,0,1,0,0,0,0,0,0,0,1,0,1,1,0,0,0,1,0,1,0,1,0,1,0,1,0,0,1,0,0,1,0,0,0,0,1,1,0,1,0,0,0,0,1,1,0,1,0,0,0,1,1,0,0,0,0,0,0,0,0,0,0,1,0,0,0,0,1,0,0,1,0,0,0,1,0,0,0,1,1,1,0,0,0,0,0,0,1,0,0,0,1,0,1,1,1,1,0,1,1,0,0,0,0,0,0,0,1,1,0,1,0,0,1,0,1,0,0,0,0,0,1,0,1,0,1,0,1,1,0,0,0,0,1,1,0,0,0,1,0,1,1,0,0,1,0,0,1,1,0,0,1,0,0,1,0,0,0,0,0,0,0,1,1,1,0,0,0,0,0,0,1,1,0,0,1,0,0,1,0,1,1,1,0,0,1,1,1,0,1,0,1,0,1,0,0,0,0,1,0],\"xaxis\":\"x\",\"yaxis\":\"y\",\"type\":\"histogram\",\"opacity\":0.65}],                        {\"template\":{\"data\":{\"bar\":[{\"error_x\":{\"color\":\"#2a3f5f\"},\"error_y\":{\"color\":\"#2a3f5f\"},\"marker\":{\"line\":{\"color\":\"#E5ECF6\",\"width\":0.5},\"pattern\":{\"fillmode\":\"overlay\",\"size\":10,\"solidity\":0.2}},\"type\":\"bar\"}],\"barpolar\":[{\"marker\":{\"line\":{\"color\":\"#E5ECF6\",\"width\":0.5},\"pattern\":{\"fillmode\":\"overlay\",\"size\":10,\"solidity\":0.2}},\"type\":\"barpolar\"}],\"carpet\":[{\"aaxis\":{\"endlinecolor\":\"#2a3f5f\",\"gridcolor\":\"white\",\"linecolor\":\"white\",\"minorgridcolor\":\"white\",\"startlinecolor\":\"#2a3f5f\"},\"baxis\":{\"endlinecolor\":\"#2a3f5f\",\"gridcolor\":\"white\",\"linecolor\":\"white\",\"minorgridcolor\":\"white\",\"startlinecolor\":\"#2a3f5f\"},\"type\":\"carpet\"}],\"choropleth\":[{\"colorbar\":{\"outlinewidth\":0,\"ticks\":\"\"},\"type\":\"choropleth\"}],\"contour\":[{\"colorbar\":{\"outlinewidth\":0,\"ticks\":\"\"},\"colorscale\":[[0.0,\"#0d0887\"],[0.1111111111111111,\"#46039f\"],[0.2222222222222222,\"#7201a8\"],[0.3333333333333333,\"#9c179e\"],[0.4444444444444444,\"#bd3786\"],[0.5555555555555556,\"#d8576b\"],[0.6666666666666666,\"#ed7953\"],[0.7777777777777778,\"#fb9f3a\"],[0.8888888888888888,\"#fdca26\"],[1.0,\"#f0f921\"]],\"type\":\"contour\"}],\"contourcarpet\":[{\"colorbar\":{\"outlinewidth\":0,\"ticks\":\"\"},\"type\":\"contourcarpet\"}],\"heatmap\":[{\"colorbar\":{\"outlinewidth\":0,\"ticks\":\"\"},\"colorscale\":[[0.0,\"#0d0887\"],[0.1111111111111111,\"#46039f\"],[0.2222222222222222,\"#7201a8\"],[0.3333333333333333,\"#9c179e\"],[0.4444444444444444,\"#bd3786\"],[0.5555555555555556,\"#d8576b\"],[0.6666666666666666,\"#ed7953\"],[0.7777777777777778,\"#fb9f3a\"],[0.8888888888888888,\"#fdca26\"],[1.0,\"#f0f921\"]],\"type\":\"heatmap\"}],\"heatmapgl\":[{\"colorbar\":{\"outlinewidth\":0,\"ticks\":\"\"},\"colorscale\":[[0.0,\"#0d0887\"],[0.1111111111111111,\"#46039f\"],[0.2222222222222222,\"#7201a8\"],[0.3333333333333333,\"#9c179e\"],[0.4444444444444444,\"#bd3786\"],[0.5555555555555556,\"#d8576b\"],[0.6666666666666666,\"#ed7953\"],[0.7777777777777778,\"#fb9f3a\"],[0.8888888888888888,\"#fdca26\"],[1.0,\"#f0f921\"]],\"type\":\"heatmapgl\"}],\"histogram\":[{\"marker\":{\"pattern\":{\"fillmode\":\"overlay\",\"size\":10,\"solidity\":0.2}},\"type\":\"histogram\"}],\"histogram2d\":[{\"colorbar\":{\"outlinewidth\":0,\"ticks\":\"\"},\"colorscale\":[[0.0,\"#0d0887\"],[0.1111111111111111,\"#46039f\"],[0.2222222222222222,\"#7201a8\"],[0.3333333333333333,\"#9c179e\"],[0.4444444444444444,\"#bd3786\"],[0.5555555555555556,\"#d8576b\"],[0.6666666666666666,\"#ed7953\"],[0.7777777777777778,\"#fb9f3a\"],[0.8888888888888888,\"#fdca26\"],[1.0,\"#f0f921\"]],\"type\":\"histogram2d\"}],\"histogram2dcontour\":[{\"colorbar\":{\"outlinewidth\":0,\"ticks\":\"\"},\"colorscale\":[[0.0,\"#0d0887\"],[0.1111111111111111,\"#46039f\"],[0.2222222222222222,\"#7201a8\"],[0.3333333333333333,\"#9c179e\"],[0.4444444444444444,\"#bd3786\"],[0.5555555555555556,\"#d8576b\"],[0.6666666666666666,\"#ed7953\"],[0.7777777777777778,\"#fb9f3a\"],[0.8888888888888888,\"#fdca26\"],[1.0,\"#f0f921\"]],\"type\":\"histogram2dcontour\"}],\"mesh3d\":[{\"colorbar\":{\"outlinewidth\":0,\"ticks\":\"\"},\"type\":\"mesh3d\"}],\"parcoords\":[{\"line\":{\"colorbar\":{\"outlinewidth\":0,\"ticks\":\"\"}},\"type\":\"parcoords\"}],\"pie\":[{\"automargin\":true,\"type\":\"pie\"}],\"scatter\":[{\"marker\":{\"colorbar\":{\"outlinewidth\":0,\"ticks\":\"\"}},\"type\":\"scatter\"}],\"scatter3d\":[{\"line\":{\"colorbar\":{\"outlinewidth\":0,\"ticks\":\"\"}},\"marker\":{\"colorbar\":{\"outlinewidth\":0,\"ticks\":\"\"}},\"type\":\"scatter3d\"}],\"scattercarpet\":[{\"marker\":{\"colorbar\":{\"outlinewidth\":0,\"ticks\":\"\"}},\"type\":\"scattercarpet\"}],\"scattergeo\":[{\"marker\":{\"colorbar\":{\"outlinewidth\":0,\"ticks\":\"\"}},\"type\":\"scattergeo\"}],\"scattergl\":[{\"marker\":{\"colorbar\":{\"outlinewidth\":0,\"ticks\":\"\"}},\"type\":\"scattergl\"}],\"scattermapbox\":[{\"marker\":{\"colorbar\":{\"outlinewidth\":0,\"ticks\":\"\"}},\"type\":\"scattermapbox\"}],\"scatterpolar\":[{\"marker\":{\"colorbar\":{\"outlinewidth\":0,\"ticks\":\"\"}},\"type\":\"scatterpolar\"}],\"scatterpolargl\":[{\"marker\":{\"colorbar\":{\"outlinewidth\":0,\"ticks\":\"\"}},\"type\":\"scatterpolargl\"}],\"scatterternary\":[{\"marker\":{\"colorbar\":{\"outlinewidth\":0,\"ticks\":\"\"}},\"type\":\"scatterternary\"}],\"surface\":[{\"colorbar\":{\"outlinewidth\":0,\"ticks\":\"\"},\"colorscale\":[[0.0,\"#0d0887\"],[0.1111111111111111,\"#46039f\"],[0.2222222222222222,\"#7201a8\"],[0.3333333333333333,\"#9c179e\"],[0.4444444444444444,\"#bd3786\"],[0.5555555555555556,\"#d8576b\"],[0.6666666666666666,\"#ed7953\"],[0.7777777777777778,\"#fb9f3a\"],[0.8888888888888888,\"#fdca26\"],[1.0,\"#f0f921\"]],\"type\":\"surface\"}],\"table\":[{\"cells\":{\"fill\":{\"color\":\"#EBF0F8\"},\"line\":{\"color\":\"white\"}},\"header\":{\"fill\":{\"color\":\"#C8D4E3\"},\"line\":{\"color\":\"white\"}},\"type\":\"table\"}]},\"layout\":{\"annotationdefaults\":{\"arrowcolor\":\"#2a3f5f\",\"arrowhead\":0,\"arrowwidth\":1},\"autotypenumbers\":\"strict\",\"coloraxis\":{\"colorbar\":{\"outlinewidth\":0,\"ticks\":\"\"}},\"colorscale\":{\"diverging\":[[0,\"#8e0152\"],[0.1,\"#c51b7d\"],[0.2,\"#de77ae\"],[0.3,\"#f1b6da\"],[0.4,\"#fde0ef\"],[0.5,\"#f7f7f7\"],[0.6,\"#e6f5d0\"],[0.7,\"#b8e186\"],[0.8,\"#7fbc41\"],[0.9,\"#4d9221\"],[1,\"#276419\"]],\"sequential\":[[0.0,\"#0d0887\"],[0.1111111111111111,\"#46039f\"],[0.2222222222222222,\"#7201a8\"],[0.3333333333333333,\"#9c179e\"],[0.4444444444444444,\"#bd3786\"],[0.5555555555555556,\"#d8576b\"],[0.6666666666666666,\"#ed7953\"],[0.7777777777777778,\"#fb9f3a\"],[0.8888888888888888,\"#fdca26\"],[1.0,\"#f0f921\"]],\"sequentialminus\":[[0.0,\"#0d0887\"],[0.1111111111111111,\"#46039f\"],[0.2222222222222222,\"#7201a8\"],[0.3333333333333333,\"#9c179e\"],[0.4444444444444444,\"#bd3786\"],[0.5555555555555556,\"#d8576b\"],[0.6666666666666666,\"#ed7953\"],[0.7777777777777778,\"#fb9f3a\"],[0.8888888888888888,\"#fdca26\"],[1.0,\"#f0f921\"]]},\"colorway\":[\"#636efa\",\"#EF553B\",\"#00cc96\",\"#ab63fa\",\"#FFA15A\",\"#19d3f3\",\"#FF6692\",\"#B6E880\",\"#FF97FF\",\"#FECB52\"],\"font\":{\"color\":\"#2a3f5f\"},\"geo\":{\"bgcolor\":\"white\",\"lakecolor\":\"white\",\"landcolor\":\"#E5ECF6\",\"showlakes\":true,\"showland\":true,\"subunitcolor\":\"white\"},\"hoverlabel\":{\"align\":\"left\"},\"hovermode\":\"closest\",\"mapbox\":{\"style\":\"light\"},\"paper_bgcolor\":\"white\",\"plot_bgcolor\":\"#E5ECF6\",\"polar\":{\"angularaxis\":{\"gridcolor\":\"white\",\"linecolor\":\"white\",\"ticks\":\"\"},\"bgcolor\":\"#E5ECF6\",\"radialaxis\":{\"gridcolor\":\"white\",\"linecolor\":\"white\",\"ticks\":\"\"}},\"scene\":{\"xaxis\":{\"backgroundcolor\":\"#E5ECF6\",\"gridcolor\":\"white\",\"gridwidth\":2,\"linecolor\":\"white\",\"showbackground\":true,\"ticks\":\"\",\"zerolinecolor\":\"white\"},\"yaxis\":{\"backgroundcolor\":\"#E5ECF6\",\"gridcolor\":\"white\",\"gridwidth\":2,\"linecolor\":\"white\",\"showbackground\":true,\"ticks\":\"\",\"zerolinecolor\":\"white\"},\"zaxis\":{\"backgroundcolor\":\"#E5ECF6\",\"gridcolor\":\"white\",\"gridwidth\":2,\"linecolor\":\"white\",\"showbackground\":true,\"ticks\":\"\",\"zerolinecolor\":\"white\"}},\"shapedefaults\":{\"line\":{\"color\":\"#2a3f5f\"}},\"ternary\":{\"aaxis\":{\"gridcolor\":\"white\",\"linecolor\":\"white\",\"ticks\":\"\"},\"baxis\":{\"gridcolor\":\"white\",\"linecolor\":\"white\",\"ticks\":\"\"},\"bgcolor\":\"#E5ECF6\",\"caxis\":{\"gridcolor\":\"white\",\"linecolor\":\"white\",\"ticks\":\"\"}},\"title\":{\"x\":0.05},\"xaxis\":{\"automargin\":true,\"gridcolor\":\"white\",\"linecolor\":\"white\",\"ticks\":\"\",\"title\":{\"standoff\":15},\"zerolinecolor\":\"white\",\"zerolinewidth\":2},\"yaxis\":{\"automargin\":true,\"gridcolor\":\"white\",\"linecolor\":\"white\",\"ticks\":\"\",\"title\":{\"standoff\":15},\"zerolinecolor\":\"white\",\"zerolinewidth\":2}}},\"xaxis\":{\"anchor\":\"y\",\"domain\":[0.0,1.0],\"title\":{\"text\":\"value\"}},\"yaxis\":{\"anchor\":\"x\",\"domain\":[0.0,1.0],\"title\":{\"text\":\"count\"}},\"legend\":{\"title\":{\"text\":\"variable\"},\"tracegroupgap\":0},\"margin\":{\"t\":60},\"barmode\":\"relative\",\"height\":400,\"width\":600},                        {\"responsive\": true}                    ).then(function(){\n",
              "                            \n",
              "var gd = document.getElementById('eaa2d912-8b44-4546-8ddd-514005778dca');\n",
              "var x = new MutationObserver(function (mutations, observer) {{\n",
              "        var display = window.getComputedStyle(gd).display;\n",
              "        if (!display || display === 'none') {{\n",
              "            console.log([gd, 'removed!']);\n",
              "            Plotly.purge(gd);\n",
              "            observer.disconnect();\n",
              "        }}\n",
              "}});\n",
              "\n",
              "// Listen for the removal of the full notebook cells\n",
              "var notebookContainer = gd.closest('#notebook-container');\n",
              "if (notebookContainer) {{\n",
              "    x.observe(notebookContainer, {childList: true});\n",
              "}}\n",
              "\n",
              "// Listen for the clearing of the current output cell\n",
              "var outputEl = gd.closest('.output');\n",
              "if (outputEl) {{\n",
              "    x.observe(outputEl, {childList: true});\n",
              "}}\n",
              "\n",
              "                        })                };                            </script>        </div>\n",
              "</body>\n",
              "</html>"
            ]
          },
          "metadata": {}
        }
      ]
    },
    {
      "cell_type": "markdown",
      "source": [
        "From the above bar plot it can be seen 500 people in the dataset are non-diabetic and 268 are diabetic. "
      ],
      "metadata": {
        "id": "VetSRNIAteHF"
      }
    },
    {
      "cell_type": "code",
      "source": [
        "fig = px.histogram(df_copy['BloodPressure'], nbins = 10, color = df[\"Outcome\"])\n",
        "fig.update_layout(height=400, width=600)\n",
        "fig.update_traces(opacity = 0.65)"
      ],
      "metadata": {
        "colab": {
          "base_uri": "https://localhost:8080/",
          "height": 417
        },
        "id": "Agv_9Yw5shnU",
        "outputId": "e6e71b58-d42e-4696-9f1d-0984b7260dbd"
      },
      "execution_count": null,
      "outputs": [
        {
          "output_type": "display_data",
          "data": {
            "text/html": [
              "<html>\n",
              "<head><meta charset=\"utf-8\" /></head>\n",
              "<body>\n",
              "    <div>            <script src=\"https://cdnjs.cloudflare.com/ajax/libs/mathjax/2.7.5/MathJax.js?config=TeX-AMS-MML_SVG\"></script><script type=\"text/javascript\">if (window.MathJax) {MathJax.Hub.Config({SVG: {font: \"STIX-Web\"}});}</script>                <script type=\"text/javascript\">window.PlotlyConfig = {MathJaxConfig: 'local'};</script>\n",
              "        <script src=\"https://cdn.plot.ly/plotly-2.8.3.min.js\"></script>                <div id=\"291e4c2c-3bac-45ac-948b-454e48d9e8d9\" class=\"plotly-graph-div\" style=\"height:400px; width:600px;\"></div>            <script type=\"text/javascript\">                                    window.PLOTLYENV=window.PLOTLYENV || {};                                    if (document.getElementById(\"291e4c2c-3bac-45ac-948b-454e48d9e8d9\")) {                    Plotly.newPlot(                        \"291e4c2c-3bac-45ac-948b-454e48d9e8d9\",                        [{\"alignmentgroup\":\"True\",\"bingroup\":\"x\",\"hovertemplate\":\"color=1<br>value=%{x}<br>count=%{y}<extra></extra>\",\"legendgroup\":\"1\",\"marker\":{\"color\":\"#636efa\",\"pattern\":{\"shape\":\"\"}},\"name\":\"1\",\"nbinsx\":10,\"offsetgroup\":\"1\",\"orientation\":\"v\",\"showlegend\":true,\"x\":[72.0,64.0,40.0,50.0,70.0,96.0,74.0,60.0,72.0,72.40518417462484,84.0,74.0,70.0,90.0,80.0,94.0,70.0,76.0,76.0,76.0,68.0,72.0,110.0,66.0,66.0,90.0,68.0,72.0,66.0,88.0,66.0,90.0,72.40518417462484,108.0,70.0,72.0,90.0,72.0,85.0,72.0,62.0,54.0,92.0,74.0,76.0,76.0,30.0,88.0,84.0,70.0,56.0,64.0,66.0,86.0,78.0,88.0,72.0,88.0,74.0,82.0,70.0,72.0,110.0,82.0,68.0,68.0,98.0,76.0,80.0,66.0,72.40518417462484,84.0,62.0,64.0,60.0,76.0,104.0,84.0,65.0,82.0,70.0,62.0,74.0,66.0,60.0,90.0,52.0,86.0,80.0,72.0,84.0,90.0,84.0,54.0,50.0,85.0,62.0,64.0,76.0,72.40518417462484,62.0,72.40518417462484,72.40518417462484,86.0,60.0,70.0,86.0,80.0,86.0,62.0,78.0,48.0,70.0,78.0,72.40518417462484,58.0,98.0,68.0,68.0,68.0,74.0,80.0,74.0,78.0,74.0,70.0,90.0,64.0,86.0,72.40518417462484,76.0,78.0,84.0,80.0,88.0,50.0,72.40518417462484,76.0,64.0,78.0,72.0,102.0,82.0,82.0,75.0,74.0,100.0,82.0,76.0,78.0,66.0,70.0,64.0,84.0,64.0,72.0,74.0,68.0,60.0,84.0,82.0,64.0,78.0,78.0,64.0,82.0,72.40518417462484,104.0,70.0,62.0,78.0,64.0,70.0,62.0,84.0,72.40518417462484,80.0,70.0,72.40518417462484,68.0,70.0,70.0,68.0,90.0,72.0,70.0,88.0,70.0,72.40518417462484,92.0,74.0,72.0,85.0,90.0,76.0,76.0,66.0,66.0,80.0,70.0,90.0,76.0,66.0,86.0,84.0,80.0,82.0,74.0,78.0,72.40518417462484,78.0,58.0,88.0,74.0,82.0,72.40518417462484,64.0,72.0,76.0,80.0,74.0,50.0,84.0,52.0,82.0,76.0,106.0,80.0,60.0,82.0,70.0,70.0,86.0,52.0,76.0,80.0,82.0,114.0,68.0,90.0,74.0,78.0,88.0,72.40518417462484,78.0,64.0,62.0,50.0,78.0,76.0,68.0,78.0,86.0,88.0,74.0,80.0,94.0,94.0,70.0,62.0,70.0,88.0,78.0,88.0,72.0,92.0,74.0,60.0],\"xaxis\":\"x\",\"yaxis\":\"y\",\"type\":\"histogram\",\"opacity\":0.65},{\"alignmentgroup\":\"True\",\"bingroup\":\"x\",\"hovertemplate\":\"color=0<br>value=%{x}<br>count=%{y}<extra></extra>\",\"legendgroup\":\"0\",\"marker\":{\"color\":\"#EF553B\",\"pattern\":{\"shape\":\"\"}},\"name\":\"0\",\"nbinsx\":10,\"offsetgroup\":\"0\",\"orientation\":\"v\",\"showlegend\":true,\"x\":[66.0,66.0,74.0,72.40518417462484,92.0,80.0,30.0,88.0,84.0,66.0,82.0,92.0,75.0,58.0,92.0,78.0,60.0,76.0,64.0,84.0,92.0,64.0,56.0,70.0,72.40518417462484,80.0,50.0,66.0,66.0,50.0,88.0,82.0,64.0,72.40518417462484,62.0,58.0,74.0,92.0,66.0,85.0,64.0,86.0,75.0,48.0,78.0,72.0,66.0,44.0,72.40518417462484,78.0,65.0,74.0,72.0,68.0,68.0,55.0,80.0,78.0,82.0,72.0,62.0,48.0,50.0,60.0,96.0,72.0,65.0,56.0,122.0,58.0,58.0,76.0,62.0,48.0,60.0,76.0,64.0,74.0,80.0,70.0,58.0,74.0,68.0,60.0,70.0,60.0,80.0,72.0,78.0,82.0,52.0,62.0,75.0,80.0,64.0,78.0,70.0,74.0,65.0,82.0,52.0,56.0,74.0,90.0,74.0,80.0,64.0,66.0,68.0,66.0,90.0,72.40518417462484,60.0,64.0,78.0,78.0,80.0,64.0,74.0,60.0,74.0,62.0,70.0,55.0,58.0,80.0,82.0,68.0,70.0,72.0,72.0,64.0,60.0,85.0,95.0,68.0,72.40518417462484,60.0,66.0,78.0,76.0,70.0,80.0,80.0,68.0,68.0,76.0,64.0,70.0,76.0,68.0,90.0,70.0,86.0,52.0,84.0,80.0,68.0,56.0,68.0,50.0,68.0,70.0,80.0,74.0,64.0,52.0,62.0,78.0,78.0,70.0,70.0,64.0,74.0,62.0,76.0,88.0,74.0,84.0,56.0,72.0,88.0,50.0,62.0,84.0,72.0,82.0,76.0,76.0,68.0,66.0,70.0,50.0,68.0,80.0,66.0,60.0,75.0,72.0,70.0,70.0,72.0,58.0,80.0,60.0,76.0,72.40518417462484,70.0,74.0,68.0,86.0,72.0,88.0,46.0,72.40518417462484,62.0,80.0,84.0,82.0,62.0,78.0,74.0,70.0,108.0,74.0,54.0,64.0,86.0,64.0,64.0,58.0,52.0,82.0,60.0,100.0,72.0,68.0,60.0,62.0,70.0,54.0,68.0,66.0,64.0,72.0,58.0,56.0,70.0,61.0,78.0,48.0,62.0,90.0,72.0,84.0,74.0,68.0,68.0,88.0,68.0,64.0,64.0,72.40518417462484,94.0,72.40518417462484,74.0,74.0,75.0,68.0,85.0,75.0,70.0,88.0,66.0,64.0,72.0,80.0,74.0,64.0,68.0,72.40518417462484,54.0,54.0,68.0,74.0,72.0,62.0,70.0,78.0,98.0,56.0,52.0,64.0,78.0,82.0,70.0,66.0,90.0,64.0,84.0,76.0,74.0,86.0,88.0,58.0,82.0,62.0,78.0,72.0,80.0,65.0,90.0,68.0,72.40518417462484,74.0,68.0,72.0,74.0,90.0,72.0,64.0,78.0,82.0,60.0,50.0,78.0,62.0,68.0,62.0,54.0,86.0,60.0,90.0,70.0,80.0,72.40518417462484,58.0,60.0,64.0,74.0,66.0,65.0,60.0,76.0,66.0,72.40518417462484,56.0,90.0,60.0,80.0,90.0,78.0,68.0,82.0,110.0,70.0,68.0,88.0,62.0,64.0,70.0,70.0,76.0,68.0,74.0,68.0,60.0,80.0,54.0,72.0,62.0,72.0,70.0,96.0,58.0,60.0,86.0,44.0,44.0,68.0,60.0,78.0,76.0,56.0,66.0,72.40518417462484,78.0,52.0,72.0,76.0,24.0,38.0,88.0,72.40518417462484,74.0,60.0,62.0,82.0,62.0,54.0,80.0,72.0,96.0,62.0,86.0,76.0,94.0,70.0,64.0,88.0,68.0,78.0,80.0,65.0,78.0,60.0,82.0,62.0,74.0,76.0,74.0,86.0,70.0,72.40518417462484,72.0,74.0,60.0,54.0,60.0,74.0,54.0,70.0,58.0,80.0,106.0,84.0,80.0,58.0,78.0,68.0,58.0,106.0,100.0,82.0,60.0,58.0,56.0,64.0,82.0,74.0,64.0,50.0,74.0,80.0,70.0,60.0,72.40518417462484,88.0,70.0,76.0,72.40518417462484,76.0,80.0,46.0,64.0,78.0,58.0,74.0,72.0,60.0,86.0,66.0,86.0,94.0,78.0,78.0,84.0,88.0,52.0,56.0,75.0,60.0,86.0,72.0,60.0,44.0,58.0,88.0,84.0,74.0,78.0,62.0,90.0,76.0,58.0,62.0,76.0,70.0,72.0,70.0],\"xaxis\":\"x\",\"yaxis\":\"y\",\"type\":\"histogram\",\"opacity\":0.65}],                        {\"template\":{\"data\":{\"bar\":[{\"error_x\":{\"color\":\"#2a3f5f\"},\"error_y\":{\"color\":\"#2a3f5f\"},\"marker\":{\"line\":{\"color\":\"#E5ECF6\",\"width\":0.5},\"pattern\":{\"fillmode\":\"overlay\",\"size\":10,\"solidity\":0.2}},\"type\":\"bar\"}],\"barpolar\":[{\"marker\":{\"line\":{\"color\":\"#E5ECF6\",\"width\":0.5},\"pattern\":{\"fillmode\":\"overlay\",\"size\":10,\"solidity\":0.2}},\"type\":\"barpolar\"}],\"carpet\":[{\"aaxis\":{\"endlinecolor\":\"#2a3f5f\",\"gridcolor\":\"white\",\"linecolor\":\"white\",\"minorgridcolor\":\"white\",\"startlinecolor\":\"#2a3f5f\"},\"baxis\":{\"endlinecolor\":\"#2a3f5f\",\"gridcolor\":\"white\",\"linecolor\":\"white\",\"minorgridcolor\":\"white\",\"startlinecolor\":\"#2a3f5f\"},\"type\":\"carpet\"}],\"choropleth\":[{\"colorbar\":{\"outlinewidth\":0,\"ticks\":\"\"},\"type\":\"choropleth\"}],\"contour\":[{\"colorbar\":{\"outlinewidth\":0,\"ticks\":\"\"},\"colorscale\":[[0.0,\"#0d0887\"],[0.1111111111111111,\"#46039f\"],[0.2222222222222222,\"#7201a8\"],[0.3333333333333333,\"#9c179e\"],[0.4444444444444444,\"#bd3786\"],[0.5555555555555556,\"#d8576b\"],[0.6666666666666666,\"#ed7953\"],[0.7777777777777778,\"#fb9f3a\"],[0.8888888888888888,\"#fdca26\"],[1.0,\"#f0f921\"]],\"type\":\"contour\"}],\"contourcarpet\":[{\"colorbar\":{\"outlinewidth\":0,\"ticks\":\"\"},\"type\":\"contourcarpet\"}],\"heatmap\":[{\"colorbar\":{\"outlinewidth\":0,\"ticks\":\"\"},\"colorscale\":[[0.0,\"#0d0887\"],[0.1111111111111111,\"#46039f\"],[0.2222222222222222,\"#7201a8\"],[0.3333333333333333,\"#9c179e\"],[0.4444444444444444,\"#bd3786\"],[0.5555555555555556,\"#d8576b\"],[0.6666666666666666,\"#ed7953\"],[0.7777777777777778,\"#fb9f3a\"],[0.8888888888888888,\"#fdca26\"],[1.0,\"#f0f921\"]],\"type\":\"heatmap\"}],\"heatmapgl\":[{\"colorbar\":{\"outlinewidth\":0,\"ticks\":\"\"},\"colorscale\":[[0.0,\"#0d0887\"],[0.1111111111111111,\"#46039f\"],[0.2222222222222222,\"#7201a8\"],[0.3333333333333333,\"#9c179e\"],[0.4444444444444444,\"#bd3786\"],[0.5555555555555556,\"#d8576b\"],[0.6666666666666666,\"#ed7953\"],[0.7777777777777778,\"#fb9f3a\"],[0.8888888888888888,\"#fdca26\"],[1.0,\"#f0f921\"]],\"type\":\"heatmapgl\"}],\"histogram\":[{\"marker\":{\"pattern\":{\"fillmode\":\"overlay\",\"size\":10,\"solidity\":0.2}},\"type\":\"histogram\"}],\"histogram2d\":[{\"colorbar\":{\"outlinewidth\":0,\"ticks\":\"\"},\"colorscale\":[[0.0,\"#0d0887\"],[0.1111111111111111,\"#46039f\"],[0.2222222222222222,\"#7201a8\"],[0.3333333333333333,\"#9c179e\"],[0.4444444444444444,\"#bd3786\"],[0.5555555555555556,\"#d8576b\"],[0.6666666666666666,\"#ed7953\"],[0.7777777777777778,\"#fb9f3a\"],[0.8888888888888888,\"#fdca26\"],[1.0,\"#f0f921\"]],\"type\":\"histogram2d\"}],\"histogram2dcontour\":[{\"colorbar\":{\"outlinewidth\":0,\"ticks\":\"\"},\"colorscale\":[[0.0,\"#0d0887\"],[0.1111111111111111,\"#46039f\"],[0.2222222222222222,\"#7201a8\"],[0.3333333333333333,\"#9c179e\"],[0.4444444444444444,\"#bd3786\"],[0.5555555555555556,\"#d8576b\"],[0.6666666666666666,\"#ed7953\"],[0.7777777777777778,\"#fb9f3a\"],[0.8888888888888888,\"#fdca26\"],[1.0,\"#f0f921\"]],\"type\":\"histogram2dcontour\"}],\"mesh3d\":[{\"colorbar\":{\"outlinewidth\":0,\"ticks\":\"\"},\"type\":\"mesh3d\"}],\"parcoords\":[{\"line\":{\"colorbar\":{\"outlinewidth\":0,\"ticks\":\"\"}},\"type\":\"parcoords\"}],\"pie\":[{\"automargin\":true,\"type\":\"pie\"}],\"scatter\":[{\"marker\":{\"colorbar\":{\"outlinewidth\":0,\"ticks\":\"\"}},\"type\":\"scatter\"}],\"scatter3d\":[{\"line\":{\"colorbar\":{\"outlinewidth\":0,\"ticks\":\"\"}},\"marker\":{\"colorbar\":{\"outlinewidth\":0,\"ticks\":\"\"}},\"type\":\"scatter3d\"}],\"scattercarpet\":[{\"marker\":{\"colorbar\":{\"outlinewidth\":0,\"ticks\":\"\"}},\"type\":\"scattercarpet\"}],\"scattergeo\":[{\"marker\":{\"colorbar\":{\"outlinewidth\":0,\"ticks\":\"\"}},\"type\":\"scattergeo\"}],\"scattergl\":[{\"marker\":{\"colorbar\":{\"outlinewidth\":0,\"ticks\":\"\"}},\"type\":\"scattergl\"}],\"scattermapbox\":[{\"marker\":{\"colorbar\":{\"outlinewidth\":0,\"ticks\":\"\"}},\"type\":\"scattermapbox\"}],\"scatterpolar\":[{\"marker\":{\"colorbar\":{\"outlinewidth\":0,\"ticks\":\"\"}},\"type\":\"scatterpolar\"}],\"scatterpolargl\":[{\"marker\":{\"colorbar\":{\"outlinewidth\":0,\"ticks\":\"\"}},\"type\":\"scatterpolargl\"}],\"scatterternary\":[{\"marker\":{\"colorbar\":{\"outlinewidth\":0,\"ticks\":\"\"}},\"type\":\"scatterternary\"}],\"surface\":[{\"colorbar\":{\"outlinewidth\":0,\"ticks\":\"\"},\"colorscale\":[[0.0,\"#0d0887\"],[0.1111111111111111,\"#46039f\"],[0.2222222222222222,\"#7201a8\"],[0.3333333333333333,\"#9c179e\"],[0.4444444444444444,\"#bd3786\"],[0.5555555555555556,\"#d8576b\"],[0.6666666666666666,\"#ed7953\"],[0.7777777777777778,\"#fb9f3a\"],[0.8888888888888888,\"#fdca26\"],[1.0,\"#f0f921\"]],\"type\":\"surface\"}],\"table\":[{\"cells\":{\"fill\":{\"color\":\"#EBF0F8\"},\"line\":{\"color\":\"white\"}},\"header\":{\"fill\":{\"color\":\"#C8D4E3\"},\"line\":{\"color\":\"white\"}},\"type\":\"table\"}]},\"layout\":{\"annotationdefaults\":{\"arrowcolor\":\"#2a3f5f\",\"arrowhead\":0,\"arrowwidth\":1},\"autotypenumbers\":\"strict\",\"coloraxis\":{\"colorbar\":{\"outlinewidth\":0,\"ticks\":\"\"}},\"colorscale\":{\"diverging\":[[0,\"#8e0152\"],[0.1,\"#c51b7d\"],[0.2,\"#de77ae\"],[0.3,\"#f1b6da\"],[0.4,\"#fde0ef\"],[0.5,\"#f7f7f7\"],[0.6,\"#e6f5d0\"],[0.7,\"#b8e186\"],[0.8,\"#7fbc41\"],[0.9,\"#4d9221\"],[1,\"#276419\"]],\"sequential\":[[0.0,\"#0d0887\"],[0.1111111111111111,\"#46039f\"],[0.2222222222222222,\"#7201a8\"],[0.3333333333333333,\"#9c179e\"],[0.4444444444444444,\"#bd3786\"],[0.5555555555555556,\"#d8576b\"],[0.6666666666666666,\"#ed7953\"],[0.7777777777777778,\"#fb9f3a\"],[0.8888888888888888,\"#fdca26\"],[1.0,\"#f0f921\"]],\"sequentialminus\":[[0.0,\"#0d0887\"],[0.1111111111111111,\"#46039f\"],[0.2222222222222222,\"#7201a8\"],[0.3333333333333333,\"#9c179e\"],[0.4444444444444444,\"#bd3786\"],[0.5555555555555556,\"#d8576b\"],[0.6666666666666666,\"#ed7953\"],[0.7777777777777778,\"#fb9f3a\"],[0.8888888888888888,\"#fdca26\"],[1.0,\"#f0f921\"]]},\"colorway\":[\"#636efa\",\"#EF553B\",\"#00cc96\",\"#ab63fa\",\"#FFA15A\",\"#19d3f3\",\"#FF6692\",\"#B6E880\",\"#FF97FF\",\"#FECB52\"],\"font\":{\"color\":\"#2a3f5f\"},\"geo\":{\"bgcolor\":\"white\",\"lakecolor\":\"white\",\"landcolor\":\"#E5ECF6\",\"showlakes\":true,\"showland\":true,\"subunitcolor\":\"white\"},\"hoverlabel\":{\"align\":\"left\"},\"hovermode\":\"closest\",\"mapbox\":{\"style\":\"light\"},\"paper_bgcolor\":\"white\",\"plot_bgcolor\":\"#E5ECF6\",\"polar\":{\"angularaxis\":{\"gridcolor\":\"white\",\"linecolor\":\"white\",\"ticks\":\"\"},\"bgcolor\":\"#E5ECF6\",\"radialaxis\":{\"gridcolor\":\"white\",\"linecolor\":\"white\",\"ticks\":\"\"}},\"scene\":{\"xaxis\":{\"backgroundcolor\":\"#E5ECF6\",\"gridcolor\":\"white\",\"gridwidth\":2,\"linecolor\":\"white\",\"showbackground\":true,\"ticks\":\"\",\"zerolinecolor\":\"white\"},\"yaxis\":{\"backgroundcolor\":\"#E5ECF6\",\"gridcolor\":\"white\",\"gridwidth\":2,\"linecolor\":\"white\",\"showbackground\":true,\"ticks\":\"\",\"zerolinecolor\":\"white\"},\"zaxis\":{\"backgroundcolor\":\"#E5ECF6\",\"gridcolor\":\"white\",\"gridwidth\":2,\"linecolor\":\"white\",\"showbackground\":true,\"ticks\":\"\",\"zerolinecolor\":\"white\"}},\"shapedefaults\":{\"line\":{\"color\":\"#2a3f5f\"}},\"ternary\":{\"aaxis\":{\"gridcolor\":\"white\",\"linecolor\":\"white\",\"ticks\":\"\"},\"baxis\":{\"gridcolor\":\"white\",\"linecolor\":\"white\",\"ticks\":\"\"},\"bgcolor\":\"#E5ECF6\",\"caxis\":{\"gridcolor\":\"white\",\"linecolor\":\"white\",\"ticks\":\"\"}},\"title\":{\"x\":0.05},\"xaxis\":{\"automargin\":true,\"gridcolor\":\"white\",\"linecolor\":\"white\",\"ticks\":\"\",\"title\":{\"standoff\":15},\"zerolinecolor\":\"white\",\"zerolinewidth\":2},\"yaxis\":{\"automargin\":true,\"gridcolor\":\"white\",\"linecolor\":\"white\",\"ticks\":\"\",\"title\":{\"standoff\":15},\"zerolinecolor\":\"white\",\"zerolinewidth\":2}}},\"xaxis\":{\"anchor\":\"y\",\"domain\":[0.0,1.0],\"title\":{\"text\":\"value\"}},\"yaxis\":{\"anchor\":\"x\",\"domain\":[0.0,1.0],\"title\":{\"text\":\"count\"}},\"legend\":{\"title\":{\"text\":\"color\"},\"tracegroupgap\":0},\"margin\":{\"t\":60},\"barmode\":\"relative\",\"height\":400,\"width\":600},                        {\"responsive\": true}                    ).then(function(){\n",
              "                            \n",
              "var gd = document.getElementById('291e4c2c-3bac-45ac-948b-454e48d9e8d9');\n",
              "var x = new MutationObserver(function (mutations, observer) {{\n",
              "        var display = window.getComputedStyle(gd).display;\n",
              "        if (!display || display === 'none') {{\n",
              "            console.log([gd, 'removed!']);\n",
              "            Plotly.purge(gd);\n",
              "            observer.disconnect();\n",
              "        }}\n",
              "}});\n",
              "\n",
              "// Listen for the removal of the full notebook cells\n",
              "var notebookContainer = gd.closest('#notebook-container');\n",
              "if (notebookContainer) {{\n",
              "    x.observe(notebookContainer, {childList: true});\n",
              "}}\n",
              "\n",
              "// Listen for the clearing of the current output cell\n",
              "var outputEl = gd.closest('.output');\n",
              "if (outputEl) {{\n",
              "    x.observe(outputEl, {childList: true});\n",
              "}}\n",
              "\n",
              "                        })                };                            </script>        </div>\n",
              "</body>\n",
              "</html>"
            ]
          },
          "metadata": {}
        }
      ]
    },
    {
      "cell_type": "code",
      "source": [],
      "metadata": {
        "id": "TeJ3PjZhwREX"
      },
      "execution_count": null,
      "outputs": []
    }
  ]
}